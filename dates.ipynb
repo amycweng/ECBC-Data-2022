{
 "cells": [
  {
   "cell_type": "code",
   "execution_count": null,
   "metadata": {},
   "outputs": [],
   "source": [
    "import os \n",
    "import re \n",
    "import matplotlib.pyplot as plt\n",
    "import numpy as np\n",
    "\n",
    "def scatter(dates,freqs,title,color,x_label,y_label):\n",
    "    xData = list(map(int, dates))\n",
    "    yData = list(map(int, freqs))\n",
    "    \n",
    "    xyCoords=np.c_[xData,yData]\n",
    "    \n",
    "    uniquePoints, counts = np.unique(xyCoords, return_counts=True,axis=0)\n",
    "    plt.scatter(uniquePoints[:,0],uniquePoints[:,1],s=counts*100,c=color,)\n",
    "\n",
    "    fig = plt.gcf()\n",
    "    fig.set_size_inches(15, 10)\n",
    "\n",
    "    plt.xlabel(x_label, fontsize=20)\n",
    "    plt.ylabel(y_label, fontsize=20)\n",
    "    \n",
    "    plt.title(title,fontsize=25)\n",
    "    \n",
    "    plt.show()\n",
    "\n",
    "def bar(xData,yData,title,xlabel,ylabel):\n",
    "    if (xData == \"Year\"):\n",
    "        xData = list(map(int, xData))\n",
    "        yData = list(map(int, yData))\n",
    "    \n",
    "    plt.figure(figsize = (15, 10))\n",
    "\n",
    "    plt.bar(xData,yData,color='purple')\n",
    "    \n",
    "    plt.title(title, fontsize=20)\n",
    "    \n",
    "    plt.xlabel(xlabel, fontsize=15)\n",
    "    plt.ylabel(ylabel, fontsize=15)\n",
    "    \n",
    "    plt.show()"
   ]
  },
  {
   "cell_type": "code",
   "execution_count": null,
   "metadata": {},
   "outputs": [],
   "source": [
    "dir = '/srv/data/ECBC-Data-2022/Text_Files'\n",
    "f1 = 'eebo_phase1_IDs_and_dates.txt'\n",
    "f2 = 'EEBO_Phase2_IDs_and_dates.txt' \n",
    "\n",
    "def getDates(folder,f,dRanges,unknown,ourTimes):\n",
    "    file = os.path.join(folder,f)\n",
    "    data = open(file,'r')\n",
    "    data = data.readlines()\n",
    "    dates = {}\n",
    "    for d in data:\n",
    "        datum = d.replace('\\n','')\n",
    "        datum = d.split('\\t')\n",
    "        id = datum[0]\n",
    "        date = datum[1].replace('\\n','')\n",
    "        date = date.replace('?','')\n",
    "        \n",
    "        if re.search('-',date):\n",
    "            # only look at the start date \n",
    "            r = date.split('-')\n",
    "            dRanges[id] = date\n",
    "            date = r[0] \n",
    "            # if re.search('u', r[1]) or r[1].find('?') != -1:\n",
    "            #     unknown[id] = dRanges[id]\n",
    "            # continue\n",
    "      \n",
    "        if re.search('u', date): #or date.find('?') != -1:\n",
    "            unknown[id] = date\n",
    "            if re.search('\\d{3}',date):\n",
    "                estimate = re.findall('\\d{3}',date)[0]\n",
    "                if estimate in range(158,164):\n",
    "                    date = estimate + '0'\n",
    "                else:\n",
    "                    continue\n",
    "            else:\n",
    "                continue\n",
    "        \n",
    "        value = int(date)\n",
    "        if value in range(1580,1640+2):\n",
    "            ourTimes[id] = value  \n",
    "            if value not in dates.keys():\n",
    "                dates[value] = []\n",
    "            else:\n",
    "                dates[value].append(id)\n",
    "    \n",
    "    print(\"There are \" + str(len(ourTimes)) + \" texts within 1580-1641 (including the first estimated date in a range), \" + \n",
    "            str(len(dRanges)) + \" texts with date ranges, and\", \n",
    "            str(len(unknown)) + \" texts with unknown dates (marked with a 'u').\")\n",
    "    # print(f\"Here are the texts within your range: {ourTimes}\")\n",
    "    # print(f\"Here are the texts with a time range: {dRanges}\")\n",
    "    # print(f\"These are the texts with unknown dates: {unknown}\")\n",
    "    return dates,unknown,dRanges,ourTimes\n",
    "\n",
    "def plotFreqs(dList):\n",
    "    freqs = {}\n",
    "    for dict in dList: \n",
    "        for key in dict.keys():\n",
    "            if key not in freqs.keys():\n",
    "                freqs[key] = len(dict[key])\n",
    "            else: \n",
    "                freqs[key] += len(dict[key])\n",
    "    scatter(freqs.keys(),freqs.values(),\"TCP Texts Per Year\",\"purple\",\"Year\",\"Number of TCP Texts\")\n",
    "    bar(freqs.keys(),freqs.values(),\"TCP Texts Per Year\",\"Year\",\"Number of TCP Texts\")"
   ]
  },
  {
   "cell_type": "code",
   "execution_count": null,
   "metadata": {},
   "outputs": [],
   "source": [
    "print('Phase I')\n",
    "d1 = getDates(dir,f1,{},{},{})\n",
    "print('Phase II')\n",
    "d2 = getDates(dir,f2,{},{},{})"
   ]
  },
  {
   "cell_type": "code",
   "execution_count": null,
   "metadata": {},
   "outputs": [],
   "source": [
    "relevant = open('/srv/data/ECBC-Data-2022/Text_Files/relevant.txt','a+')\n",
    "info = d1[3]\n",
    "for k in d2[3].keys():\n",
    "    info[k] = d2[3][k]\n",
    "for id in info:\n",
    "    relevant.write(id+'\\n')\n",
    "relevant.close()"
   ]
  },
  {
   "cell_type": "code",
   "execution_count": null,
   "metadata": {},
   "outputs": [],
   "source": [
    "plotFreqs([d1[0],d2[0]])"
   ]
  },
  {
   "cell_type": "code",
   "execution_count": null,
   "metadata": {},
   "outputs": [],
   "source": [
    "def plotUnknowns(list):\n",
    "    freqs = {}\n",
    "    for d in list: \n",
    "        for id in d.keys(): \n",
    "            start = d[id].split('-')[0]\n",
    "            if start.find('?') != -1 or re.search('u',start):\n",
    "                print(start)\n",
    "                continue\n",
    "            else:\n",
    "                if start not in freqs.keys():\n",
    "                    freqs[start] = 1\n",
    "                else:\n",
    "                    freqs[start] += 1 \n",
    "    print(sorted (freqs.items(), key=lambda kv:(kv[1], kv[0]), reverse=True))\n",
    "    scatter(freqs.keys(),freqs.values(),\"TCP Texts w/ Date Ranges\",\"purple\",\"Earliest Estimated Date\",\"Number of TCP Texts\")\n",
    "\n",
    "plotUnknowns([d1[2],d2[2]])"
   ]
  },
  {
   "cell_type": "code",
   "execution_count": null,
   "metadata": {},
   "outputs": [],
   "source": [
    "def getIDs(list):\n",
    "    for dict in list:\n",
    "        names = []\n",
    "        for key in dict.keys():\n",
    "            names.append(key)\n",
    "        return names\n",
    "print(getIDs([d1[2],d2[2]]))\n"
   ]
  },
  {
   "cell_type": "code",
   "execution_count": null,
   "metadata": {},
   "outputs": [],
   "source": [
    "output = '/srv/data/dateRangeTextNames.txt'\n",
    "names = getIDs([d1[2],d2[2]])\n",
    "file = open(output,'a+')\n",
    "count = 0\n",
    "for name in names:\n",
    "    count += 1\n",
    "    file.write(name + '\\n')\n",
    "print(count)\n",
    "file.close()"
   ]
  },
  {
   "cell_type": "code",
   "execution_count": null,
   "metadata": {},
   "outputs": [],
   "source": [
    "d1 = getDates(dir,f1,{},{},{})\n",
    "d2 = getDates(dir,f2,{},{},{})\n",
    "\n",
    "epMissingInfo = open('/srv/data/ECBC-Data-2022/Text_Files/EPmissing.txt','r')\n",
    "epMissingInfo = epMissingInfo.readlines()\n",
    "names = []\n",
    "for name in epMissingInfo:\n",
    "    name = name.replace('\\n','')\n",
    "    names.append(name)\n",
    "print(len(names))\n",
    "\n",
    "relevant = d1[3]\n",
    "for n in d2[3]:\n",
    "    if n in info.keys(): \n",
    "        date = info[n]\n",
    "        relevant[n] = date\n",
    "     \n",
    "print(len(relevant))"
   ]
  },
  {
   "cell_type": "code",
   "execution_count": null,
   "metadata": {},
   "outputs": [],
   "source": [
    "relevantI,relevantII = {},{}\n",
    "for n in names:\n",
    "    if n in d1[3].keys(): \n",
    "        date = d1[3][n]\n",
    "        relevantI[n] = date\n",
    "    elif n in d2[3].keys():\n",
    "        date = d2[3][n]\n",
    "        relevantII[n] = date\n",
    "print(len(relevantI))\n",
    "print(len(relevantII))\n",
    "print(len(relevantI)+len(relevantII))"
   ]
  },
  {
   "cell_type": "code",
   "execution_count": null,
   "metadata": {},
   "outputs": [],
   "source": [
    "m = []\n",
    "for id in relevant:\n",
    "    if id in names: \n",
    "        continue\n",
    "    else:\n",
    "        m.append(id)\n",
    "print(len(m))"
   ]
  },
  {
   "cell_type": "code",
   "execution_count": null,
   "metadata": {},
   "outputs": [],
   "source": [
    "phaseImissing = '/srv/data/ECBC-Data-2022/Text_Files/relevantEPmissingPhaseI.txt'\n",
    "phaseIImissing = '/srv/data/ECBC-Data-2022/Text_Files/relevantEPmissingPhaseII.txt'\n",
    "IFile = open(phaseImissing,'a+')\n",
    "IIFile = open(phaseIImissing,'a+')\n",
    "for id in relevantI.keys():\n",
    "    IFile.write(id+' '+str(relevantI[id])+'\\n')\n",
    "IFile.close()\n",
    "for id in relevantII.keys():\n",
    "    IIFile.write(id+' '+str(relevantII[id])+'\\n')\n",
    "IIFile.close()"
   ]
  },
  {
   "cell_type": "code",
   "execution_count": null,
   "metadata": {},
   "outputs": [],
   "source": [
    "from metadata import dateTXT\n",
    "lc = {'B16512', 'A89090', 'A07559', 'A13423', 'A16139', 'B05120', 'A95296', 'A35777', 'A18988', 'A48041', 'B20144', 'A05751', 'A57996', 'A52025', 'A32196', 'A67910', 'A70068', 'A94946', 'A46883', 'A78860', 'A77466', 'A06425', 'A81942', 'A26297', 'A73587', 'A60582', 'A60096', 'A63277', 'A32195', 'A08162', 'A02472', 'A36824', 'A12609', 'A69440', 'A04014', 'A87395', 'A06920', 'A53493', 'A14027', 'A90202', 'A22327', 'A89536', 'A50702', 'A66798', 'A65620', 'A08258', 'A60307', 'A76387', 'A28784', 'B08922', 'A40298', 'A58003', 'A07605', 'A66544', 'A42937', 'A07604', 'A37407', 'A09478', 'A63691', 'A30685', 'A10526', 'A73547', 'A50866', 'A17260', 'A87300', 'A36024', 'A51285', 'A93706', 'A08154', 'A63417', 'A56517', 'B23173', 'A60019', 'A62163', 'B04361', 'A04911', 'A57999', 'A15309', 'A46313', 'A17733', 'A28875', 'A52021', 'A14028', 'A73588', 'A37114', 'B00767', 'A12218', 'A27264', 'B04078', 'A15862', 'A47670', 'A01836', 'A77465', 'A09573', 'A75487', 'A06778', 'A61934', 'A57997', 'A18694', 'A45955', 'A32740', 'A08166', 'B06274', 'A16125', 'A47555', 'A82459', 'B27386', 'A56484', 'A07915', 'A27013', 'A01839', 'A18686', 'A55667', 'A10314', 'A08239', 'B02743', 'A63439', 'A79207', 'A87578', 'A77430', 'A65565', 'A54958', 'A03734', 'A54349', 'B26438', 'A01618', 'A88889', 'A42320', 'A91882', 'A11027', 'A13128', 'A28427', 'A19712', 'A15796', 'A00985', 'A14026', 'A32751', 'A33410', 'A14397', 'B15734', 'A63414'}\n",
    "d = []\n",
    "\n",
    "dates = dateTXT()\n",
    "for name in lc: \n",
    "    date = re.findall('\\d{4}',dates[name])[0]\n",
    "    d.append(int(date))\n",
    "\n",
    "freqs = {}\n",
    "for date in d:\n",
    "    if date not in freqs.keys():\n",
    "        freqs[date] = 1\n",
    "    else:\n",
    "        freqs[date] += 1\n",
    "bar(freqs.keys(),freqs.values(),'keywordsTCP_Levant','Year','Number of TCP Texts')"
   ]
  }
 ],
 "metadata": {
  "kernelspec": {
   "display_name": "Python 3.9.12 ('base')",
   "language": "python",
   "name": "python3"
  },
  "language_info": {
   "codemirror_mode": {
    "name": "ipython",
    "version": 3
   },
   "file_extension": ".py",
   "mimetype": "text/x-python",
   "name": "python",
   "nbconvert_exporter": "python",
   "pygments_lexer": "ipython3",
   "version": "3.9.12"
  },
  "orig_nbformat": 4,
  "vscode": {
   "interpreter": {
    "hash": "163b8b902ef20465a7ecf57c45ba2fc54a366f8c8d80240b381c6f4fa0585aa7"
   }
  }
 },
 "nbformat": 4,
 "nbformat_minor": 2
}

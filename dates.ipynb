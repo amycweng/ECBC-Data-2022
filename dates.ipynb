{
 "cells": [
  {
   "cell_type": "code",
   "execution_count": 2,
   "metadata": {},
   "outputs": [],
   "source": [
    "import os \n",
    "import re \n",
    "import matplotlib.pyplot as plt\n",
    "import numpy as np\n",
    "\n",
    "def scatter(dates,freqs,title,color,x_label,y_label):\n",
    "    xData = list(map(int, dates))\n",
    "    yData = list(map(int, freqs))\n",
    "    \n",
    "    xyCoords=np.c_[xData,yData]\n",
    "    \n",
    "    uniquePoints, counts = np.unique(xyCoords, return_counts=True,axis=0)\n",
    "    plt.scatter(uniquePoints[:,0],uniquePoints[:,1],s=counts*100,c=color,)\n",
    "\n",
    "    fig = plt.gcf()\n",
    "    fig.set_size_inches(15, 10)\n",
    "\n",
    "    plt.xlabel(x_label, fontsize=20)\n",
    "    plt.ylabel(y_label, fontsize=20)\n",
    "    \n",
    "    plt.title(title,fontsize=25)\n",
    "    \n",
    "    plt.show()\n",
    "\n",
    "def bar(xData,yData,title,xlabel,ylabel):\n",
    "    if (xData == \"Year\"):\n",
    "        xData = list(map(int, xData))\n",
    "        yData = list(map(int, yData))\n",
    "    \n",
    "    plt.figure(figsize = (15, 10))\n",
    "\n",
    "    plt.bar(xData,yData,color='purple')\n",
    "    \n",
    "    plt.title(title, fontsize=20)\n",
    "    \n",
    "    plt.xlabel(xlabel, fontsize=15)\n",
    "    plt.ylabel(ylabel, fontsize=15)\n",
    "    \n",
    "    plt.show()"
   ]
  },
  {
   "cell_type": "code",
   "execution_count": 4,
   "metadata": {},
   "outputs": [],
   "source": [
    "dir = '/srv/data/'\n",
    "f1 = 'eebo_phase1_IDs_and_dates.txt'\n",
    "f2 = 'EEBO_Phase2_IDs_and_dates.txt' \n",
    "\n",
    "def getDates(folder,f,dRanges,unknown,ourTimes):\n",
    "    file = os.path.join(folder,f)\n",
    "    data = open(file,'r')\n",
    "    data = data.readlines()\n",
    "    dates = {}\n",
    "    for d in data:\n",
    "        datum = d.replace('\\n','')\n",
    "        datum = d.split('\\t')\n",
    "        id = datum[0]\n",
    "        date = datum[1].replace('\\n','')\n",
    "        \n",
    "        if re.search('-',date):\n",
    "            r = date.split('-')\n",
    "            dRanges[id] = date\n",
    "            date = r[0] \n",
    "            if re.search('u', r[1]) or r[1].find('?') != -1:\n",
    "                unknown[id] = dRanges[id]\n",
    "            # continue\n",
    "      \n",
    "        if re.search('u', date) or date.find('?') != -1:\n",
    "            unknown[id] = date\n",
    "            continue\n",
    "        \n",
    "        value = int(date)\n",
    "        if value in range(1580,1640+1):\n",
    "            ourTimes[id] = value  \n",
    "            if value not in dates.keys():\n",
    "                dates[value] = []\n",
    "            else:\n",
    "                dates[value].append(id)\n",
    "    \n",
    "    print(\"There are \" + str(len(ourTimes)) + \" texts within 1580-1640 (including the first estimated date in a range), \" + \n",
    "            str(len(dRanges)) + \" texts with date ranges, and\", \n",
    "            str(len(unknown)) + \" texts with unknown dates (marked with a 'u' or '?').\")\n",
    "    # print(f\"Here are the texts within your range: {ourTimes}\")\n",
    "    # print(f\"Here are the texts with a time range: {dRanges}\")\n",
    "    # print(f\"These are the texts with unknown dates: {unknown}\")\n",
    "    return dates,unknown,dRanges,ourTimes\n",
    "\n",
    "def plotFreqs(dList):\n",
    "    freqs = {}\n",
    "    for dict in dList: \n",
    "        for key in dict.keys():\n",
    "            if key not in freqs.keys():\n",
    "                freqs[key] = len(dict[key])\n",
    "            else: \n",
    "                freqs[key] += len(dict[key])\n",
    "    scatter(freqs.keys(),freqs.values(),\"TCP Texts Per Year\",\"purple\",\"Year\",\"Number of TCP Texts\")\n",
    "    bar(freqs.keys(),freqs.values(),\"TCP Texts Per Year\",\"Year\",\"Number of TCP Texts\")"
   ]
  },
  {
   "cell_type": "code",
   "execution_count": 5,
   "metadata": {},
   "outputs": [
    {
     "name": "stdout",
     "output_type": "stream",
     "text": [
      "Phase I\n",
      "There are 5309 texts within 1580-1640 (including the first estimated date in a range), 452 texts with date ranges, and 383 texts with unknown dates (marked with a 'u' or '?').\n",
      "Phase II\n",
      "There are 5136 texts within 1580-1640 (including the first estimated date in a range), 371 texts with date ranges, and 302 texts with unknown dates (marked with a 'u' or '?').\n"
     ]
    }
   ],
   "source": [
    "print('Phase I')\n",
    "d1 = getDates(dir,f1,{},{},{})\n",
    "print('Phase II')\n",
    "d2 = getDates(dir,f2,{},{},{})"
   ]
  },
  {
   "cell_type": "code",
   "execution_count": 110,
   "metadata": {},
   "outputs": [
    {
     "name": "stdout",
     "output_type": "stream",
     "text": [
      "1697?\n",
      "1uuu\n",
      "15uu\n",
      "[('1670', 100), ('1685', 77), ('1688', 65), ('1674', 57), ('1663', 40), ('1658', 39), ('1690', 35), ('1684', 35), ('1680', 34), ('1681', 33), ('1678', 27), ('1682', 23), ('1641', 17), ('1695', 16), ('1660', 16), ('1600', 16), ('1689', 14), ('1628', 13), ('1699', 10), ('1672', 10), ('1650', 10), ('1700', 9), ('1687', 8), ('1686', 7), ('1655', 7), ('1694', 6), ('1698', 5), ('1696', 5), ('1693', 5), ('1692', 5), ('1675', 5), ('1640', 5), ('1676', 4), ('1671', 4), ('1666', 4), ('1697', 3), ('1683', 3), ('1679', 3), ('1647', 3), ('1646', 3), ('1500', 3), ('1661', 2), ('1659', 2), ('1654', 2), ('1653', 2), ('1775', 1), ('1743', 1), ('1704', 1), ('1691', 1), ('1673', 1), ('1668', 1), ('1665', 1), ('1664', 1), ('1662', 1), ('1656', 1), ('1651', 1), ('1645', 1), ('1644', 1), ('1642', 1), ('1626', 1), ('1625', 1), ('1622', 1), ('1617', 1), ('1616', 1), ('1613', 1), ('1609', 1), ('1604', 1), ('1584', 1), ('1582', 1), ('1552', 1), ('1548', 1), ('1508', 1), ('1477', 1)]\n"
     ]
    }
   ],
   "source": [
    "def plotUnknowns(list):\n",
    "    freqs = {}\n",
    "    for d in list: \n",
    "        for id in d.keys(): \n",
    "            start = d[id].split('-')[0]\n",
    "            if start.find('?') != -1 or re.search('u',start):\n",
    "                print(start)\n",
    "                continue\n",
    "            else:\n",
    "                if start not in freqs.keys():\n",
    "                    freqs[start] = 1\n",
    "                else:\n",
    "                    freqs[start] += 1 \n",
    "    print(sorted (freqs.items(), key=lambda kv:(kv[1], kv[0]), reverse=True))\n",
    "    # scatter(freqs.keys(),freqs.values(),\"TCP Texts w/ Date Ranges\",\"purple\",\"Earliest Estimated Date\",\"Number of TCP Texts\")\n",
    "\n",
    "plotUnknowns([d1[2],d2[2]])"
   ]
  },
  {
   "cell_type": "code",
   "execution_count": null,
   "metadata": {},
   "outputs": [],
   "source": [
    "def getIDs(list):\n",
    "    for dict in list:\n",
    "        names = []\n",
    "        for key in dict.keys():\n",
    "            names.append(key)\n",
    "        return names\n",
    "print(getIDs([d1[2],d2[2]]))\n"
   ]
  },
  {
   "cell_type": "code",
   "execution_count": 10,
   "metadata": {},
   "outputs": [
    {
     "name": "stdout",
     "output_type": "stream",
     "text": [
      "452\n"
     ]
    }
   ],
   "source": [
    "output = '/srv/data/dateRangeTextNames.txt'\n",
    "names = getIDs([d1[2],d2[2]])\n",
    "file = open(output,'a+')\n",
    "count = 0\n",
    "for name in names:\n",
    "    count += 1\n",
    "    file.write(name + '\\n')\n",
    "print(count)\n",
    "file.close()"
   ]
  },
  {
   "cell_type": "code",
   "execution_count": 10,
   "metadata": {},
   "outputs": [
    {
     "name": "stdout",
     "output_type": "stream",
     "text": [
      "There are 5309 texts within 1580-1640 (including the first estimated date in a range), 452 texts with date ranges, and 383 texts with unknown dates (marked with a 'u' or '?').\n",
      "There are 5136 texts within 1580-1640 (including the first estimated date in a range), 371 texts with date ranges, and 302 texts with unknown dates (marked with a 'u' or '?').\n",
      "1284\n"
     ]
    }
   ],
   "source": [
    "d1 = getDates(dir,f1,{},{},{})\n",
    "d2 = getDates(dir,f2,{},{},{})\n",
    "info = d1[3]\n",
    "for k in d2[3].keys():\n",
    "    info[k] = d2[3][k]\n",
    "\n",
    "epMissingInfo = open('/srv/data/EPmissing.txt','r')\n",
    "epMissingInfo = epMissingInfo.readlines()\n",
    "names = []\n",
    "for name in epMissingInfo:\n",
    "    name = name.replace('\\n','')\n",
    "    names.append(name)\n",
    "\n",
    "relevant = {}\n",
    "for n in names:\n",
    "    if n in info.keys(): \n",
    "        date = info[n]\n",
    "        relevant[n] = date\n",
    "     \n",
    "print(len(relevant))"
   ]
  },
  {
   "cell_type": "code",
   "execution_count": 12,
   "metadata": {},
   "outputs": [],
   "source": [
    "relevantEPmissing = '/srv/data/relevantEPmissing.txt'\n",
    "rFile = open(relevantEPmissing,'a+')\n",
    "for id in relevant.keys():\n",
    "    rFile.write(id+' '+str(relevant[id])+'\\n')\n",
    "rFile.close()"
   ]
  }
 ],
 "metadata": {
  "interpreter": {
   "hash": "163b8b902ef20465a7ecf57c45ba2fc54a366f8c8d80240b381c6f4fa0585aa7"
  },
  "kernelspec": {
   "display_name": "Python 3.9.12 ('base')",
   "language": "python",
   "name": "python3"
  },
  "language_info": {
   "codemirror_mode": {
    "name": "ipython",
    "version": 3
   },
   "file_extension": ".py",
   "mimetype": "text/x-python",
   "name": "python",
   "nbconvert_exporter": "python",
   "pygments_lexer": "ipython3",
   "version": "3.9.12"
  },
  "orig_nbformat": 4
 },
 "nbformat": 4,
 "nbformat_minor": 2
}

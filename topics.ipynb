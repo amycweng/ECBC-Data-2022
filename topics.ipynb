{
 "cells": [
  {
   "cell_type": "code",
   "execution_count": null,
   "metadata": {},
   "outputs": [],
   "source": [
    "import os\n",
    "import gensim\n",
    "import gensim.corpora as corpora\n",
    "from functions import remove_stopwords\n",
    "\n",
    "def model(bodyText,num):\n",
    "    data = remove_stopwords(bodyText)\n",
    "    \n",
    "    id2word = corpora.Dictionary(data)\n",
    "    # Term Document Frequency\n",
    "    corpus = [id2word.doc2bow(text) for text in data]\n",
    "    num_topics = num\n",
    "    lda_model = gensim.models.LdaMulticore(corpus=corpus,\n",
    "                                        id2word=id2word,\n",
    "                                        num_topics=num_topics)\n",
    "    for idx, topic in lda_model.show_topics(formatted=False):\n",
    "        return '{}'.format(' '.join([w[0] for w in topic]))\n",
    "\n",
    "from wordcloud import WordCloud\n",
    "from collections import Counter\n",
    "import matplotlib.pyplot as plt\n",
    "\n",
    "def topicCloud(topics,title):\n",
    "    topics = ' '.join(topics)\n",
    "    words = topics.split(' ')\n",
    "    word_counts = Counter(words)\n",
    "    print(word_counts.most_common(100))    \n",
    "    word_cloud = WordCloud(background_color = \"white\", width=3000, height=2000, max_words=500, collocations=True).generate_from_frequencies(word_counts)\n",
    "    plt.figure(figsize=(20,10))\n",
    "    plt.imshow(word_cloud)\n",
    "    plt.axis(\"off\")\n",
    "    plt.title(title)\n",
    "    plt.show()"
   ]
  },
  {
   "cell_type": "code",
   "execution_count": null,
   "metadata": {},
   "outputs": [],
   "source": [
    "import re\n",
    "folder = '/srv/data/targetCorporaCorrected'\n",
    "outfile = open('/srv/data/targetTopics.txt','a+')\n",
    "count = 0\n",
    "for file in os.listdir(folder):\n",
    "    count+=1 \n",
    "    if count % 100 == 0: print(count)\n",
    "    topics = []\n",
    "    name = re.findall('\\w{6}',file)[0]\n",
    "    path = os.path.join(folder,file)\n",
    "    f = open(path,'r')\n",
    "    text = f.readlines()\n",
    "    topicWords = model(text,2)\n",
    "    outfile.write(file + ': ' + str(topicWords)+'\\n')\n",
    "    f.close()\n",
    "print('done')"
   ]
  },
  {
   "cell_type": "code",
   "execution_count": 29,
   "metadata": {},
   "outputs": [
    {
     "name": "stdout",
     "output_type": "stream",
     "text": [
      "[('take', 301), ('god', 280), ('king', 265), ('good', 250), ('see', 214), ('give', 208), ('place', 146), ('lord', 146), ('church', 135), ('call', 130), ('against', 128), ('christ', 104), ('country', 86), ('well', 82), ('word', 77), ('prince', 75), ('ship', 74), ('city', 70), ('love', 70), ('people', 68), ('find', 66), ('land', 63), ('use', 55), ('pope', 55), ('sea', 51), ('therefore', 51), ('majesty', 51), ('name', 50), ('world', 48), ('law', 48), ('bishop', 46), ('sin', 46), ('town', 45), ('turk', 41), ('life', 41), ('england', 41), ('emperor', 37), ('john', 35), ('son', 34), ('person', 33), ('send', 33), ('never', 32), ('christian', 32), ('kingdom', 32), ('house', 32), ('death', 31), ('mean', 31), ('enemy', 30), ('cause', 30), ('captain', 29), ('earl', 28), ('duke', 28), ('army', 27), ('war', 27), ('soul', 26), ('earth', 25), ('river', 24), ('rome', 24), ('company', 24), ('parliament', 24), ('queen', 23), ('english', 23), ('holy', 22), ('body', 22), ('soldier', 22), ('religion', 22), ('henry', 22), ('trade', 21), ('state', 21), ('faith', 21), ('answer', 20), ('hand', 20), ('knight', 20), ('honour', 19), ('book', 19), ('master', 19), ('thomas', 19), ('father', 19), ('heaven', 18), ('way', 18), ('saint', 18), ('water', 18), ('mind', 18), ('true', 18), ('general', 18), ('power', 18), ('bring', 17), ('heart', 17), ('live', 17), ('still', 17), ('virtue', 16), ('hundred', 16), ('roman', 16), ('bear', 15), ('scripture', 15), ('virginia', 15), ('tell', 15), ('arm', 15), ('plantation', 14), ('write', 14), ('reason', 14), ('catholic', 14), ('east', 13), ('new', 13), ('council', 13), ('wife', 13), ('among', 13), ('psalm', 13), ('eye', 13), ('merchant', 13), ('force', 13), ('subject', 13), ('end', 13), ('nature', 13), ('lie', 13), ('common', 12), ('court', 12), ('speak', 12), ('work', 12), ('london', 12), ('fair', 12), ('commodity', 11), ('letter', 11), ('island', 11), ('manner', 11), ('spaniard', 11), ('money', 11), ('woman', 11), ('north', 10), ('die', 10), ('horse', 10), ('spain', 10), ('fight', 10), ('france', 10), ('enter', 10), ('show', 10), ('order', 10), ('minister', 9), ('indian', 9), ('jew', 9), ('noble', 9), ('fleet', 9), ('french', 9), ('number', 9), ('child', 9), ('pound', 9), ('lady', 9), ('william', 9), ('prayer', 8), ('praise', 8), ('kind', 8), ('return', 8), ('mile', 8), ('fall', 8), ('sweet', 8), ('lordship', 8), ('blood', 8), ('priest', 8), ('nation', 8), ('charge', 8), ('verse', 8), ('sun', 8), ('thousand', 8), ('protestant', 8), ('grant', 8), ('devil', 8), ('friend', 8), ('gentleman', 8), ('sail', 7), ('degree', 7), ('yes', 7), ('certain', 7), ('wit', 7), ('act', 7), ('authority', 7), ('realm', 7), ('stand', 7), ('commonwealth', 7), ('grace', 7), ('doctrine', 7), ('estate', 7), ('richard', 7), ('tobacco', 7), ('read', 6), ('believe', 6), ('persian', 6), ('beast', 6), ('sacrifice', 6), ('ware', 6), ('west', 6), ('pasha', 6), ('truth', 6), ('sacrament', 6), ('receive', 6), ('britain', 6), ('commissioner', 6), ('papist', 6), ('drink', 6), ('foreign', 6), ('table', 6)]\n"
     ]
    }
   ],
   "source": [
    "readFile = open('/srv/data/targetTopics.txt','r')\n",
    "topics = []\n",
    "for line in readFile:\n",
    "    topic = line.split(':')[1].strip()\n",
    "    topics.append(topic)\n",
    "readFile.close()\n",
    "bigString = ' '.join(topics)\n",
    "words = bigString.split(' ')\n",
    "print(Counter(words).most_common(n=200))\n",
    "# topicCloud(topics,'Most Common Topic Words in Target Corpus')"
   ]
  }
 ],
 "metadata": {
  "kernelspec": {
   "display_name": "Python 3.9.12 ('base')",
   "language": "python",
   "name": "python3"
  },
  "language_info": {
   "codemirror_mode": {
    "name": "ipython",
    "version": 3
   },
   "file_extension": ".py",
   "mimetype": "text/x-python",
   "name": "python",
   "nbconvert_exporter": "python",
   "pygments_lexer": "ipython3",
   "version": "3.9.12"
  },
  "orig_nbformat": 4,
  "vscode": {
   "interpreter": {
    "hash": "163b8b902ef20465a7ecf57c45ba2fc54a366f8c8d80240b381c6f4fa0585aa7"
   }
  }
 },
 "nbformat": 4,
 "nbformat_minor": 2
}

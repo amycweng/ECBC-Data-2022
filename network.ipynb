{
 "cells": [
  {
   "cell_type": "code",
   "execution_count": null,
   "metadata": {},
   "outputs": [],
   "source": [
    "'''\n",
    "Social network visualization w/ code adapted from https://earlyprint.org/jupyterbook/metadata.html\n",
    "'''\n",
    "import os,re\n",
    "import matplotlib.pyplot as plt\n",
    "import pandas as pd\n",
    "def authors(csv):\n",
    "    df = pd.read_csv(csv)\n",
    "    authors = df['author']\n",
    "    ids = df['id']\n",
    "    numFiles = len(ids)\n",
    "    count = 0\n",
    "    dict = {}\n",
    "    while count < numFiles:\n",
    "        words = set(authors[count].split(';'))\n",
    "        # removing unnecessary keywords\n",
    "        words.discard('')\n",
    "        # Removing unnecessary dates  \n",
    "        newWords = []\n",
    "        for w in words: \n",
    "            w = w.replace('.','')\n",
    "            # w = re.sub(r'\\([^)]*\\)','',w)\n",
    "            if re.search('printer',w):\n",
    "                continue\n",
    "            w = re.sub(r' ca|-|[0-9]{4}|, Sir,|, Sir|fl|, d|,  A profession of faith|, Mr','',w)\n",
    "            w = re.sub(r', Earl of,  or 8|, ca|,  aut|, \\?|,  Of schisme|, 16th/17th cent|, attributed name','',w)\n",
    "            w = re.sub(r',   aut|, bachelor of civil law| Tragedie of Darius| Monarchick tragedies|Doomesday| Paraenesis to the Prince|,  A profession of faith','',w)\n",
    "            w = w.strip('|,|, ')\n",
    "            newWords.append(w)\n",
    "        dict[ids[count]] = list(set(newWords))\n",
    "        count += 1\n",
    "    return dict "
   ]
  },
  {
   "cell_type": "code",
   "execution_count": null,
   "metadata": {},
   "outputs": [],
   "source": [
    "'''\n",
    "Create python tuples: (id, authors)\n",
    "'''\n",
    "csv = '/srv/data/CSVs/virginia.csv'\n",
    "info = authors(csv)\n",
    "edgelist = [] # Create an empty list      \n",
    "# Add each printers name to the edgelist\n",
    "for id in info.keys():\n",
    "    for name in info[id]:\n",
    "        edgelist.append((id, name))"
   ]
  },
  {
   "cell_type": "code",
   "execution_count": null,
   "metadata": {},
   "outputs": [],
   "source": [
    "import networkx as nx # Import networkx\n",
    "\n",
    "B = nx.Graph() # Create an empty graph object\n",
    "\n",
    "# Create lists of our two node types\n",
    "ids = []\n",
    "auth = []\n",
    "for e in edgelist:\n",
    "    ids.append(e[0])\n",
    "    auth.append(e[1])\n",
    "# Make sure names or IDs don't repeat\n",
    "texts = list(set(ids))\n",
    "auth = list(set(auth))\n",
    "# Add each node list to our graph, with bipartite and group attributes to keep track of which is which\n",
    "B.add_nodes_from(texts, bipartite=\"text\", group=1)\n",
    "B.add_nodes_from(auth, bipartite=\"author(s)\", group=2)\n",
    "\n",
    "# Add edge list to our graph\n",
    "B.add_edges_from(edgelist)"
   ]
  },
  {
   "cell_type": "code",
   "execution_count": 228,
   "metadata": {},
   "outputs": [
    {
     "data": {
      "text/html": [
       "\n",
       "        <iframe\n",
       "            width=\"800\"\n",
       "            height=\"800\"\n",
       "            src=\"virginiaAuthors.html\"\n",
       "            frameborder=\"0\"\n",
       "            allowfullscreen\n",
       "            \n",
       "        ></iframe>\n",
       "        "
      ],
      "text/plain": [
       "<IPython.lib.display.IFrame at 0x7f9085b178b0>"
      ]
     },
     "execution_count": 228,
     "metadata": {},
     "output_type": "execute_result"
    }
   ],
   "source": [
    "from pyvis.network import Network # Import pyvis\n",
    "\n",
    "# Create an empty pyvis graph\n",
    "g = Network(width=800,height=800,notebook=True,heading='')\n",
    "\n",
    "# Load our networkx graph into pyvis\n",
    "for id,auth in edgelist:\n",
    "    g.add_node(id, id, title=id, color='purple')\n",
    "    g.add_node(auth, auth, title=auth, color='pink')    \n",
    "    g.add_edge(id,auth)\n",
    "g.show(\"virginiaAuthors.html\")"
   ]
  }
 ],
 "metadata": {
  "kernelspec": {
   "display_name": "Python 3.9.12 ('base')",
   "language": "python",
   "name": "python3"
  },
  "language_info": {
   "codemirror_mode": {
    "name": "ipython",
    "version": 3
   },
   "file_extension": ".py",
   "mimetype": "text/x-python",
   "name": "python",
   "nbconvert_exporter": "python",
   "pygments_lexer": "ipython3",
   "version": "3.9.12"
  },
  "orig_nbformat": 4,
  "vscode": {
   "interpreter": {
    "hash": "163b8b902ef20465a7ecf57c45ba2fc54a366f8c8d80240b381c6f4fa0585aa7"
   }
  }
 },
 "nbformat": 4,
 "nbformat_minor": 2
}

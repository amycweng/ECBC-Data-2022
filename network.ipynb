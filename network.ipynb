{
 "cells": [
  {
   "cell_type": "code",
   "execution_count": 10,
   "metadata": {},
   "outputs": [],
   "source": [
    "'''\n",
    "Social network visualization\n",
    "The network() and graph()  function code are adapted from https://earlyprint.org/jupyterbook/metadata.html\n",
    "'''\n",
    "import re\n",
    "import pandas as pd\n",
    "import networkx as nx \n",
    "from pyvis.network import Network\n",
    "\n",
    "def authors(csv):\n",
    "    '''\n",
    "    Extract text IDs and standardize authors' names.\n",
    "    '''\n",
    "    df = pd.read_csv(csv)\n",
    "    authors = df['author']\n",
    "    ids = df['id']\n",
    "    numFiles = len(ids)\n",
    "    count = 0\n",
    "    dict = {}\n",
    "    while count < numFiles:\n",
    "        words = set(authors[count].split(';'))\n",
    "        # removing unnecessary keywords\n",
    "        words.discard('')\n",
    "        # Removing unnecessary dates  \n",
    "        newWords = []\n",
    "        for w in words: \n",
    "            w = w.replace('.','')\n",
    "            # w = re.sub(r'\\([^)]*\\)','',w)\n",
    "            if re.search('printer',w):\n",
    "                continue\n",
    "            w = re.sub(r' ca|-|[0-9]{4}|, Sir,|, Sir|fl|, d|,  A profession of faith|, Mr','',w)\n",
    "            w = re.sub(r', Earl of,  or 8|, ca|,  aut|, \\?|,  Of schisme|, 16th/17th cent|, attributed name','',w)\n",
    "            w = re.sub(r',   aut|, bachelor of civil law| Tragedie of Darius| Monarchick tragedies|Doomesday| Paraenesis to the Prince|,  A profession of faith','',w)\n",
    "            w = w.strip('|,|, ')\n",
    "            newWords.append(w)\n",
    "        dict[ids[count]] = list(set(newWords))\n",
    "        count += 1\n",
    "    return dict \n",
    "\n",
    "def network(dict):\n",
    "    '''\n",
    "    Catalogs edges between nodes and outputs the visualization as a HTML file. \n",
    "    '''\n",
    "    edgelist = []    \n",
    "    for id in dict.keys():\n",
    "        for name in dict[id]:\n",
    "            edgelist.append((id, name))\n",
    "    return edgelist\n",
    "\n",
    "def graph(edgelist,title):\n",
    "    # Create pyvis graph\n",
    "    g = Network(width=1200,height=800,notebook=True,heading='')\n",
    "    for id,auth in edgelist:\n",
    "        g.add_node(id, id, title=id, color='purple')\n",
    "        g.add_node(auth, auth, title=auth, color='pink')    \n",
    "        g.add_edge(id,auth)\n",
    "    g.show(title+\".html\")"
   ]
  },
  {
   "cell_type": "code",
   "execution_count": 29,
   "metadata": {},
   "outputs": [],
   "source": [
    "group1 = ['A27982', 'A73532', 'A16495', 'B00963', 'A16507', 'A14514', 'A14518', 'A14512', 'A14516', 'A14511', 'A14517', 'A14519', 'A14520', 'A14521', 'A10439', 'A10417', 'A10440', 'A10438', 'A10436', 'A68635', 'A68633', 'A34660', 'A34659', 'A02626', 'A04813', 'A34936', 'A02059', 'A19312', 'A67893', 'A19313']\n",
    "group0 = ['A11464', 'A11467', 'A34663', 'A80611', 'A80608', 'A80630', 'A80637', 'A34689', 'A34679', 'A34666', 'A13288', 'A13287', 'A13290', 'A19588', 'A19589', 'A19583', 'A19590', 'A17499', 'A69161', 'A19581', 'A02058', 'A15050', 'A01006', 'A01009', 'B13579', 'A01004', 'A01012', 'A01007', 'A06632', 'A01005', 'A01011']\n",
    "group2 = ['A11472', 'A11474', 'A27888', 'A62166', 'A16552', 'A16457', 'A16527_01', 'A16527_02', 'A16527_03', 'A16527_04', 'A16469', 'A73472', 'A16564', 'A02495']\n",
    "group3 = ['A80614', 'A69149', 'A34693', 'A80640', 'A80633', 'A34599', 'A80625', 'A80622', 'B20736', 'A34673', 'A34678', 'B20727', 'A71036', 'A84399', 'B20729', 'A80626', 'A80639', 'A34672', 'A80635', 'A34675', 'A80636', 'A34674', 'A34669', 'B07540', 'B07539', 'A01008', 'A01010']\n",
    "\n",
    "def virginiaGraph(edgelist,title):\n",
    "    # Create pyvis graph\n",
    "    g = Network(width=1200,height=800,notebook=True,heading='')\n",
    "    for id,auth in edgelist:\n",
    "        if id in group0:\n",
    "            g.add_node(id, id, title=id, color='#E5CCFF') #purple\n",
    "            g.add_node(auth, auth, title=auth, color='#E5FFCC') \n",
    "            g.add_edge(id,auth)\n",
    "        elif id in group1: \n",
    "            g.add_node(id, id, title=id, color='pink')\n",
    "            g.add_node(auth, auth, title=auth, color='#E5FFCC') #green \n",
    "            g.add_edge(id,auth)\n",
    "        elif id in group2: \n",
    "            g.add_node(id, id, title=id, color='#CCFFFF') #blue \n",
    "            g.add_node(auth, auth, title=auth, color='#E5FFCC') \n",
    "            g.add_edge(id,auth)\n",
    "        elif id in group3: \n",
    "            g.add_node(id, id, title=id, color='#FFE5CC') #orange\n",
    "            g.add_node(auth, auth, title=auth, color='#E5FFCC') \n",
    "            g.add_edge(id,auth)\n",
    "    g.show(title+\".html\")"
   ]
  },
  {
   "cell_type": "code",
   "execution_count": 30,
   "metadata": {},
   "outputs": [],
   "source": [
    "csv = '/srv/data/metadata/tuning/virginia.csv'\n",
    "auth = authors(csv)\n",
    "edges = network(auth,r'author(s)')\n",
    "virginiaGraph(edges,'virginiaAuthorsGrouped')"
   ]
  }
 ],
 "metadata": {
  "kernelspec": {
   "display_name": "Python 3.9.12 ('base')",
   "language": "python",
   "name": "python3"
  },
  "language_info": {
   "codemirror_mode": {
    "name": "ipython",
    "version": 3
   },
   "file_extension": ".py",
   "mimetype": "text/x-python",
   "name": "python",
   "nbconvert_exporter": "python",
   "pygments_lexer": "ipython3",
   "version": "3.9.12"
  },
  "orig_nbformat": 4,
  "vscode": {
   "interpreter": {
    "hash": "163b8b902ef20465a7ecf57c45ba2fc54a366f8c8d80240b381c6f4fa0585aa7"
   }
  }
 },
 "nbformat": 4,
 "nbformat_minor": 2
}

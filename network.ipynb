{
 "cells": [
  {
   "cell_type": "code",
   "execution_count": null,
   "metadata": {},
   "outputs": [],
   "source": [
    "'''\n",
    "Social network visualization\n",
    "The network(...) function code is adapted from https://earlyprint.org/jupyterbook/metadata.html\n",
    "'''\n",
    "import re\n",
    "import pandas as pd\n",
    "import networkx as nx \n",
    "from pyvis.network import Network\n",
    "\n",
    "def authors(csv):\n",
    "    '''\n",
    "    Extract text IDs and standardize authors' names.\n",
    "    '''\n",
    "    df = pd.read_csv(csv)\n",
    "    authors = df['author']\n",
    "    ids = df['id']\n",
    "    numFiles = len(ids)\n",
    "    count = 0\n",
    "    dict = {}\n",
    "    while count < numFiles:\n",
    "        words = set(authors[count].split(';'))\n",
    "        # removing unnecessary keywords\n",
    "        words.discard('')\n",
    "        # Removing unnecessary dates  \n",
    "        newWords = []\n",
    "        for w in words: \n",
    "            w = w.replace('.','')\n",
    "            # w = re.sub(r'\\([^)]*\\)','',w)\n",
    "            if re.search('printer',w):\n",
    "                continue\n",
    "            w = re.sub(r' ca|-|[0-9]{4}|, Sir,|, Sir|fl|, d|,  A profession of faith|, Mr','',w)\n",
    "            w = re.sub(r', Earl of,  or 8|, ca|,  aut|, \\?|,  Of schisme|, 16th/17th cent|, attributed name','',w)\n",
    "            w = re.sub(r',   aut|, bachelor of civil law| Tragedie of Darius| Monarchick tragedies|Doomesday| Paraenesis to the Prince|,  A profession of faith','',w)\n",
    "            w = w.strip('|,|, ')\n",
    "            newWords.append(w)\n",
    "        dict[ids[count]] = list(set(newWords))\n",
    "        count += 1\n",
    "    return dict \n",
    "\n",
    "def network(dict,metadata,title):\n",
    "    '''\n",
    "    Catalogs edges between nodes and outputs the visualization as a HTML file. \n",
    "    '''\n",
    "    edgelist = []    \n",
    "    for id in dict.keys():\n",
    "        for name in dict[id]:\n",
    "            edgelist.append((id, name))\n",
    "    B = nx.Graph() # Create an empty graph object\n",
    "\n",
    "    # Create lists of our two node types\n",
    "    ids = []\n",
    "    names = []\n",
    "    for e in edgelist:\n",
    "        ids.append(e[0])\n",
    "        auth.append(e[1])\n",
    "    # Make sure names or IDs don't repeat\n",
    "    texts = list(set(ids))\n",
    "    names = list(set(names))\n",
    "    # Add each node list to our graph, with bipartite and group attributes to keep track of which is which\n",
    "    B.add_nodes_from(texts, bipartite=\"text\", group=1)\n",
    "    B.add_nodes_from(names, bipartite=metadata, group=2)\n",
    "    B.add_edges_from(edgelist)\n",
    "\n",
    "    # Create pyvis graph\n",
    "    g = Network(width=1200,height=800,notebook=True,heading='')\n",
    "    for id,auth in edgelist:\n",
    "        g.add_node(id, id, title=id, color='purple')\n",
    "        g.add_node(auth, auth, title=auth, color='pink')    \n",
    "        g.add_edge(id,auth)\n",
    "    g.show(title+\".html\")"
   ]
  },
  {
   "cell_type": "code",
   "execution_count": null,
   "metadata": {},
   "outputs": [],
   "source": [
    "csv = '/srv/data/CSVs/virginia.csv'\n",
    "auth = authors(csv)\n",
    "network(auth,r'author(s)','virginiaAuthors')"
   ]
  }
 ],
 "metadata": {
  "kernelspec": {
   "display_name": "Python 3.9.12 ('base')",
   "language": "python",
   "name": "python3"
  },
  "language_info": {
   "codemirror_mode": {
    "name": "ipython",
    "version": 3
   },
   "file_extension": ".py",
   "mimetype": "text/x-python",
   "name": "python",
   "nbconvert_exporter": "python",
   "pygments_lexer": "ipython3",
   "version": "3.9.12"
  },
  "orig_nbformat": 4,
  "vscode": {
   "interpreter": {
    "hash": "163b8b902ef20465a7ecf57c45ba2fc54a366f8c8d80240b381c6f4fa0585aa7"
   }
  }
 },
 "nbformat": 4,
 "nbformat_minor": 2
}

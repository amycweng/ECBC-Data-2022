{
 "cells": [
  {
   "cell_type": "code",
   "execution_count": 16,
   "metadata": {},
   "outputs": [
    {
     "name": "stdout",
     "output_type": "stream",
     "text": [
      "<html>\n",
      " <head>\n",
      "  <title>\n",
      "   things i want to keep\n",
      "  </title>\n",
      " </head>\n",
      " <body>\n",
      " </body>\n",
      "</html>\n",
      "\n",
      "things i want to keep\n",
      "\n",
      "\n",
      "\n"
     ]
    }
   ],
   "source": [
    "from bs4 import BeautifulSoup\n",
    "# import pandas as pd\n",
    "\n",
    "#tiny example\n",
    "html_doc = \"\"\"<html><head><title>things i want to keep</title></head>\n",
    "\n",
    "<body>\n",
    "<p class=\"title\"><b>text i want to delete</b></p>\n",
    "\n",
    "\"\"\"\n",
    "\n",
    "soup = BeautifulSoup(html_doc, 'html.parser')\n",
    "\n",
    "#initialises your tags within text\n",
    "ptag = soup.p\n",
    "btag = soup.b\n",
    "\n",
    "#removes only the text content of the tags\n",
    "# ptag.clear()\n",
    "# btag.clear()\n",
    "\n",
    "#removes all content of tags (including tag itself)\n",
    "ptag.decompose()\n",
    "btag.decompose()\n",
    "\n",
    "#removes only the <tag> part of tag\n",
    "# ptag.unwrap()\n",
    "# btag.unwrap()\n",
    "\n",
    "#print to check resulting text\n",
    "print(soup.prettify())\n",
    "print()\n",
    "print(soup.get_text())\n"
   ]
  },
  {
   "cell_type": "code",
   "execution_count": 9,
   "metadata": {},
   "outputs": [
    {
     "name": "stderr",
     "output_type": "stream",
     "text": [
      "/Users/Joy/miniconda3/lib/python3.9/site-packages/bs4/__init__.py:435: MarkupResemblesLocatorWarning: The input looks more like a filename than markup. You may want to open this file and pass the filehandle into Beautiful Soup.\n",
      "  warnings.warn(\n"
     ]
    },
    {
     "ename": "AttributeError",
     "evalue": "'NoneType' object has no attribute 'decompose'",
     "output_type": "error",
     "traceback": [
      "\u001b[0;31m---------------------------------------------------------------------------\u001b[0m",
      "\u001b[0;31mAttributeError\u001b[0m                            Traceback (most recent call last)",
      "\u001b[1;32m/Users/Joy/ECBC-Data-2022/deleteSoupTags.ipynb Cell 2'\u001b[0m in \u001b[0;36m<cell line: 18>\u001b[0;34m()\u001b[0m\n\u001b[1;32m     <a href='vscode-notebook-cell:/Users/Joy/ECBC-Data-2022/deleteSoupTags.ipynb#ch0000001?line=10'>11</a>\u001b[0m btag \u001b[39m=\u001b[39m soup\u001b[39m.\u001b[39mb\n\u001b[1;32m     <a href='vscode-notebook-cell:/Users/Joy/ECBC-Data-2022/deleteSoupTags.ipynb#ch0000001?line=12'>13</a>\u001b[0m \u001b[39m#removes only the text content of the tags\u001b[39;00m\n\u001b[1;32m     <a href='vscode-notebook-cell:/Users/Joy/ECBC-Data-2022/deleteSoupTags.ipynb#ch0000001?line=13'>14</a>\u001b[0m \u001b[39m#ptag.clear()\u001b[39;00m\n\u001b[1;32m     <a href='vscode-notebook-cell:/Users/Joy/ECBC-Data-2022/deleteSoupTags.ipynb#ch0000001?line=14'>15</a>\u001b[0m \u001b[39m#btag.clear\u001b[39;00m\n\u001b[1;32m     <a href='vscode-notebook-cell:/Users/Joy/ECBC-Data-2022/deleteSoupTags.ipynb#ch0000001?line=15'>16</a>\u001b[0m \n\u001b[1;32m     <a href='vscode-notebook-cell:/Users/Joy/ECBC-Data-2022/deleteSoupTags.ipynb#ch0000001?line=16'>17</a>\u001b[0m \u001b[39m#removes everything in tags (including tag itself)\u001b[39;00m\n\u001b[0;32m---> <a href='vscode-notebook-cell:/Users/Joy/ECBC-Data-2022/deleteSoupTags.ipynb#ch0000001?line=17'>18</a>\u001b[0m ptag\u001b[39m.\u001b[39;49mdecompose()\n\u001b[1;32m     <a href='vscode-notebook-cell:/Users/Joy/ECBC-Data-2022/deleteSoupTags.ipynb#ch0000001?line=18'>19</a>\u001b[0m btag\u001b[39m.\u001b[39mdecompose()\n\u001b[1;32m     <a href='vscode-notebook-cell:/Users/Joy/ECBC-Data-2022/deleteSoupTags.ipynb#ch0000001?line=20'>21</a>\u001b[0m \u001b[39m#print to check resulting text\u001b[39;00m\n",
      "\u001b[0;31mAttributeError\u001b[0m: 'NoneType' object has no attribute 'decompose'"
     ]
    }
   ],
   "source": [
    "#trying with a file!\n",
    "\n",
    "from bs4 import BeautifulSoup\n",
    "\n",
    "document = 'Joy/ECBC-Data-2022/B25542.P4.xml'\n",
    "\n",
    "soup = BeautifulSoup(document, 'html.parser')\n",
    "\n",
    "#initialises your tags within text\n",
    "ptag = soup.p\n",
    "btag = soup.b\n",
    "\n",
    "#removes only the text content of the tags\n",
    "#ptag.clear()\n",
    "#btag.clear()\n",
    "\n",
    "#removes everything in tags (including tag itself)\n",
    "ptag.decompose()\n",
    "btag.decompose()\n",
    "\n",
    "#print to check resulting text\n",
    "print(soup.prettify())"
   ]
  }
 ],
 "metadata": {
  "interpreter": {
   "hash": "b26a3b516f2fad104e47190fdbf9d1a6edb19ec19330251ce76e66a17efa8caf"
  },
  "kernelspec": {
   "display_name": "Python 3.9.12 ('base')",
   "language": "python",
   "name": "python3"
  },
  "language_info": {
   "codemirror_mode": {
    "name": "ipython",
    "version": 3
   },
   "file_extension": ".py",
   "mimetype": "text/x-python",
   "name": "python",
   "nbconvert_exporter": "python",
   "pygments_lexer": "ipython3",
   "version": "3.9.12"
  },
  "orig_nbformat": 4
 },
 "nbformat": 4,
 "nbformat_minor": 2
}

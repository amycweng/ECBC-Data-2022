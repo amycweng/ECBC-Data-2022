{
 "cells": [
  {
   "cell_type": "code",
   "execution_count": null,
   "metadata": {},
   "outputs": [],
   "source": [
    "from bs4 import BeautifulSoup\n",
    "# import pandas as pd\n",
    "\n",
    "#tiny example\n",
    "html_doc = \"\"\"<html><head><title>things i want to keep</title></head>\n",
    "\n",
    "<body>\n",
    "<p class=\"title\"><b>text i want to delete</b></p>\n",
    "\n",
    "\"\"\"\n",
    "\n",
    "soup = BeautifulSoup(html_doc, 'html.parser')\n",
    "\n",
    "#initialises your tags within text\n",
    "ptag = soup.p\n",
    "btag = soup.b\n",
    "\n",
    "#removes all content of tags (including tag itself)\n",
    "ptag.decompose()\n",
    "btag.decompose()\n",
    "\n",
    "#print to check resulting text\n",
    "print(soup.prettify())"
   ]
  }
 ],
 "metadata": {
  "language_info": {
   "name": "python"
  },
  "orig_nbformat": 4
 },
 "nbformat": 4,
 "nbformat_minor": 2
}

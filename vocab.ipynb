{
 "cells": [
  {
   "cell_type": "code",
   "execution_count": 12,
   "metadata": {},
   "outputs": [
    {
     "ename": "IndexError",
     "evalue": "list index out of range",
     "output_type": "error",
     "traceback": [
      "\u001b[0;31m---------------------------------------------------------------------------\u001b[0m",
      "\u001b[0;31mIndexError\u001b[0m                                Traceback (most recent call last)",
      "\u001b[1;32m/srv/data/ECBC-Data-2022/vocab.ipynb Cell 1'\u001b[0m in \u001b[0;36m<cell line: 23>\u001b[0;34m()\u001b[0m\n\u001b[1;32m     <a href='vscode-notebook-cell://ssh-remote%2Bresearch-datap-ec-01.oit.duke.edu/srv/data/ECBC-Data-2022/vocab.ipynb#ch0000000vscode-remote?line=19'>20</a>\u001b[0m \u001b[39m#for text in texts:\u001b[39;00m\n\u001b[1;32m     <a href='vscode-notebook-cell://ssh-remote%2Bresearch-datap-ec-01.oit.duke.edu/srv/data/ECBC-Data-2022/vocab.ipynb#ch0000000vscode-remote?line=21'>22</a>\u001b[0m words \u001b[39m=\u001b[39m remove_stopwords(texts[\u001b[39m0\u001b[39m])\n\u001b[0;32m---> <a href='vscode-notebook-cell://ssh-remote%2Bresearch-datap-ec-01.oit.duke.edu/srv/data/ECBC-Data-2022/vocab.ipynb#ch0000000vscode-remote?line=22'>23</a>\u001b[0m \u001b[39mprint\u001b[39m(words[\u001b[39m0\u001b[39;49m][\u001b[39m1\u001b[39;49m])\n",
      "\u001b[0;31mIndexError\u001b[0m: list index out of range"
     ]
    }
   ],
   "source": [
    "from collections import Counter\n",
    "import os\n",
    "import pandas as pd\n",
    "from sklearn.feature_extraction.text import TfidfTransformer\n",
    "from nltk.corpus import stopwords\n",
    "from stopwords import remove_stopwords\n",
    "\n",
    "texts = []\n",
    "textnames = []\n",
    "folder = '/srv/data/dummyText'\n",
    "# for file in os.listdir(folder):\n",
    "path = os.path.join(folder,'A01932.txt')\n",
    "f = open(path,'r')\n",
    "data = f.readlines()[0]\n",
    "texts.append(data)\n",
    "name = 'A01932.txt'.split('.')[0]\n",
    "f.close()\n",
    " \n",
    "tokenized = []\n",
    "#for text in texts:\n",
    "\n",
    "words = remove_stopwords(texts[0])\n",
    "print(words[0][1])\n",
    "\n",
    "# wordcounts = [Counter(t) for t in tokenized]\n",
    "# df = pd.DataFrame(wordcounts, index=[name in textnames]).fillna(0)\n",
    "\n",
    "# # normalization turned off\n",
    "# # sublinear term frequency scaling turned on (takes log of term frequencies and can help to de-emphasize function words like pronouns and articles.\n",
    "# tfidf = TfidfTransformer(norm=None, sublinear_tf=True)\n",
    "# results = tfidf.fit_transform(df)\n",
    "\n",
    "# readable_results = pd.DataFrame(results.toarray(), index=df.index, columns=df.columns)\n",
    "\n",
    "# # columns are texts\n",
    "# # use .head(30) to show only the top 30 terms\n",
    "# # sort using words with highest tfidf scores in A01932 as an example\n",
    "# readable_results.T.sort_values(by=[\"A01932\"], ascending=False).head(30)\n"
   ]
  }
 ],
 "metadata": {
  "kernelspec": {
   "display_name": "Python 3.9.12 ('base')",
   "language": "python",
   "name": "python3"
  },
  "language_info": {
   "codemirror_mode": {
    "name": "ipython",
    "version": 3
   },
   "file_extension": ".py",
   "mimetype": "text/x-python",
   "name": "python",
   "nbconvert_exporter": "python",
   "pygments_lexer": "ipython3",
   "version": "3.9.12"
  },
  "orig_nbformat": 4,
  "vscode": {
   "interpreter": {
    "hash": "0e846d22bd0f16198c95c3cd9e93a943714bae29804f16df7e30c04ce21cb422"
   }
  }
 },
 "nbformat": 4,
 "nbformat_minor": 2
}

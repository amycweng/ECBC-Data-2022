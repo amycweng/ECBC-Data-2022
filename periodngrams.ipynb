{
 "cells": [
  {
   "cell_type": "markdown",
   "metadata": {},
   "source": [
    "Based off of work in vocab.ipynb, this program extracts tobacco and drug related bigrams from each text in a given time period. The later code includes work done to categorize co-occurring words to guide the coloring of edges in period networks"
   ]
  },
  {
   "cell_type": "code",
   "execution_count": null,
   "metadata": {},
   "outputs": [],
   "source": [
    "from collections import Counter\n",
    "import os\n",
    "import pandas as pd\n",
    "from gensim.models import Phrases, phrases\n",
    "\n",
    "def getTexts(folder,searchList):\n",
    "    fileToText = {}\n",
    "    underscores = {}\n",
    "    for root,dirs,files in os.walk(folder):\n",
    "        for file in files:\n",
    "                if '.txt' not in file: continue\n",
    "                path = os.path.join(folder,file)\n",
    "                f = open(path,'r')\n",
    "                text = f.readlines()[0]\n",
    "                if '_' in file: \n",
    "                        name = file.split('_')[0]\n",
    "                        if name not in searchList: continue\n",
    "                        if name not in underscores.keys(): \n",
    "                                underscores[name] = text\n",
    "                        else: underscores[name] = underscores[name] + ' ' + text\n",
    "                else: \n",
    "                        name = file.split('.')[0]\n",
    "                        if name not in searchList: continue\n",
    "                        fileToText[name] = text\n",
    "                f.close()\n",
    "        for name,text in underscores.items():\n",
    "            fileToText[name] = text\n",
    "        return fileToText\n",
    "\n",
    "def collectgrams(keylist, searchword, collectlist):\n",
    "        for key in keylist:\n",
    "                if searchword in key.split('_'):\n",
    "                        collectlist.append(key) \n",
    "\n",
    "def getgrams(txt):\n",
    "    infile = open(txt,'r')\n",
    "    lines = infile.readlines()\n",
    "    infile.close()\n",
    "    allgrams = []\n",
    "    for line in lines: \n",
    "        line = line.split(':')\n",
    "        ngrams = line[1].strip()\n",
    "        if '_' in ngrams: \n",
    "                ngrams = ngrams.strip().split(' ')\n",
    "                for n in ngrams:\n",
    "                        allgrams.append(n)\n",
    "        else: continue\n",
    "    return allgrams "
   ]
  },
  {
   "cell_type": "code",
   "execution_count": null,
   "metadata": {},
   "outputs": [],
   "source": [
    "#change for each time period: index is period - 1\n",
    "period = open('/srv/data/timeranges.txt', 'r').readlines()[3]\n",
    "period = period.strip().strip('[').strip(']').replace(\"'\", '').split(', ')\n",
    "\n",
    "bigramdata = getTexts('/srv/data/relevantEPBodyNOSTOP', period)\n",
    "bigramtexts = list(bigramdata.values())\n",
    "bigramnames = list(bigramdata.keys())"
   ]
  },
  {
   "cell_type": "code",
   "execution_count": null,
   "metadata": {},
   "outputs": [],
   "source": [
    "#specify tobacco/drugs searchword list:\n",
    "searchwords = ['tobacco']\n",
    "# searchwords = ['drug', 'apothecary', 'confection', 'elixir', 'medicinable', 'medicine', 'arsenic', 'medecine', 'medicament', 'poppy', 'chemic', 'medicinal', 'intoxicate', 'potion', 'mithridate', 'antimony', 'opiate', 'opium']\n",
    "\n",
    "remainders = [0, 1, 2]\n",
    "for n in remainders:\n",
    "    training = []\n",
    "    testing = []\n",
    "    for t in bigramtexts:\n",
    "        #separating by thirds, remainders: 0, 1, 2\n",
    "        if bigramtexts.index(t) % 3 == n:\n",
    "            testing.append(t)\n",
    "        else: \n",
    "            words = t.split(' ')\n",
    "            training.append(words)\n",
    "    print('section', n+1, '| training:', len(training), '| testing:', len(testing))\n",
    "\n",
    "    bigrammodel = Phrases(training, min_count=2, threshold= 0, scoring='npmi', connector_words=phrases.ENGLISH_CONNECTOR_WORDS)\n",
    "    trigrammodel = Phrases(bigrammodel[training], min_count=2, threshold= 0, scoring='npmi', connector_words=phrases.ENGLISH_CONNECTOR_WORDS )\n",
    "    print('models trained')\n",
    "\n",
    "    count = 0\n",
    "    outfile = open('/srv/data/joy/drugtest.txt', 'a+')\n",
    "    for text in testing:\n",
    "        #for outputting to txt file, specify here\n",
    "        name = bigramnames[bigramtexts.index(text)]\n",
    "        testtext = text.strip().split(' ')\n",
    "\n",
    "        grams = []\n",
    "        bgcount = Counter(b for b in bigrammodel[testtext] if len(b.split(\"_\")) > 1)\n",
    "        tgcount = Counter(t for t in trigrammodel[testtext] if len(t.split(\"_\")) > 2)\n",
    "        for searchword in searchwords: \n",
    "            collectgrams(dict(bgcount).keys(), searchword, grams) \n",
    "            collectgrams(dict(tgcount).keys(), searchword, grams)\n",
    "        \n",
    "        gramstring = ' '.join(grams)\n",
    "        outfile.write(name+': '+gramstring+\"\\n\")\n",
    "        count += 1\n",
    "        if count%20 == 0:\n",
    "            print(count, \"files processed\")\n",
    "    outfile.close()\n",
    "print('processing complete')\n"
   ]
  },
  {
   "cell_type": "code",
   "execution_count": null,
   "metadata": {},
   "outputs": [],
   "source": [
    "p4tobacco = getgrams('/srv/data/periodFeatures/period4features/newtobaccograms.txt')\n",
    "p1tobacco = getgrams('/srv/data/periodFeatures/period1features/period1tobaccongrams.txt')\n",
    "p2tobacco = getgrams('/srv/data/periodFeatures/period2features/period2tobaccongrams.txt')\n",
    "p3tobacco = getgrams('/srv/data/periodFeatures/period3features/period3tobaccongrams.txt')\n",
    "p5tobacco = getgrams('/srv/data/periodFeatures/period5features/period5tobaccongrams.txt')"
   ]
  },
  {
   "cell_type": "code",
   "execution_count": null,
   "metadata": {},
   "outputs": [],
   "source": [
    "megalist = p4tobacco + p1tobacco + p2tobacco + p3tobacco + p5tobacco\n",
    "set(megalist)"
   ]
  },
  {
   "cell_type": "code",
   "execution_count": null,
   "metadata": {},
   "outputs": [],
   "source": [
    "p4drugs = getgrams('/srv/data/joy/drugtest.txt')\n",
    "len(set(p4drugs))"
   ]
  },
  {
   "cell_type": "code",
   "execution_count": null,
   "metadata": {},
   "outputs": [],
   "source": [
    "plant = ['plant', 'hard', 'strong', 'growth', 'sort', 'sophisticate', 'call', 'leaf', 'description', 'dry', 'green', 'head', 'kind', 'manner', 'name', 'part', 'piece', 'property', 'seed', 'sort', 'small', 'clean', 'common', 'petum', 'root', 'quality']\n",
    "use = ['child', 'sack', 'bruise','box', 'arm', 'grant', 'alymbecke', 'break', 'dress', 'know', 'caste', 'mark', 'cast', 'drawer', 'set', 'leave', 'glass', 'present', 'send', 'rake', 'drop', 'custom', 'forget', 'invention', 'attendance', 'strew','sit', 'whiff', 'cut', 'smoke', 'pipe', 'use', 'take', 'have', 'taker', 'light', 'keep', 'almanac', 'fume', 'help', 'heat', 'humidity', 'humour', 'infusion', 'juice', 'oil', 'paper', 'perfume', 'phlegm', 'poison', 'powder', 'powder', 'cane', 'pudding', 'savour', 'smell', 'starch', 'suffumigation', 'taste', 'apply', 'ash', 'breath', 'consume', 'cure', 'draw', 'cold', 'purge', 'hot', 'make', 'loosen', 'prepare', 'stillify', 'stink', 'stir', 'warm', 'touch', 'unseal', 'vapour', 'water']\n",
    "region = ['lemnos', 'spanish', 'indian', 'foreign', 'english', 'dutch', 'sovereign', 'sovereignty', 'society', 'england', 'brazilian', 'virginia', 'trinidada']\n",
    "trade = ['bag', 'seller', 'line', 'sell', 'quantity', 'ounce', 'piece', 'shop', 'alehouse', 'tavern', 'retail', 'house', 'two', 'barter', 'chest', 'commodity', 'employment', 'gift', 'import', 'importation', 'monopoly', 'ounce', 'pound', 'pocket', 'quantity', 'ship', 'store', 'give', 'one', 'bring', 'buy', 'case', 'furnish', 'gain', 'half', 'spend', 'licence', 'trade', 'trial', 'weight']\n",
    "commodity = ['wine', 'ale', 'drink', 'other', 'weed', 'beer', 'butter', 'chandler', 'corn', 'cucumber', 'cup', 'flax', 'hemlock', 'herb', 'liquorice', 'rice', 'suet', 'sugar', 'sugarcane', 'copper', 'nightshade']\n",
    "moral = ['reason', 'sleight', 'delectable', 'malady', 'fast', 'bait', 'save', 'entitle', 'prove', 'resist', 'concern', 'well', 'love', 'good', 'much', 'such', 'abuse', 'against', 'banish', 'best', 'commend', 'counterblaste', 'divine', 'drone', 'excellent', 'famous', 'force', 'great', 'lack', 'like', 'little', 'mistake', 'more', 'poor', 'power', 'praise', 'profane', 'require', 'respectless', 'some', 'succour', 'many', 'exceed', 'few', 'precious', 'hurtful', 'ignorant', 'mighty', 'must', 'noble', 'ingrate', 'ordinary', 'ought', 'pity', 'retail', 'right', 'scarce', 'sin', 'best', 'wholesome', 'immoderate', 'virtue', 'vow', 'hurt', 'worse' ,'yes', 'trick', 'unwholesome', 'want']\n",
    "people = ['your', 'thy', 'man', 'they', 'doctor', 'our', 'his', 'their', 'main', 'chief', 'farmer', 'gentleman', 'lady', 'maker', 'own', 'she', 'thou', 'bartholomew', 'boy', 'charles', 'woman', 'you']\n",
    "misc = ['term', 'tob', 'fac', 'dru', 'ser', 'nei', 'maci', 'lemnos', 'after', 'when', 'become', 'almost', 'often', 'upon', 'there', 'all', 'still', 'out', 'may', 'any', 'than', 'whereas', 'this', 'nor', 'itself', 'which', 'that', 'not', 'will', 'into', 'but', 'within', 'shall', 'each', 'but', 'only', 'come', 'about', 'again', 'also', 'among', 'before', 'bring', 'cause', 'even', 'here', 'how', 'if', 'let', 'return', 'then', 'therefore', 'therewith', 'these', 'this', 'although', 'among', 'afterward', 'forthwith', 'thereby', 'yet', 'because', 'bind', 'both', 'can', 'cause', 'come', 'either', 'engender', 'especial', 'etc', 'ever', 'fill', 'find', 'first', 'fit', 'former', 'forsooth', 'from', 'heretofore', 'likewise', 'may', 'mean', 'neither', 'nothing', 'now', 'those', 'what', 'once', 'only', 'out', 'regard', 'ready', 'say', 'see', 'seem', 'shall', 'sure', 'same', 'though', 'through', 'thing', 'till', 'too', 'unless', 'upon', 'think', 'upon', 'very', 'whatsoever', 'when', 'where', 'wherein', 'while', 'who', 'within', 'utter', 'wherewith', 'whether', 'why']"
   ]
  },
  {
   "cell_type": "code",
   "execution_count": null,
   "metadata": {},
   "outputs": [],
   "source": [
    "print('plant:', sorted(set(plant)))\n",
    "print('use:', sorted(set(use)))\n",
    "print('region:', sorted(set(region)))\n",
    "print('trade:', sorted(set(trade)))\n",
    "print('commodity:', sorted(set(commodity)))\n",
    "print('people:', sorted(set(people)))\n",
    "print('moral:', sorted(set(moral)))\n",
    "print('misc:', sorted(set(misc)))\n"
   ]
  },
  {
   "cell_type": "code",
   "execution_count": null,
   "metadata": {},
   "outputs": [],
   "source": [
    "plantgrams = []\n",
    "usegrams = []\n",
    "regiongrams = []\n",
    "tradegrams = []\n",
    "commoditygrams = []\n",
    "moralgrams = []\n",
    "peoplegrams = []\n",
    "miscgrams = []\n",
    "leftover = []\n",
    "\n",
    "for ngram in set(megalist):\n",
    "    for word in ngram.split('_'):\n",
    "        if word in people:\n",
    "            peoplegrams.append(ngram)\n",
    "            break\n",
    "        elif word in plant:\n",
    "            plantgrams.append(ngram)\n",
    "            break\n",
    "        elif word in use:\n",
    "            usegrams.append(ngram)\n",
    "            break\n",
    "        elif word in region:\n",
    "            regiongrams.append(ngram)\n",
    "            break\n",
    "        elif word in trade:\n",
    "            tradegrams.append(ngram)\n",
    "            break\n",
    "        elif word in commodity:\n",
    "            commoditygrams.append(ngram)\n",
    "            break \n",
    "        elif word in moral:\n",
    "            moralgrams.append(ngram)\n",
    "            break\n",
    "        elif word in misc:\n",
    "            miscgrams.append(ngram)\n",
    "            break\n",
    "        else: \n",
    "            continue\n",
    "\n",
    "# print('plant:', plantgrams)\n",
    "# print('use:', usegrams)\n",
    "# print('region:', regiongrams)\n",
    "# print('trade:', tradegrams)\n",
    "# print('commodity:', commoditygrams)\n",
    "# print('moral:', moralgrams)\n",
    "# print('people:', peoplegrams)\n",
    "# print('function:', functiongrams)\n",
    "# print('leftover:', leftover)\n",
    "\n",
    "yuck = ['tobacco_tobacco']\n",
    "categorised = plantgrams + usegrams + regiongrams + tradegrams + commoditygrams + moralgrams + peoplegrams + miscgrams\n",
    "leftover = set(megalist) - set(categorised) - set(yuck)\n",
    "leftover"
   ]
  },
  {
   "cell_type": "code",
   "execution_count": null,
   "metadata": {},
   "outputs": [],
   "source": [
    "dictoutfile = open('/srv/data/joy/ngramdict.txt', 'a+')\n",
    "dictoutfile.write('Plant: '+', '.join(set(plantgrams))+\"\\n\")\n",
    "dictoutfile.write('People: '+', '.join(set(peoplegrams))+\"\\n\")\n",
    "dictoutfile.write('Usage: '+', '.join(set(usegrams))+\"\\n\")\n",
    "dictoutfile.write('Regions: '+', '.join(set(regiongrams))+\"\\n\")\n",
    "dictoutfile.write('Trade: '+', '.join(set(tradegrams))+\"\\n\")\n",
    "dictoutfile.write('Commodity: '+', '.join(set(commoditygrams))+\"\\n\")\n",
    "dictoutfile.write('Ethics: '+', '.join(set(moralgrams))+\"\\n\")\n",
    "dictoutfile.write('Miscellaneous: '+', '.join(set(miscgrams))+\"\\n\")\n",
    "\n",
    "dictoutfile.close()"
   ]
  }
 ],
 "metadata": {
  "kernelspec": {
   "display_name": "Python 3.9.12 ('base')",
   "language": "python",
   "name": "python3"
  },
  "language_info": {
   "codemirror_mode": {
    "name": "ipython",
    "version": 3
   },
   "file_extension": ".py",
   "mimetype": "text/x-python",
   "name": "python",
   "nbconvert_exporter": "python",
   "pygments_lexer": "ipython3",
   "version": "3.9.12"
  },
  "orig_nbformat": 4,
  "vscode": {
   "interpreter": {
    "hash": "0e846d22bd0f16198c95c3cd9e93a943714bae29804f16df7e30c04ce21cb422"
   }
  }
 },
 "nbformat": 4,
 "nbformat_minor": 2
}

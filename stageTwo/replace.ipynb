{
 "cells": [
  {
   "cell_type": "code",
   "execution_count": null,
   "metadata": {},
   "outputs": [],
   "source": [
    "import os,re,ast"
   ]
  },
  {
   "cell_type": "code",
   "execution_count": null,
   "metadata": {},
   "outputs": [],
   "source": [
    "def getTexts(folder):\n",
    "    textStrings = []\n",
    "    fileNames = []\n",
    "    for file in os.listdir(folder):\n",
    "        if '.txt' in file: \n",
    "            path = os.path.join(folder,file)\n",
    "            f = open(path,'r')\n",
    "            text = f.readlines()\n",
    "            if len(text)!= 0: \n",
    "                text = text[0]\n",
    "                textStrings.append(text)\n",
    "                name = file.split('.')[0]\n",
    "                fileNames.append(name)\n",
    "                f.close()\n",
    "    return textStrings,fileNames"
   ]
  },
  {
   "cell_type": "code",
   "execution_count": null,
   "metadata": {},
   "outputs": [],
   "source": [
    "def getLemmaDict(path):\n",
    "    with open(path) as f:\n",
    "        data = f.read()\n",
    "    lemmaDict = ast.literal_eval(data)\n",
    "    print(type(lemmaDict))\n",
    "    return lemmaDict"
   ]
  },
  {
   "cell_type": "code",
   "execution_count": null,
   "metadata": {},
   "outputs": [],
   "source": [
    "def getMCWDict(path):\n",
    "    with open(path) as f:\n",
    "        data = f.read()\n",
    "    mcwDict = ast.literal_eval(data)\n",
    "    print(type(mcwDict))\n",
    "    return mcwDict"
   ]
  },
  {
   "cell_type": "code",
   "execution_count": null,
   "metadata": {},
   "outputs": [],
   "source": [
    "def replaceTextLemma(textString,lemmaDict):\n",
    "    #replace lemma words using dictionaries\n",
    "    for key,value in zip(list(lemmaDict.keys()), list(lemmaDict.values())):\n",
    "        textString = re.sub(rf' {key} ', f' {value} ', textString)\n",
    "    return textString"
   ]
  },
  {
   "cell_type": "code",
   "execution_count": null,
   "metadata": {},
   "outputs": [],
   "source": [
    "def replaceTextMCW(textString,mcwDict):\n",
    "    #replace mcw's words using dictionaries\n",
    "    for key,value in zip(list(mcwDict.keys()), list(mcwDict.values())):\n",
    "        textString = re.sub(rf' {key} ', f' {value} ', textString)\n",
    "    #now replace all mcw's dots with carots\n",
    "    textString = textString.replace('\\u25CF','^')\n",
    "    return textString"
   ]
  },
  {
   "cell_type": "code",
   "execution_count": null,
   "metadata": {},
   "outputs": [],
   "source": [
    "def output(outFolder, name, cleanedText):\n",
    "    with open(os.path.join(outFolder, name + '.txt'), 'w+') as file:\n",
    "            file.write(cleanedText)"
   ]
  },
  {
   "cell_type": "code",
   "execution_count": null,
   "metadata": {},
   "outputs": [],
   "source": [
    "def main():\n",
    "    '''\n",
    "    for  testing:\n",
    "    #inFolder = '/srv/data/ECBC-Data-2022/stageTwo/test'\n",
    "    '''\n",
    "    inFolder = '/srv/data/targetCorpusCLEAN'\n",
    "    outFolder = '/srv/data/targetCorpusFINAL'\n",
    "    lemmaDict = getLemmaDict('/srv/data/ECBC-Data-2022/stageTwo/lemmas.txt')\n",
    "    mcwDict = getMCWDict('/srv/data/ECBC-Data-2022/stageTwo/dots.txt')\n",
    "    textStrings, fileNames = getTexts(inFolder)\n",
    "    print('len:', len(textStrings))\n",
    "    for name,textString in zip(fileNames,textStrings):\n",
    "        textString = replaceTextLemma(textString,lemmaDict)\n",
    "        textString = replaceTextMCW(textString,mcwDict)\n",
    "        output(outFolder,name,textString)\n",
    "main()"
   ]
  }
 ],
 "metadata": {
  "kernelspec": {
   "display_name": "Python 3.9.12 ('base')",
   "language": "python",
   "name": "python3"
  },
  "language_info": {
   "codemirror_mode": {
    "name": "ipython",
    "version": 3
   },
   "file_extension": ".py",
   "mimetype": "text/x-python",
   "name": "python",
   "nbconvert_exporter": "python",
   "pygments_lexer": "ipython3",
   "version": "3.9.12"
  },
  "orig_nbformat": 4,
  "vscode": {
   "interpreter": {
    "hash": "3545c7cfb047a8f6ea180b99eadf0bc0cbbe3bfbb62bebf5627f52d77dfc1911"
   }
  }
 },
 "nbformat": 4,
 "nbformat_minor": 2
}

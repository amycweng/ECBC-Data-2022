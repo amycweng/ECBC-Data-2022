{
 "cells": [
  {
   "cell_type": "code",
   "execution_count": 1,
   "metadata": {},
   "outputs": [],
   "source": [
    "import os\n",
    "import re\n",
    "import ast"
   ]
  },
  {
   "cell_type": "code",
   "execution_count": 2,
   "metadata": {},
   "outputs": [],
   "source": [
    "def getTexts(folder):\n",
    "    textStrings = []\n",
    "    fileNames = []\n",
    "    for file in os.listdir(folder):\n",
    "        path = os.path.join(folder,file)\n",
    "        f = open(path,'r')\n",
    "        text = f.readlines()[0]\n",
    "        textStrings.append(text)\n",
    "        name = file.split('.')[0]\n",
    "        fileNames.append(name)\n",
    "        f.close()\n",
    "    return textStrings,fileNames"
   ]
  },
  {
   "cell_type": "code",
   "execution_count": 3,
   "metadata": {},
   "outputs": [],
   "source": [
    "def getLemmaDict(path):\n",
    "    with open(path) as f:\n",
    "        data = f.read()#.replace('\\'','\\\"')\n",
    "    print(len(data))\n",
    "    lemmaDict = ast.literal_eval(data)\n",
    "    return lemmaDict"
   ]
  },
  {
   "cell_type": "code",
   "execution_count": 4,
   "metadata": {},
   "outputs": [],
   "source": [
    "def getMCWDict(path):\n",
    "    with open(path) as f:\n",
    "        data = f.read()#.replace('\\'','\\\"')\n",
    "    print(len(data))\n",
    "    mcwDict = ast.literal_eval(data)\n",
    "    return mcwDict"
   ]
  },
  {
   "cell_type": "code",
   "execution_count": 5,
   "metadata": {},
   "outputs": [],
   "source": [
    "def replaceTextLemma(textString,lemmaDict):\n",
    "    #replace mcw's and lemma words using dictionaries\n",
    "    for key,value in zip(list(lemmaDict.keys()), list(lemmaDict.values())):\n",
    "        textString = re.sub(rf' {key} ', f' {value} ', textString)\n",
    "    return textString"
   ]
  },
  {
   "cell_type": "code",
   "execution_count": 6,
   "metadata": {},
   "outputs": [],
   "source": [
    "def replaceTextMCW(textString,mcwDict):\n",
    "    #replace mcw's and lemma words using dictionaries\n",
    "    for key,value in zip(list(mcwDict.keys()), list(mcwDict.values())):\n",
    "        textString = re.sub(rf' {key} ', f' {value} ', textString)\n",
    "    #now replace all mcw's dots with carots\n",
    "    textString = textString.replace('\\u25CF','^')\n",
    "    return textString"
   ]
  },
  {
   "cell_type": "code",
   "execution_count": 7,
   "metadata": {},
   "outputs": [],
   "source": [
    "def output(outFolder, name, cleanedText):\n",
    "    with open(os.path.join(outFolder, name + '.txt'), 'w+') as file:\n",
    "            file.write(cleanedText)"
   ]
  },
  {
   "cell_type": "code",
   "execution_count": 10,
   "metadata": {},
   "outputs": [
    {
     "name": "stdout",
     "output_type": "stream",
     "text": [
      "10410\n",
      "13379\n",
      "len: 10288\n"
     ]
    },
    {
     "ename": "KeyboardInterrupt",
     "evalue": "",
     "output_type": "error",
     "traceback": [
      "\u001b[0;31m---------------------------------------------------------------------------\u001b[0m",
      "\u001b[0;31mKeyboardInterrupt\u001b[0m                         Traceback (most recent call last)",
      "Input \u001b[0;32mIn [10]\u001b[0m, in \u001b[0;36m<cell line: 12>\u001b[0;34m()\u001b[0m\n\u001b[1;32m     10\u001b[0m         replacedText \u001b[38;5;241m=\u001b[39m replaceTextMCW(textString,mcwDict)\n\u001b[1;32m     11\u001b[0m         output(outFolder,name,replacedText)\n\u001b[0;32m---> 12\u001b[0m \u001b[43mmain\u001b[49m\u001b[43m(\u001b[49m\u001b[43m)\u001b[49m\n",
      "Input \u001b[0;32mIn [10]\u001b[0m, in \u001b[0;36mmain\u001b[0;34m()\u001b[0m\n\u001b[1;32m      7\u001b[0m \u001b[38;5;28mprint\u001b[39m(\u001b[38;5;124m'\u001b[39m\u001b[38;5;124mlen:\u001b[39m\u001b[38;5;124m'\u001b[39m, \u001b[38;5;28mlen\u001b[39m(textStrings))\n\u001b[1;32m      8\u001b[0m \u001b[38;5;28;01mfor\u001b[39;00m name,textString \u001b[38;5;129;01min\u001b[39;00m \u001b[38;5;28mzip\u001b[39m(fileNames,textStrings):\n\u001b[0;32m----> 9\u001b[0m     replacedText \u001b[38;5;241m=\u001b[39m \u001b[43mreplaceTextLemma\u001b[49m\u001b[43m(\u001b[49m\u001b[43mtextString\u001b[49m\u001b[43m,\u001b[49m\u001b[43mlemmaDict\u001b[49m\u001b[43m)\u001b[49m\n\u001b[1;32m     10\u001b[0m     replacedText \u001b[38;5;241m=\u001b[39m replaceTextMCW(textString,mcwDict)\n\u001b[1;32m     11\u001b[0m     output(outFolder,name,replacedText)\n",
      "Input \u001b[0;32mIn [5]\u001b[0m, in \u001b[0;36mreplaceTextLemma\u001b[0;34m(textString, lemmaDict)\u001b[0m\n\u001b[1;32m      1\u001b[0m \u001b[38;5;28;01mdef\u001b[39;00m \u001b[38;5;21mreplaceTextLemma\u001b[39m(textString,lemmaDict):\n\u001b[1;32m      2\u001b[0m     \u001b[38;5;66;03m#replace mcw's and lemma words using dictionaries\u001b[39;00m\n\u001b[1;32m      3\u001b[0m     \u001b[38;5;28;01mfor\u001b[39;00m key,value \u001b[38;5;129;01min\u001b[39;00m \u001b[38;5;28mzip\u001b[39m(\u001b[38;5;28mlist\u001b[39m(lemmaDict\u001b[38;5;241m.\u001b[39mkeys()), \u001b[38;5;28mlist\u001b[39m(lemmaDict\u001b[38;5;241m.\u001b[39mvalues())):\n\u001b[0;32m----> 4\u001b[0m         textString \u001b[38;5;241m=\u001b[39m \u001b[43mre\u001b[49m\u001b[38;5;241;43m.\u001b[39;49m\u001b[43msub\u001b[49m\u001b[43m(\u001b[49m\u001b[38;5;124;43mrf\u001b[39;49m\u001b[38;5;124;43m'\u001b[39;49m\u001b[38;5;124;43m \u001b[39;49m\u001b[38;5;132;43;01m{\u001b[39;49;00m\u001b[43mkey\u001b[49m\u001b[38;5;132;43;01m}\u001b[39;49;00m\u001b[38;5;124;43m \u001b[39;49m\u001b[38;5;124;43m'\u001b[39;49m\u001b[43m,\u001b[49m\u001b[43m \u001b[49m\u001b[38;5;124;43mf\u001b[39;49m\u001b[38;5;124;43m'\u001b[39;49m\u001b[38;5;124;43m \u001b[39;49m\u001b[38;5;132;43;01m{\u001b[39;49;00m\u001b[43mvalue\u001b[49m\u001b[38;5;132;43;01m}\u001b[39;49;00m\u001b[38;5;124;43m \u001b[39;49m\u001b[38;5;124;43m'\u001b[39;49m\u001b[43m,\u001b[49m\u001b[43m \u001b[49m\u001b[43mtextString\u001b[49m\u001b[43m)\u001b[49m\n\u001b[1;32m      5\u001b[0m     \u001b[38;5;28;01mreturn\u001b[39;00m textString\n",
      "File \u001b[0;32m~/miniconda3/lib/python3.9/re.py:210\u001b[0m, in \u001b[0;36msub\u001b[0;34m(pattern, repl, string, count, flags)\u001b[0m\n\u001b[1;32m    203\u001b[0m \u001b[38;5;28;01mdef\u001b[39;00m \u001b[38;5;21msub\u001b[39m(pattern, repl, string, count\u001b[38;5;241m=\u001b[39m\u001b[38;5;241m0\u001b[39m, flags\u001b[38;5;241m=\u001b[39m\u001b[38;5;241m0\u001b[39m):\n\u001b[1;32m    204\u001b[0m     \u001b[38;5;124;03m\"\"\"Return the string obtained by replacing the leftmost\u001b[39;00m\n\u001b[1;32m    205\u001b[0m \u001b[38;5;124;03m    non-overlapping occurrences of the pattern in string by the\u001b[39;00m\n\u001b[1;32m    206\u001b[0m \u001b[38;5;124;03m    replacement repl.  repl can be either a string or a callable;\u001b[39;00m\n\u001b[1;32m    207\u001b[0m \u001b[38;5;124;03m    if a string, backslash escapes in it are processed.  If it is\u001b[39;00m\n\u001b[1;32m    208\u001b[0m \u001b[38;5;124;03m    a callable, it's passed the Match object and must return\u001b[39;00m\n\u001b[1;32m    209\u001b[0m \u001b[38;5;124;03m    a replacement string to be used.\"\"\"\u001b[39;00m\n\u001b[0;32m--> 210\u001b[0m     \u001b[38;5;28;01mreturn\u001b[39;00m \u001b[43m_compile\u001b[49m\u001b[43m(\u001b[49m\u001b[43mpattern\u001b[49m\u001b[43m,\u001b[49m\u001b[43m \u001b[49m\u001b[43mflags\u001b[49m\u001b[43m)\u001b[49m\u001b[38;5;241;43m.\u001b[39;49m\u001b[43msub\u001b[49m\u001b[43m(\u001b[49m\u001b[43mrepl\u001b[49m\u001b[43m,\u001b[49m\u001b[43m \u001b[49m\u001b[43mstring\u001b[49m\u001b[43m,\u001b[49m\u001b[43m \u001b[49m\u001b[43mcount\u001b[49m\u001b[43m)\u001b[49m\n",
      "\u001b[0;31mKeyboardInterrupt\u001b[0m: "
     ]
    }
   ],
   "source": [
    "def main():\n",
    "    inFolder = '/srv/data/relevantEPBodyClean'\n",
    "    outFolder = '/srv/data/relevantEPBodyReplaced'\n",
    "    lemmaDict = getLemmaDict('/srv/data/ECBC-Data-2022/stageTwo/lemmas.txt')\n",
    "    mcwDict = getMCWDict('/srv/data/ECBC-Data-2022/stageTwo/dots.txt')\n",
    "    textStrings, fileNames = getTexts(inFolder)\n",
    "    print('len:', len(textStrings))\n",
    "    for name,textString in zip(fileNames,textStrings):\n",
    "        replacedText = replaceTextLemma(textString,lemmaDict)\n",
    "        replacedText = replaceTextMCW(textString,mcwDict)\n",
    "        output(outFolder,name,replacedText)\n",
    "main()"
   ]
  },
  {
   "cell_type": "code",
   "execution_count": null,
   "metadata": {},
   "outputs": [],
   "source": [
    "#test for men to man for A00419.txt"
   ]
  },
  {
   "cell_type": "code",
   "execution_count": 14,
   "metadata": {},
   "outputs": [
    {
     "name": "stdout",
     "output_type": "stream",
     "text": [
      "11188\n"
     ]
    },
    {
     "ename": "KeyError",
     "evalue": "'john'",
     "output_type": "error",
     "traceback": [
      "\u001b[0;31m---------------------------------------------------------------------------\u001b[0m",
      "\u001b[0;31mKeyError\u001b[0m                                  Traceback (most recent call last)",
      "Input \u001b[0;32mIn [14]\u001b[0m, in \u001b[0;36m<cell line: 4>\u001b[0;34m()\u001b[0m\n\u001b[1;32m      1\u001b[0m path \u001b[38;5;241m=\u001b[39m\u001b[38;5;124m'\u001b[39m\u001b[38;5;124m/srv/data/ECBC-Data-2022/stageTwo/lemmas.txt\u001b[39m\u001b[38;5;124m'\u001b[39m\n\u001b[1;32m      3\u001b[0m text \u001b[38;5;241m=\u001b[39m getLemmaDict(path)\n\u001b[0;32m----> 4\u001b[0m \u001b[38;5;28mprint\u001b[39m(\u001b[43mtext\u001b[49m\u001b[43m[\u001b[49m\u001b[38;5;124;43m'\u001b[39;49m\u001b[38;5;124;43mjohn\u001b[39;49m\u001b[38;5;124;43m'\u001b[39;49m\u001b[43m]\u001b[49m)\n",
      "\u001b[0;31mKeyError\u001b[0m: 'john'"
     ]
    }
   ],
   "source": [
    "path ='/srv/data/ECBC-Data-2022/stageTwo/lemmas.txt'\n",
    "\n",
    "text = getLemmaDict(path)\n",
    "print(text['john'])"
   ]
  }
 ],
 "metadata": {
  "interpreter": {
   "hash": "3545c7cfb047a8f6ea180b99eadf0bc0cbbe3bfbb62bebf5627f52d77dfc1911"
  },
  "kernelspec": {
   "display_name": "Python 3.9.12 ('base')",
   "language": "python",
   "name": "python3"
  },
  "language_info": {
   "codemirror_mode": {
    "name": "ipython",
    "version": 3
   },
   "file_extension": ".py",
   "mimetype": "text/x-python",
   "name": "python",
   "nbconvert_exporter": "python",
   "pygments_lexer": "ipython3",
   "version": "3.9.12"
  },
  "orig_nbformat": 4
 },
 "nbformat": 4,
 "nbformat_minor": 2
}

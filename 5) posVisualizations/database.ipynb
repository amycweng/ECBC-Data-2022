{
 "cells": [
  {
   "cell_type": "code",
   "execution_count": 2,
   "metadata": {},
   "outputs": [],
   "source": [
    "import sqlite3\n",
    "import pandas as pd\n",
    "import json"
   ]
  },
  {
   "cell_type": "code",
   "execution_count": 41,
   "metadata": {},
   "outputs": [
    {
     "data": {
      "text/plain": [
       "<sqlite3.Cursor at 0x7fee683663c0>"
      ]
     },
     "execution_count": 41,
     "metadata": {},
     "output_type": "execute_result"
    }
   ],
   "source": [
    "conn = sqlite3.connect('both.db') \n",
    "c = conn.cursor()\n",
    "\n",
    "#need distinct primary key for each entry\n",
    "c.execute('''\n",
    "          CREATE TABLE IF NOT EXISTS Both\n",
    "          ([key] TEXT PRIMARY KEY, [commodity] STRING, [period] STRING, [pos] TEXT, [word_num] TEXT,\n",
    "          [value] TEXT)\n",
    "          ''')"
   ]
  },
  {
   "cell_type": "code",
   "execution_count": null,
   "metadata": {},
   "outputs": [],
   "source": [
    "'''\n",
    "period | pos | word# | value\n",
    "-------------------------------\n",
    "   1   |  j  |   1   |  great\n",
    "-------------------------------\n",
    "   1   |  n  |   2   |  filthy\n",
    "\n",
    "'''"
   ]
  },
  {
   "cell_type": "code",
   "execution_count": 46,
   "metadata": {},
   "outputs": [],
   "source": [
    "path = '/Users/rossrichesin/Desktop/dataPlus/opiumPeriods.json'\n",
    "f = open(path,'r')\n",
    "data = f.read()\n",
    "period_dict = json.loads(data)"
   ]
  },
  {
   "cell_type": "code",
   "execution_count": 45,
   "metadata": {},
   "outputs": [
    {
     "data": {
      "text/plain": [
       "397"
      ]
     },
     "execution_count": 45,
     "metadata": {},
     "output_type": "execute_result"
    }
   ],
   "source": [
    "len(period_dict['pos'])"
   ]
  },
  {
   "cell_type": "code",
   "execution_count": 13,
   "metadata": {},
   "outputs": [],
   "source": [
    "df = pd.DataFrame(period_dict)"
   ]
  },
  {
   "cell_type": "code",
   "execution_count": 14,
   "metadata": {},
   "outputs": [
    {
     "data": {
      "text/html": [
       "<div>\n",
       "<style scoped>\n",
       "    .dataframe tbody tr th:only-of-type {\n",
       "        vertical-align: middle;\n",
       "    }\n",
       "\n",
       "    .dataframe tbody tr th {\n",
       "        vertical-align: top;\n",
       "    }\n",
       "\n",
       "    .dataframe thead th {\n",
       "        text-align: right;\n",
       "    }\n",
       "</style>\n",
       "<table border=\"1\" class=\"dataframe\">\n",
       "  <thead>\n",
       "    <tr style=\"text-align: right;\">\n",
       "      <th></th>\n",
       "      <th>period</th>\n",
       "      <th>pos</th>\n",
       "      <th>word_num</th>\n",
       "      <th>value</th>\n",
       "    </tr>\n",
       "  </thead>\n",
       "  <tbody>\n",
       "    <tr>\n",
       "      <th>0</th>\n",
       "      <td>1</td>\n",
       "      <td>j</td>\n",
       "      <td>1</td>\n",
       "      <td>white</td>\n",
       "    </tr>\n",
       "    <tr>\n",
       "      <th>1</th>\n",
       "      <td>1</td>\n",
       "      <td>j</td>\n",
       "      <td>2</td>\n",
       "      <td>black</td>\n",
       "    </tr>\n",
       "    <tr>\n",
       "      <th>2</th>\n",
       "      <td>1</td>\n",
       "      <td>j</td>\n",
       "      <td>3</td>\n",
       "      <td>great</td>\n",
       "    </tr>\n",
       "    <tr>\n",
       "      <th>3</th>\n",
       "      <td>1</td>\n",
       "      <td>j</td>\n",
       "      <td>4</td>\n",
       "      <td>good</td>\n",
       "    </tr>\n",
       "    <tr>\n",
       "      <th>4</th>\n",
       "      <td>1</td>\n",
       "      <td>j</td>\n",
       "      <td>5</td>\n",
       "      <td>half</td>\n",
       "    </tr>\n",
       "    <tr>\n",
       "      <th>...</th>\n",
       "      <td>...</td>\n",
       "      <td>...</td>\n",
       "      <td>...</td>\n",
       "      <td>...</td>\n",
       "    </tr>\n",
       "    <tr>\n",
       "      <th>259</th>\n",
       "      <td>5</td>\n",
       "      <td>v</td>\n",
       "      <td>6</td>\n",
       "      <td>find</td>\n",
       "    </tr>\n",
       "    <tr>\n",
       "      <th>260</th>\n",
       "      <td>5</td>\n",
       "      <td>v</td>\n",
       "      <td>7</td>\n",
       "      <td>eat</td>\n",
       "    </tr>\n",
       "    <tr>\n",
       "      <th>261</th>\n",
       "      <td>5</td>\n",
       "      <td>v</td>\n",
       "      <td>8</td>\n",
       "      <td>thicken</td>\n",
       "    </tr>\n",
       "    <tr>\n",
       "      <th>262</th>\n",
       "      <td>5</td>\n",
       "      <td>v</td>\n",
       "      <td>9</td>\n",
       "      <td>break</td>\n",
       "    </tr>\n",
       "    <tr>\n",
       "      <th>263</th>\n",
       "      <td>5</td>\n",
       "      <td>v</td>\n",
       "      <td>10</td>\n",
       "      <td>former</td>\n",
       "    </tr>\n",
       "  </tbody>\n",
       "</table>\n",
       "<p>264 rows × 4 columns</p>\n",
       "</div>"
      ],
      "text/plain": [
       "     period pos  word_num    value\n",
       "0         1   j         1    white\n",
       "1         1   j         2    black\n",
       "2         1   j         3    great\n",
       "3         1   j         4     good\n",
       "4         1   j         5     half\n",
       "..      ...  ..       ...      ...\n",
       "259       5   v         6     find\n",
       "260       5   v         7      eat\n",
       "261       5   v         8  thicken\n",
       "262       5   v         9    break\n",
       "263       5   v        10   former\n",
       "\n",
       "[264 rows x 4 columns]"
      ]
     },
     "execution_count": 14,
     "metadata": {},
     "output_type": "execute_result"
    }
   ],
   "source": [
    "df "
   ]
  },
  {
   "cell_type": "code",
   "execution_count": 20,
   "metadata": {},
   "outputs": [
    {
     "name": "stdout",
     "output_type": "stream",
     "text": [
      "<class 'pandas.core.frame.DataFrame'>\n",
      "Int64Index: 14 entries, 200 to 213\n",
      "Data columns (total 4 columns):\n",
      " #   Column    Non-Null Count  Dtype \n",
      "---  ------    --------------  ----- \n",
      " 0   period    14 non-null     int64 \n",
      " 1   pos       14 non-null     object\n",
      " 2   word_num  14 non-null     int64 \n",
      " 3   value     14 non-null     object\n",
      "dtypes: int64(2), object(2)\n",
      "memory usage: 560.0+ bytes\n"
     ]
    }
   ],
   "source": [
    "df.loc[df['pos']=='p'].info()\n",
    "#each should have 50 for opium\n",
    "#and 70 for tobacco"
   ]
  },
  {
   "cell_type": "code",
   "execution_count": 42,
   "metadata": {},
   "outputs": [],
   "source": [
    "conn = sqlite3.connect('both.db') \n",
    "c = conn.cursor()\n",
    "\n",
    "paths = ['/Users/rossrichesin/Desktop/dataPlus/json/tobaccoPeriods.json', '/Users/rossrichesin/Desktop/dataPlus/json/opiumPeriods.json']\n",
    "commodities = ['t','o'] #commodities (tobacco, opium)\n",
    "for commodity, path in zip(commodities,paths):\n",
    "      f = open(path,'r')\n",
    "      data = f.read()\n",
    "      period_dict = json.loads(data)\n",
    "      keys = [commodity+str(x) for x in range(max([len(period_dict[i]) for i in period_dict.keys()]))]\n",
    "      for key, period,pos,word_num, value in zip(keys,period_dict['period'],period_dict['pos'],period_dict['word_num'],period_dict['value']):\n",
    "            statement = \"INSERT OR IGNORE INTO Both (key,commodity,period, pos, word_num, value) VALUES (?,?,?,?,?,?);\"\n",
    "            data = (key,commodity, period,pos,word_num,value)\n",
    "            c.execute(statement, data)      \n",
    "            conn.commit()\n"
   ]
  },
  {
   "cell_type": "code",
   "execution_count": 43,
   "metadata": {},
   "outputs": [
    {
     "data": {
      "text/html": [
       "<div>\n",
       "<style scoped>\n",
       "    .dataframe tbody tr th:only-of-type {\n",
       "        vertical-align: middle;\n",
       "    }\n",
       "\n",
       "    .dataframe tbody tr th {\n",
       "        vertical-align: top;\n",
       "    }\n",
       "\n",
       "    .dataframe thead th {\n",
       "        text-align: right;\n",
       "    }\n",
       "</style>\n",
       "<table border=\"1\" class=\"dataframe\">\n",
       "  <thead>\n",
       "    <tr style=\"text-align: right;\">\n",
       "      <th></th>\n",
       "      <th>key</th>\n",
       "      <th>commodity</th>\n",
       "      <th>period</th>\n",
       "      <th>pos</th>\n",
       "      <th>word_num</th>\n",
       "      <th>value</th>\n",
       "    </tr>\n",
       "  </thead>\n",
       "  <tbody>\n",
       "    <tr>\n",
       "      <th>0</th>\n",
       "      <td>t0</td>\n",
       "      <td>t</td>\n",
       "      <td>5</td>\n",
       "      <td>j</td>\n",
       "      <td>1</td>\n",
       "      <td>good</td>\n",
       "    </tr>\n",
       "    <tr>\n",
       "      <th>1</th>\n",
       "      <td>t1</td>\n",
       "      <td>t</td>\n",
       "      <td>5</td>\n",
       "      <td>j</td>\n",
       "      <td>2</td>\n",
       "      <td>great</td>\n",
       "    </tr>\n",
       "    <tr>\n",
       "      <th>2</th>\n",
       "      <td>t2</td>\n",
       "      <td>t</td>\n",
       "      <td>5</td>\n",
       "      <td>j</td>\n",
       "      <td>3</td>\n",
       "      <td>foreign</td>\n",
       "    </tr>\n",
       "    <tr>\n",
       "      <th>3</th>\n",
       "      <td>t3</td>\n",
       "      <td>t</td>\n",
       "      <td>5</td>\n",
       "      <td>j</td>\n",
       "      <td>4</td>\n",
       "      <td>english</td>\n",
       "    </tr>\n",
       "    <tr>\n",
       "      <th>4</th>\n",
       "      <td>t4</td>\n",
       "      <td>t</td>\n",
       "      <td>5</td>\n",
       "      <td>j</td>\n",
       "      <td>5</td>\n",
       "      <td>diverse</td>\n",
       "    </tr>\n",
       "    <tr>\n",
       "      <th>...</th>\n",
       "      <td>...</td>\n",
       "      <td>...</td>\n",
       "      <td>...</td>\n",
       "      <td>...</td>\n",
       "      <td>...</td>\n",
       "      <td>...</td>\n",
       "    </tr>\n",
       "    <tr>\n",
       "      <th>656</th>\n",
       "      <td>o259</td>\n",
       "      <td>o</td>\n",
       "      <td>5</td>\n",
       "      <td>v</td>\n",
       "      <td>6</td>\n",
       "      <td>find</td>\n",
       "    </tr>\n",
       "    <tr>\n",
       "      <th>657</th>\n",
       "      <td>o260</td>\n",
       "      <td>o</td>\n",
       "      <td>5</td>\n",
       "      <td>v</td>\n",
       "      <td>7</td>\n",
       "      <td>eat</td>\n",
       "    </tr>\n",
       "    <tr>\n",
       "      <th>658</th>\n",
       "      <td>o261</td>\n",
       "      <td>o</td>\n",
       "      <td>5</td>\n",
       "      <td>v</td>\n",
       "      <td>8</td>\n",
       "      <td>thicken</td>\n",
       "    </tr>\n",
       "    <tr>\n",
       "      <th>659</th>\n",
       "      <td>o262</td>\n",
       "      <td>o</td>\n",
       "      <td>5</td>\n",
       "      <td>v</td>\n",
       "      <td>9</td>\n",
       "      <td>break</td>\n",
       "    </tr>\n",
       "    <tr>\n",
       "      <th>660</th>\n",
       "      <td>o263</td>\n",
       "      <td>o</td>\n",
       "      <td>5</td>\n",
       "      <td>v</td>\n",
       "      <td>10</td>\n",
       "      <td>former</td>\n",
       "    </tr>\n",
       "  </tbody>\n",
       "</table>\n",
       "<p>661 rows × 6 columns</p>\n",
       "</div>"
      ],
      "text/plain": [
       "      key commodity  period pos word_num    value\n",
       "0      t0         t       5   j        1     good\n",
       "1      t1         t       5   j        2    great\n",
       "2      t2         t       5   j        3  foreign\n",
       "3      t3         t       5   j        4  english\n",
       "4      t4         t       5   j        5  diverse\n",
       "..    ...       ...     ...  ..      ...      ...\n",
       "656  o259         o       5   v        6     find\n",
       "657  o260         o       5   v        7      eat\n",
       "658  o261         o       5   v        8  thicken\n",
       "659  o262         o       5   v        9    break\n",
       "660  o263         o       5   v       10   former\n",
       "\n",
       "[661 rows x 6 columns]"
      ]
     },
     "execution_count": 43,
     "metadata": {},
     "output_type": "execute_result"
    }
   ],
   "source": [
    "conn = sqlite3.connect('both.db') \n",
    "c = conn.cursor()\n",
    "c.execute('''\n",
    "          SELECT * FROM Both\n",
    "          ''')\n",
    "\n",
    "df = pd.DataFrame(c.fetchall(), columns=['key','commodity','period', 'pos', 'word_num', 'value'])\n",
    "df"
   ]
  },
  {
   "cell_type": "code",
   "execution_count": null,
   "metadata": {},
   "outputs": [],
   "source": []
  }
 ],
 "metadata": {
  "kernelspec": {
   "display_name": "Python 3.10.4 ('ehr')",
   "language": "python",
   "name": "python3"
  },
  "language_info": {
   "codemirror_mode": {
    "name": "ipython",
    "version": 3
   },
   "file_extension": ".py",
   "mimetype": "text/x-python",
   "name": "python",
   "nbconvert_exporter": "python",
   "pygments_lexer": "ipython3",
   "version": "3.10.4"
  },
  "orig_nbformat": 4,
  "vscode": {
   "interpreter": {
    "hash": "601363d1c61e2209eac3ec32d3c1a44dd59f2655f1ede142bd91228995acd555"
   }
  }
 },
 "nbformat": 4,
 "nbformat_minor": 2
}

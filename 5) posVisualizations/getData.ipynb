{
 "cells": [
  {
   "cell_type": "code",
   "execution_count": 4,
   "metadata": {},
   "outputs": [],
   "source": [
    "import os\n",
    "import ast\n",
    "import json\n",
    "import pandas as pd"
   ]
  },
  {
   "cell_type": "code",
   "execution_count": null,
   "metadata": {},
   "outputs": [],
   "source": []
  },
  {
   "cell_type": "code",
   "execution_count": 9,
   "metadata": {},
   "outputs": [],
   "source": [
    "def input(dir):\n",
    "    allTimePeriods = []\n",
    "    for folder in sorted(os.listdir(dir)):\n",
    "        if folder[0] != '.':\n",
    "            c=0\n",
    "            folderPath = os.path.join(dir,folder)\n",
    "            texts = []\n",
    "            for file in os.listdir(folderPath):\n",
    "                if file[0] != '.':\n",
    "                    path = os.path.join(folderPath,file)\n",
    "                    f = open(path,'r')\n",
    "                    data = f.read()\n",
    "                    textList = ast.literal_eval(data)\n",
    "                    texts.append(textList)\n",
    "                    c+=1\n",
    "            print(c)\n",
    "            allTimePeriods.append(texts)\n",
    "    return allTimePeriods\n",
    "    #outFolder = '/Users/rossrichesin/Desktop/dataPlus'\n",
    "    #name = 'OpiumList'\n",
    "    #with open(os.path.join(outFolder, name + '.txt'), 'w+') as file:\n",
    "            #file.write(str(allTimePeriods))\n",
    "    \n",
    " "
   ]
  },
  {
   "cell_type": "code",
   "execution_count": 18,
   "metadata": {},
   "outputs": [],
   "source": [
    "def getSurWords(pos, timePeriod):\n",
    "    surroundingWords = []\n",
    "    for text in timePeriod:\n",
    "        for idx, word in enumerate(text):\n",
    "            if word[0] in ['opium', 'poppy', 'opiate', 'opiates', 'laudanum']:\n",
    "                if idx >5 and idx < len(text)-5:\n",
    "                    \n",
    "                    surroundingWords.append(text[idx-3][0]) if text[idx-5][1][0] == pos[0] else None\n",
    "                    surroundingWords.append(text[idx-3][0]) if text[idx-5][1][0] == pos[0] else None\n",
    "                    \n",
    "                    surroundingWords.append(text[idx-3][0]) if text[idx-3][1][0] == pos[0] else None\n",
    "                    surroundingWords.append(text[idx-2][0]) if text[idx-2][1][0] == pos[0] else None\n",
    "                    surroundingWords.append(text[idx-1][0]) if text[idx-1][1][0] == pos[0] else None\n",
    "\n",
    "                    surroundingWords.append(text[idx+1][0]) if text[idx+1][1][0] == pos[0] else None\n",
    "                    surroundingWords.append(text[idx+2][0]) if text[idx+2][1][0] == pos[0] else None\n",
    "                    surroundingWords.append(text[idx+3][0]) if text[idx+3][1][0] == pos[0] else None\n",
    "                    \n",
    "                    surroundingWords.append(text[idx-3][0]) if text[idx+4][1][0] == pos[0] else None\n",
    "                    surroundingWords.append(text[idx-3][0]) if text[idx+5][1][0] == pos[0] else None\n",
    "                \n",
    "\n",
    "    return surroundingWords"
   ]
  },
  {
   "cell_type": "code",
   "execution_count": 19,
   "metadata": {},
   "outputs": [],
   "source": [
    "def getTopTenMain(allTimePeriods):    \n",
    "    periods_dict ={\n",
    "        \"period\":[],\n",
    "        \"pos\": [],\n",
    "        \"word_num\":[],\n",
    "        \"value\":[]\n",
    "    }\n",
    "    allTimePeriods = input('/Users/rossrichesin/Desktop/dataPlus/opiumAllCleanPeriodsReplaced')\n",
    "    print('timeperiods',len(allTimePeriods))\n",
    "    print('text in time period 1',len(allTimePeriods[0]))\n",
    "    print('text in time period 2',len(allTimePeriods[1]))\n",
    "    print('text in time period 3',len(allTimePeriods[2]))\n",
    "    print('text in time period 4',len(allTimePeriods[3]))\n",
    "    print('text in time period 5',len(allTimePeriods[4]))\n",
    "    \n",
    "    dates = [1,2,3,4,5]  # [5,7,2,1,4,3,6] \n",
    "    for pos in ['j', 'n', 'a', 'c', 'p', 'v']:   #j=adjective; n=noun; a=adverb; c = conjuction; p =  pronoun/preposition; v=verb\n",
    "        for datePeriod, timePeriodText in zip(dates,allTimePeriods):\n",
    "            surroundingWords = getSurWords(pos, timePeriodText)\n",
    "            ser = pd.Series(surroundingWords)\n",
    "            topTen = list(ser.value_counts().index[:10])\n",
    "            for idx, word in enumerate(topTen):\n",
    "\n",
    "                periods_dict['period'].append(datePeriod)\n",
    "                periods_dict['pos'].append(pos)\n",
    "                periods_dict['word_num'].append(idx+1)\n",
    "                periods_dict['value'].append(word)\n",
    "    print('len dict',len(periods_dict['period']))\n",
    "    \n",
    "    periods_json = json.dumps(periods_dict, indent=4)\n",
    "    \n",
    "    outFolder = '/Users/rossrichesin/Desktop/dataPlus'\n",
    "    name = 'opiumPeriods'\n",
    "    with open(os.path.join(outFolder, name + '.json'), 'w+') as file:\n",
    "            file.write(str(periods_json))\n",
    "\n",
    "    \n",
    "    "
   ]
  },
  {
   "cell_type": "code",
   "execution_count": 20,
   "metadata": {},
   "outputs": [
    {
     "name": "stdout",
     "output_type": "stream",
     "text": [
      "len dict 264\n",
      "264\n"
     ]
    }
   ],
   "source": [
    "\n",
    "getTopTenMain()"
   ]
  },
  {
   "cell_type": "code",
   "execution_count": null,
   "metadata": {},
   "outputs": [],
   "source": []
  }
 ],
 "metadata": {
  "kernelspec": {
   "display_name": "Python 3.10.4 ('ehr')",
   "language": "python",
   "name": "python3"
  },
  "language_info": {
   "codemirror_mode": {
    "name": "ipython",
    "version": 3
   },
   "file_extension": ".py",
   "mimetype": "text/x-python",
   "name": "python",
   "nbconvert_exporter": "python",
   "pygments_lexer": "ipython3",
   "version": "3.10.4"
  },
  "orig_nbformat": 4,
  "vscode": {
   "interpreter": {
    "hash": "601363d1c61e2209eac3ec32d3c1a44dd59f2655f1ede142bd91228995acd555"
   }
  }
 },
 "nbformat": 4,
 "nbformat_minor": 2
}

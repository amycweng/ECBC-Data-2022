{
 "cells": [
  {
   "cell_type": "code",
   "execution_count": 1,
   "metadata": {},
   "outputs": [],
   "source": [
    "'''\n",
    "Social network visualization\n",
    "'''\n",
    "import re\n",
    "import pandas as pd\n",
    "from pyvis.network import Network\n",
    "\n",
    "def authors(csv,search):\n",
    "    '''\n",
    "    Extract text IDs and standardize authors' names.\n",
    "    '''\n",
    "    df = pd.read_csv(csv)\n",
    "    authors = df['author']\n",
    "    ids = df['id']\n",
    "    count = 0\n",
    "    dict = {}\n",
    "    for idx,TCPID in enumerate(ids):\n",
    "        if TCPID.strip() in search: \n",
    "            words = set(authors[idx].split(';'))\n",
    "            words.discard('')\n",
    "            newWords = []\n",
    "            for w in words: \n",
    "                w = w.strip()\n",
    "                # w = w.replace('.','')\n",
    "                # # w = re.sub(r'\\([^)]*\\)','',w)\n",
    "                if re.search('printer|engraver',w):continue\n",
    "                newWords.append(w)\n",
    "            dict[TCPID] = list(set(newWords))\n",
    "            count += 1\n",
    "    return dict "
   ]
  },
  {
   "cell_type": "code",
   "execution_count": 2,
   "metadata": {},
   "outputs": [
    {
     "name": "stdout",
     "output_type": "stream",
     "text": [
      "81\n"
     ]
    }
   ],
   "source": [
    "'''Get tobacco n-gram features'''\n",
    "inFile = open('/srv/data/periodFeatures/period4features/newtobaccograms.txt','r')\n",
    "inFileLines = inFile.readlines()\n",
    "inFile.close()\n",
    "tobaccoNgrams = {}\n",
    "for line in inFileLines: \n",
    "    line = line.split(':')\n",
    "    features = line[1].strip()\n",
    "    if features == '': continue\n",
    "    tobaccoNgrams[line[0].strip()] = features.strip().split(' ')\n",
    "print(len(tobaccoNgrams))\n",
    "\n",
    "'''Clustering results for tobacco Period 4'''\n",
    "Group0 = ['B12280', 'A10187', 'A03411', 'A19036', 'A68568', 'A11626', 'A14301', 'A14916', 'A15627', 'A09156', 'A00583', 'A19765', 'A20769', 'A12481', 'A13534', 'A14305', 'A08017', 'A09118', 'A08578']\n",
    "Group2 = ['A01055', 'A20065', 'A20356', 'A69225', 'A11151', 'A12155', 'A13520', 'A08977', 'A19012', 'A03559', 'A13948', 'A07024', 'A04633', 'B00490', 'A72399', 'A68252', 'A20075', 'A02827', 'A02836', 'A03807', 'A13415', 'A13436', 'A05320', 'A16489', 'A06692', 'A07025', 'A09242', 'B01146', 'A72254', 'A10402', 'A21075', 'A11153', 'A02909', 'A03240', 'A04658', 'A16924', 'A08690']\n",
    "Group1 = ['A22447', 'A22574', 'A22435', 'A22537', 'A22567', 'A22439', 'A22571']\n",
    "Group3 = ['A02758', 'A06902', 'A16627', 'A01425', 'A03065', 'A05657', 'A11156', 'A01552', 'A06768', 'A01424']\n",
    "Group4 = ['A15685', 'A16507', 'A72911', 'A02325', 'A12471', 'A09010', 'A12458', 'A17595']\n",
    "groups = {'christianShip':Group0,'tobaccoPlantation':Group1,'shipMoney':Group2,'sugarMedicine':Group3,'plantationEngland':Group4}\n",
    "groupColors = {0:'pink',1:'purple',2:'darkblue',3:'plum',4:'palevioletred'}\n"
   ]
  },
  {
   "cell_type": "code",
   "execution_count": 11,
   "metadata": {},
   "outputs": [],
   "source": [
    "green = 'plant|strong|growth|sort|sophisticate|call|leaf' #90C8AC\n",
    "beige = 'whiff|smoke|pipe|use|take|have|light|keep' #F9EBC8\n",
    "blue = 'spanish|indian|foreign|english'  #CCF1FF\n",
    "purple = 'sell|quantity|ounce|piece|shop|alehouse|tavern|retail|house|two|sack' #655D8A\n",
    "orange = 'wine|ale|drink|other|weed' #FFD9C0\n",
    "pink = 'concern|well|love|good|much|such' #FFCCE1\n",
    "yellow = 'when|almost|often|upon|there|all|still|out|may|any|than|whereas|this|nor|itself|which|that|not|will|into|but|within|shall|each|through|but|only|come'\n",
    "        #FAFFC7\n",
    "lavender =  'your|they|doctor|our|his|their|man' #E0D7FF\n",
    "\n",
    "gramGroups = {\n",
    "    'green':green,'beige':beige,'blue':blue,'purple':purple,'orange':orange,\n",
    "    'pink':pink,'yellow':yellow,'lavender':lavender\n",
    "}\n",
    "edgeColors = {\n",
    "    'green': '#90C8AC', 'beige':'#F9EBC8', 'blue':'#CCF1FF', 'purple':'#edc7ed','orange':'#FFD9C0',\n",
    "    'pink':'#FFCCE1','yellow':'lemonchiffon','lavender':'#E0D7FF'\n",
    "}\n",
    "from itertools import combinations\n",
    "def gramNetwork(auths):\n",
    "    '''\n",
    "    Catalogs edges (as well as the edge value, i.e., n-gram) between nodes\n",
    "    Returns a list of tuples (combo,gram) \n",
    "    '''\n",
    "    edgelist = []    \n",
    "    for gram,authorList in auths.items():\n",
    "        combos = list(combinations(authorList,2))\n",
    "        for combo in combos: \n",
    "            if ((combo[1],combo[0]),gram) in edgelist: continue\n",
    "            if ((combo[0],combo[1]),gram) in edgelist: continue\n",
    "            edgelist.append((combo,gram))  \n",
    "    return edgelist\n",
    "\n",
    "def createTitle(auth,authInfo):\n",
    "    items = ''\n",
    "    for TCPID,gramList in authInfo.items(): \n",
    "        count = 0\n",
    "        for item in gramList: \n",
    "            if count == 0: gramString = f'{item}'\n",
    "            count += 1 \n",
    "            if not count % 2: \n",
    "                if count == len(gramList): gramString += f', {item}'\n",
    "                else: gramString += f', {item},\\n'\n",
    "            elif count>1: gramString += f'\\t{item}'\n",
    "        items += f'{TCPID}: {gramString}\\n'\n",
    "    title = f'{auth}:\\n{items}'\n",
    "    return title\n",
    "\n",
    "def gramGraph(edgelist,title,authMap,heading,aToGramText):\n",
    "    # Create pyvis graph\n",
    "    g = Network(width=800,height=1000,notebook=True,heading=heading,bgcolor='white',font_color='black')\n",
    "    for authPair,gram in edgelist:\n",
    "        if gram=='tobacco_tobacco':continue\n",
    "        a1Color,a2Color = authMap[authPair[0]],authMap[authPair[1]]\n",
    "        \n",
    "        a1Title = createTitle(authPair[0],aToGramText[authPair[0]])\n",
    "        a2Title = createTitle(authPair[1],aToGramText[authPair[1]])\n",
    "\n",
    "        g.add_node(authPair[0], authPair[0], title=a1Title, color=a1Color,labelHighlightBold=True,chosen=True)\n",
    "        g.add_node(authPair[1], authPair[1], title=a2Title, color=a2Color,labelHighlightBold=True,chosen=True)\n",
    "        for color,gramList in gramGroups.items():\n",
    "            option = re.search(gramList,gram)\n",
    "            if option: \n",
    "                g.add_edge(authPair[0],authPair[1],title=gram,color=edgeColors[color],width=10)\n",
    "                break\n",
    "    g.show(title+\".html\")"
   ]
  },
  {
   "cell_type": "code",
   "execution_count": 4,
   "metadata": {},
   "outputs": [
    {
     "name": "stdout",
     "output_type": "stream",
     "text": [
      "84\n"
     ]
    }
   ],
   "source": [
    "file = '/srv/data/metadata/tuning/relevant.csv'\n",
    "auths = authors(file,tobaccoNgrams.keys())\n",
    "uniqueAuths = []\n",
    "for TCPID,authList in auths.copy().items():\n",
    "    uniqueAuths.extend(authList)\n",
    "print(len(set(uniqueAuths)))\n",
    "\n",
    "aToGramText = {}\n",
    "authGrams = {}\n",
    "for TCPID, authList in auths.items(): \n",
    "    for auth in authList: \n",
    "        auth = auth.strip(r'\\[').strip(r'\\]')\n",
    "        if auth not in authGrams.keys():\n",
    "            authGrams[auth] = []\n",
    "        authGrams[auth].extend(list(set(tobaccoNgrams[TCPID]))) \n",
    "\n",
    "        if auth not in aToGramText.keys(): \n",
    "            aToGramText[auth] = {TCPID: list(set(tobaccoNgrams[TCPID]))}\n",
    "        else: aToGramText[auth] = aToGramText[auth] | {TCPID: list(set(tobaccoNgrams[TCPID]))}\n",
    "\n",
    "gramToAuths = {}\n",
    "for auth, grams in authGrams.items(): \n",
    "    for gram in grams: \n",
    "        if gram not in gramToAuths.keys(): gramToAuths[gram] = [auth]\n",
    "        else: gramToAuths[gram].append(auth)\n"
   ]
  },
  {
   "cell_type": "code",
   "execution_count": 5,
   "metadata": {},
   "outputs": [
    {
     "name": "stdout",
     "output_type": "stream",
     "text": [
      "84\n"
     ]
    }
   ],
   "source": [
    "authCluster = {}\n",
    "for TCPID,authList in auths.items():\n",
    "    for idx,group in enumerate(groups.values()):\n",
    "        if TCPID in group: \n",
    "            for auth in authList: \n",
    "                if auth not in authCluster.keys(): authCluster[auth] = (idx,1)\n",
    "                else: \n",
    "                    authCluster[auth] = (authCluster[auth][0]+idx, authCluster[auth][1]+1)\n",
    "\n",
    "authMap = {}\n",
    "for auth,nums in authCluster.items():\n",
    "    avg = round(nums[0]/nums[1])\n",
    "    authMap[auth] = groupColors[avg]\n",
    "print(len(authMap))"
   ]
  },
  {
   "cell_type": "code",
   "execution_count": 12,
   "metadata": {},
   "outputs": [
    {
     "name": "stdout",
     "output_type": "stream",
     "text": [
      "581\n"
     ]
    }
   ],
   "source": [
    "edges = gramNetwork(gramToAuths)\n",
    "print(len(edges))\n",
    "gramGraph(edges,'Period 4 authors',authMap,'1625-1634 Tobacco N-Gram Author Network',aToGramText)"
   ]
  },
  {
   "cell_type": "code",
   "execution_count": 17,
   "metadata": {},
   "outputs": [
    {
     "data": {
      "text/plain": [
       "'your|they|doctor|our|his|their|man'"
      ]
     },
     "execution_count": 17,
     "metadata": {},
     "output_type": "execute_result"
    }
   ],
   "source": [
    "merge = 'your, they, doctor, our, his, their, man'\n",
    "merge = merge.split(',')\n",
    "new = []\n",
    "for m in merge:\n",
    "    new.append(m.strip())\n",
    "merge = '|'.join(new)\n",
    "merge"
   ]
  }
 ],
 "metadata": {
  "kernelspec": {
   "display_name": "Python 3.9.12 ('base')",
   "language": "python",
   "name": "python3"
  },
  "language_info": {
   "codemirror_mode": {
    "name": "ipython",
    "version": 3
   },
   "file_extension": ".py",
   "mimetype": "text/x-python",
   "name": "python",
   "nbconvert_exporter": "python",
   "pygments_lexer": "ipython3",
   "version": "3.9.12"
  },
  "orig_nbformat": 4,
  "vscode": {
   "interpreter": {
    "hash": "163b8b902ef20465a7ecf57c45ba2fc54a366f8c8d80240b381c6f4fa0585aa7"
   }
  }
 },
 "nbformat": 4,
 "nbformat_minor": 2
}

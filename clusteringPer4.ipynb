{
 "cells": [
  {
   "cell_type": "code",
   "execution_count": 44,
   "metadata": {},
   "outputs": [],
   "source": [
    "'''\n",
    "Unsupervised k-means clustering on standardized and cleaned plain text file versions of EEBO-TCP texts. \n",
    "\n",
    "Produces a user-specified number of clusters based on term frequency vectorization. \n",
    "These clusters are described using the keywords found in their corresponding entries \n",
    "in a metadata CSV file made using metadata.py in Stage I. \n",
    "\n",
    "The vectorize and cluster functions are adapted from the EarlyPrint Lab: \n",
    "    https://earlyprint.org/jupyterbook/unsupervised.html\n",
    "The topTerms function is adapted from \n",
    "    https://pythonprogramminglanguage.com/kmeans-text-clustering/ \n",
    "The elbow and intercluster functions are adapted from Yellowbrick's documentation: \n",
    "    https://www.scikit-yb.org/en/latest/index.html\n",
    "'''\n",
    "import numpy as np\n",
    "import pandas as pd\n",
    "from collections import defaultdict,Counter\n",
    "from sklearn.feature_extraction.text import TfidfVectorizer,CountVectorizer\n",
    "import sklearn.metrics as metrics\n",
    "from sklearn.cluster import KMeans\n",
    "from sklearn.decomposition import PCA\n",
    "import matplotlib.pyplot as plt\n",
    "plt.style.use('ggplot')\n",
    "from functions import keywords\n",
    "\n",
    "\n",
    "def vectorize(strings,ids,option):\n",
    "    '''\n",
    "    Vectorizes the texts and returns a dataframe of texts mapping to their TCP IDs. \n",
    "    '''\n",
    "    # vector = TfidfVectorizer(min_df=2, sublinear_tf=True)\n",
    "    # results = vector.fit_transform(strings)\n",
    "    if option =='count': vector = CountVectorizer()\n",
    "    else: vector = TfidfVectorizer()\n",
    "    results = vector.fit_transform(strings)\n",
    "    return pd.DataFrame(results.toarray(), index=ids, columns=vector.get_feature_names_out()) # Convert information back to a DataFrame\n",
    "\n",
    "def cluster(df,ids,num):\n",
    "    model = KMeans(n_clusters=num, random_state=42) \n",
    "    model.fit(df) \n",
    "    kmeans_groups = defaultdict(list)\n",
    "    for k,v in zip(model.labels_,ids):\n",
    "        kmeans_groups[k].append(v)\n",
    "    return kmeans_groups,model\n",
    "\n",
    "def topTerms(model,df,num):\n",
    "    print(\"Top terms per cluster:\")\n",
    "    centroids = model.cluster_centers_.argsort()[:, ::-1]\n",
    "    terms = list(df.columns)\n",
    "    for i in range(num):\n",
    "        top = []\n",
    "        for ind in centroids[i, :20]:\n",
    "            top.append(terms[ind])\n",
    "        print(\"Cluster %d:\" % i,top)\n",
    "\n",
    "def elbow(df):\n",
    "    from yellowbrick.cluster.elbow import kelbow_visualizer\n",
    "    kelbow_visualizer(KMeans(), df, k=(2, 10),timings=False)\n",
    "    # kelbow_visualizer(KMeans(), df, k=(2, 10),metric='calinski_harabasz',timings=False)\n",
    "    # kelbow_visualizer(KMeans(), df, k=(2, 10),metric='silhouette',timings=False)\n",
    "    \n",
    "def intercluster(model,num):\n",
    "    from yellowbrick.cluster import intercluster_distance\n",
    "    intercluster_distance(KMeans(num),model, embedding='mds') \n",
    "\n",
    "def pcaColors(kmeans,df):\n",
    "    '''\n",
    "    PCA visualization code comes from https://www.askpython.com/python/examples/plot-k-means-clusters-python \\n\",\n",
    "    '''\n",
    "    pca = PCA(n_components=2)\n",
    "    pca_results = pca.fit_transform(df) \n",
    "    label = kmeans.fit_predict(pca_results) \n",
    "    u_labels = np.unique(label)\n",
    "    groupColors = {0:'pink',1:'purple',2:'darkblue',3:'plum',4:'palevioletred'}\n",
    "    for i in u_labels:\n",
    "        plt.scatter(pca_results[label == i , 0] , pca_results[label == i , 1] , label = i,color=groupColors[i])\n",
    "    plt.legend()\n",
    "    plt.figure(figsize=(20,10))\n",
    "    plt.show()\n",
    "\n",
    "def pca(df):\n",
    "    pca = PCA(n_components=2)\n",
    "    pca_results = pca.fit_transform(df) \n",
    "    pca_df = pd.DataFrame(pca_results, columns=[\"pc1\",\"pc2\"])\n",
    "    pca_df.plot.scatter(x='pc1', y='pc2')\n",
    "    plt.legend()\n",
    "    plt.figure(figsize=(20,10))\n",
    "    plt.show()\n"
   ]
  },
  {
   "cell_type": "code",
   "execution_count": 2,
   "metadata": {},
   "outputs": [],
   "source": [
    "import os,re \n",
    "def getTexts(folder,searchList):\n",
    "    fileToText = {}\n",
    "    underscores = {}\n",
    "    for root,dirs,files in os.walk(folder):\n",
    "        for file in files:\n",
    "                if '.txt' not in file: continue\n",
    "                path = os.path.join(folder,file)\n",
    "                f = open(path,'r')\n",
    "                text = f.readlines()[0]\n",
    "                if '_' in file: \n",
    "                        name = file.split('_')[0]\n",
    "                        if name not in searchList: continue\n",
    "                        if name not in underscores.keys(): \n",
    "                                underscores[name] = text\n",
    "                        else: underscores[name] = underscores[name] + ' ' + text\n",
    "                else: \n",
    "                        name = file.split('.')[0]\n",
    "                        if name not in searchList: continue\n",
    "                        fileToText[name] = text\n",
    "                f.close()\n",
    "        for name,text in underscores.items():\n",
    "            fileToText[name] = text\n",
    "        return fileToText"
   ]
  },
  {
   "cell_type": "code",
   "execution_count": 3,
   "metadata": {},
   "outputs": [
    {
     "name": "stdout",
     "output_type": "stream",
     "text": [
      "1351\n"
     ]
    }
   ],
   "source": [
    "'''Get Topic Words for each text in a dictionary'''\n",
    "readFile = open('/srv/data/periodFeatures/period4features/period1625topics.txt','r')\n",
    "topics = {}\n",
    "for line in readFile:\n",
    "    tcpID =  line.split(':')[0].strip('.txt')\n",
    "    topic = line.split(':')[1].strip()\n",
    "    topic = re.sub(r' if | of | by | yet | the | man | see | and ',' ',topic)\n",
    "    topic = re.sub('  ',' ',topic)\n",
    "    topics[tcpID] = topic.split(' ')\n",
    "readFile.close()\n",
    "print(len(topics))"
   ]
  },
  {
   "cell_type": "code",
   "execution_count": 4,
   "metadata": {},
   "outputs": [
    {
     "name": "stdout",
     "output_type": "stream",
     "text": [
      "1351\n",
      "105\n",
      "81\n"
     ]
    }
   ],
   "source": [
    "'''Get additional features'''\n",
    "inFile = open('/srv/data/periodFeatures/period4features/featuresPeriod1625.txt','r')\n",
    "inFileLines = inFile.readlines()\n",
    "inFile.close()\n",
    "featuresDict = {}\n",
    "for line in inFileLines: \n",
    "    line = line.split(':')\n",
    "    features = line[1].strip().split(' ')\n",
    "    featuresDict[line[0].strip()] = features\n",
    "print(len(featuresDict))\n",
    "\n",
    "'''Get drug and tobacco features'''\n",
    "tobacco = 'tobacco|tobaco|tobacca|tobacconist'\n",
    "drug = 'drug|drugge|drugg|elixir|apothecary|confection|confect|medicinable|medicine|medecine|medicament|arsenic|poppy|chemic|medicinal|intoxicate|tacamahaca|potion|mithridate|antimony|opiate|opium'\n",
    "\n",
    "inFile = open('/srv/data/periodFeatures/period4features/drugTobaccoPeriod1625.txt','r')\n",
    "inFileLines = inFile.readlines()\n",
    "inFile.close()\n",
    "tobaccoDrug = {}\n",
    "for line in inFileLines: \n",
    "    line = line.split(':')\n",
    "    features = line[1].strip().split(' ')\n",
    "    if features[0] == '': continue\n",
    "    \n",
    "    '''For specifically tobacco texts'''\n",
    "    instances = re.findall(tobacco,' '.join(features))\n",
    "    if len(instances) < 1: continue\n",
    "    tobaccoDrug[line[0].strip()] = features\n",
    "print(len(tobaccoDrug))\n",
    "\n",
    "'''Get tobacco n-gram features'''\n",
    "inFile = open('/srv/data/periodFeatures/period4features/newtobaccograms.txt','r')\n",
    "inFileLines = inFile.readlines()\n",
    "inFile.close()\n",
    "tobaccoNgrams = {}\n",
    "for line in inFileLines: \n",
    "    line = line.split(':')\n",
    "    features = line[1].strip()\n",
    "    if features == '': continue\n",
    "    tobaccoNgrams[line[0].strip()] = features.strip()\n",
    "print(len(tobaccoNgrams))"
   ]
  },
  {
   "cell_type": "code",
   "execution_count": 5,
   "metadata": {},
   "outputs": [
    {
     "name": "stdout",
     "output_type": "stream",
     "text": [
      "Total number of texts to classify is 81\n"
     ]
    }
   ],
   "source": [
    "'''Get keywords metadata for each text in a dictionary'''\n",
    "'''Create list of feature strings for each file and remove stopwords'''\n",
    "import re \n",
    "from timePeriods import period4\n",
    "features = {}\n",
    "textInfo = getTexts('/srv/data/relevantEPBodySTOP',period4)\n",
    "kwdict = keywords('/srv/data/metadata/tuning/relevant.csv')\n",
    "\n",
    "for ID in tobaccoNgrams.keys():\n",
    "    '''Skip the texts that do not have any mention of tobacco or drugs'''\n",
    "    features[ID] = [textInfo[ID]]\n",
    "    kWords = (list(kwdict[ID][0]))\n",
    "    features[ID].append(' '.join(kWords*50))\n",
    "    features[ID].append(' '.join(topics[ID]*50))\n",
    "    features[ID].append(' '.join(featuresDict[ID]*20))\n",
    "    features[ID].append(' '.join(tobaccoDrug[ID]*20))\n",
    "    features[ID].append(' '.join(tobaccoNgrams[ID]*10))\n",
    "    featureStr = ' '.join(features[ID])\n",
    "    featureStr = re.sub(r' if | of | by | yet | the | man | see | and ',' ',featureStr)\n",
    "    featureStr = re.sub('  ',' ',featureStr)\n",
    "    features[ID] = featureStr\n",
    "print(f'Total number of texts to classify is {len(features)}')"
   ]
  },
  {
   "cell_type": "code",
   "execution_count": 22,
   "metadata": {},
   "outputs": [
    {
     "name": "stdout",
     "output_type": "stream",
     "text": [
      "['B12280', 'A01055', 'A20065', 'A10187', 'A20356', 'A69225', 'A22447', 'A22574', 'A11151', 'A12155', 'A02758', 'A13520', 'A15685', 'A06902', 'A16507', 'A16627', 'A08977', 'A19012', 'A03411', 'A03559', 'A13948', 'A07024', 'A19036', 'A04633', 'B00490', 'A72399', 'A72911', 'A68252', 'A20075', 'A01425', 'A22435', 'A22537', 'A22567', 'A68568', 'A11626', 'A02325', 'A02827', 'A02836', 'A03065', 'A12471', 'A03807', 'A13415', 'A13436', 'A14301', 'A05320', 'A14916', 'A05657', 'A15627', 'A16489', 'A09156', 'A00583', 'A11156', 'A06692', 'A07025', 'A09010', 'A09242', 'A19765', 'B01146', 'A72254', 'A20769', 'A10402', 'A01552', 'A21075', 'A22439', 'A22571', 'A11153', 'A02909', 'A12458', 'A12481', 'A03240', 'A13534', 'A04658', 'A14305', 'A06768', 'A16924', 'A08017', 'A17595', 'A09118', 'A01424', 'A08578', 'A08690']\n"
     ]
    }
   ],
   "source": [
    "print(list(features.keys()))"
   ]
  },
  {
   "cell_type": "code",
   "execution_count": null,
   "metadata": {},
   "outputs": [],
   "source": [
    "df = vectorize(features.values(),features.keys(),'tfidf')\n",
    "# pca(df)\n",
    "# elbow(df)"
   ]
  },
  {
   "cell_type": "code",
   "execution_count": 45,
   "metadata": {},
   "outputs": [
    {
     "name": "stdout",
     "output_type": "stream",
     "text": [
      "Top terms per cluster:\n",
      "Cluster 0: ['christian', 'ship', 'pleasure', 'god', 'profit', 'company', 'cloth', 'england', 'money', 'cape', 'sin', 'christ', 'good', 'law', 'adventure', 'arab', 'french', 'lord', 'france', 'greed']\n",
      "Cluster 1: ['tobacco', 'plantation', 'monopolies', 'import', 'islands', 'virginia', 'colonies', 'bermuda', 'legislation', 'retail', 'colony', 'england', 'industry', 'commerce', 'charles', 'history', 'pleasure', 'majesty', 'importation', 'spanish']\n",
      "Cluster 2: ['ship', 'money', 'company', 'business', 'cloth', 'tobacco', 'trade', 'pleasure', 'england', 'spain', 'french', 'good', 'france', 'christian', 'cape', 'spaniard', 'love', 'merchant', 'stock', 'out']\n",
      "Cluster 3: ['sugar', 'medicine', 'tobacco', 'cloth', 'water', 'company', 'profit', 'copper', 'india', 'use', 'pleasure', 'mithridate', 'arab', 'ship', 'take', 'muhammad', 'good', 'medicinable', 'body', 'wine']\n",
      "Cluster 4: ['plantation', 'england', 'ship', 'india', 'virginia', 'adventure', 'french', 'colony', 'company', 'christian', 'commodity', 'stock', 'tobacco', 'france', 'trade', 'spaniard', 'joint', 'america', 'profit', 'canada']\n",
      "[0 1 1 0 1 4 3 3 1 1 2 1 2 2 2 2 2 1 4 1 1 1 0 1 2 1 2 1 1 3 3 3 3 4 4 2 1\n",
      " 2 4 2 1 4 1 0 1 4 2 0 4 4 2 2 1 1 2 1 0 1 1 0 1 2 1 3 3 1 4 2 4 1 0 1 0 2\n",
      " 1 4 2 0 2 0 4]\n"
     ]
    },
    {
     "data": {
      "image/png": "[encoded data removed]",
      "text/plain": [
       "<Figure size 432x288 with 1 Axes>"
      ]
     },
     "metadata": {},
     "output_type": "display_data"
    },
    {
     "data": {
      "text/plain": [
       "<Figure size 1440x720 with 0 Axes>"
      ]
     },
     "metadata": {},
     "output_type": "display_data"
    }
   ],
   "source": [
    "k=5\n",
    "groups,model = cluster(df,features.keys(),k)\n",
    "topTerms(model,df,k)\n",
    "pcaColors(model,df)"
   ]
  },
  {
   "cell_type": "code",
   "execution_count": 29,
   "metadata": {},
   "outputs": [
    {
     "name": "stdout",
     "output_type": "stream",
     "text": [
      "Group0 = ['B12280', 'A10187', 'A03411', 'A19036', 'A68568', 'A11626', 'A14301', 'A14916', 'A15627', 'A09156', 'A00583', 'A19765', 'A20769', 'A12481', 'A13534', 'A14305', 'A08017', 'A09118', 'A08578']\n",
      "Group2 = ['A01055', 'A20065', 'A20356', 'A69225', 'A11151', 'A12155', 'A13520', 'A08977', 'A19012', 'A03559', 'A13948', 'A07024', 'A04633', 'B00490', 'A72399', 'A68252', 'A20075', 'A02827', 'A02836', 'A03807', 'A13415', 'A13436', 'A05320', 'A16489', 'A06692', 'A07025', 'A09242', 'B01146', 'A72254', 'A10402', 'A21075', 'A11153', 'A02909', 'A03240', 'A04658', 'A16924', 'A08690']\n",
      "Group1 = ['A22447', 'A22574', 'A22435', 'A22537', 'A22567', 'A22439', 'A22571']\n",
      "Group3 = ['A02758', 'A06902', 'A16627', 'A01425', 'A03065', 'A05657', 'A11156', 'A01552', 'A06768', 'A01424']\n",
      "Group4 = ['A15685', 'A16507', 'A72911', 'A02325', 'A12471', 'A09010', 'A12458', 'A17595']\n"
     ]
    }
   ],
   "source": [
    "for k in groups.keys():\n",
    "    print(f'Group{k} =',groups[k])\n"
   ]
  },
  {
   "cell_type": "code",
   "execution_count": 30,
   "metadata": {},
   "outputs": [
    {
     "name": "stdout",
     "output_type": "stream",
     "text": [
      "Group 0\n",
      "Keywords:  [('Christian life', 5), ('England', 4), ('Sermons English', 4), ('Commentaries', 2), ('Bible', 2), ('Catechisms', 1), ('Church of England', 1), ('Moral and ethical aspects', 1), ('Theater', 1), ('Ruth', 1)]\n",
      "Topic words:  [('god', 18), ('man', 9), ('good', 7), ('sin', 6), ('time', 6), ('lord', 6), ('great', 5), ('see', 5), ('christ', 4), ('therefore', 4), ('give', 4), ('yes', 3), ('soul', 3), ('king', 3), ('if', 3), ('many', 3), ('take', 3), ('law', 3), ('against', 3), ('word', 3)]\n",
      "Group 2\n",
      "Keywords:  [('History', 5), ('Ballads English', 3), ('London', 3), ('England', 3), ('Siege', 3), ('English wit and humor', 2), ('Broadsides', 2), ('Breda', 2), ('Characters and characteristics', 2), ('Frederick', 1)]\n",
      "Topic words:  [('good', 19), ('love', 11), ('man', 11), ('out', 11), ('great', 10), ('time', 9), ('well', 8), ('many', 8), ('day', 7), ('if', 6), ('take', 6), ('give', 5), ('king', 5), ('prince', 4), ('never', 4), ('tell', 4), ('wife', 4), ('enemy', 4), ('lady', 4), ('see', 3)]\n",
      "Group 1\n",
      "Keywords:  [('History', 6), ('Monopolies', 6), ('Tobacco industry', 5), ('Commerce', 5), ('Bermuda Islands', 5), ('Colonies', 5), ('Charles I', 5), ('Virginia', 4), ('Law and legislation', 2), ('Spain', 1)]\n",
      "Topic words:  [('tobacco', 7), ('take', 4), ('majesty', 3), ('command', 3), ('sell', 3), ('place', 3), ('import', 3), ('foreign', 3), ('plantation', 2), ('realm', 2), ('several', 2), ('port', 2), ('kingdom', 2), ('seal', 2), ('retail', 2), ('time', 2), ('lord', 2), ('proclamation', 2), ('utter', 1), ('colony', 1)]\n",
      "Group 3\n",
      "Keywords:  [('Beer', 2), ('Wine', 2), ('Ale', 2), ('Medicine', 2), ('Diet', 1), ('Archery', 1), ('First aid in illness and injury', 1), ('Tobacco', 1), ('Smoking', 1), ('Description and travel', 1)]\n",
      "Topic words:  [('water', 6), ('good', 4), ('great', 4), ('use', 3), ('if', 3), ('body', 3), ('time', 3), ('man', 3), ('take', 3), ('many', 2), ('out', 2), ('drink', 2), ('wine', 2), ('beer', 2), ('ale', 2), ('sug', 2), ('sugar', 2), ('tost', 2), ('disease', 1), ('shoot', 1)]\n",
      "Group 4\n",
      "Keywords:  [('History', 4), ('Description and travel', 3), ('Colonial period', 3), ('New England', 2), ('Massachusetts', 2), ('Massachuset language', 1), ('Glossaries vocabularies etc', 1), ('Massachuset Indians', 1), ('Canada', 1), ('Discovery and exploration', 1)]\n",
      "Topic words:  [('great', 7), ('good', 5), ('many', 5), ('country', 5), ('place', 3), ('man', 3), ('land', 3), ('yet', 2), ('time', 2), ('new', 2), ('god', 2), ('england', 2), ('hundred', 2), ('english', 1), ('indian', 1), ('first', 1), ('find', 1), ('church', 1), ('book', 1), ('mountagu', 1)]\n"
     ]
    }
   ],
   "source": [
    "for k in groups.keys():\n",
    "    kWords = []\n",
    "    tWords = []\n",
    "    print(f'Group {k}')\n",
    "    for TCPID in groups[k]:\n",
    "        kWords.extend(list(kwdict[TCPID][0]))\n",
    "        tWords.extend(topics[TCPID])\n",
    "    print('Keywords: ',Counter(kWords).most_common(n=10))\n",
    "    print('Topic words: ',Counter(tWords).most_common(n=20))"
   ]
  },
  {
   "cell_type": "code",
   "execution_count": 147,
   "metadata": {},
   "outputs": [
    {
     "name": "stdout",
     "output_type": "stream",
     "text": [
      "Jonson, Ben, 1573?-1637. :  A04658 :  tobacco_and_pipe\n",
      "Jonson, Ben, 1573?-1637. :  A04633 :  tobacco_pipe tobacco_there pipe_of_tobacco ale_and_tobacco weed_tobacco tobacco_taker tobacco_out tobacco_when tobacco_for_which that_tobacco smoke_of_tobacco good_tobacco\n",
      "Jonson, Ben, 1573?-1637, attributed name. :  A20356 :  tobacco_take\n"
     ]
    }
   ],
   "source": [
    "meta = pd.read_csv('/srv/data/metadata/tuning/relevant.csv')\n",
    "authorDict = {}\n",
    "for idx,tcpID in enumerate(meta['id']):\n",
    "    if tcpID in features.keys(): \n",
    "        authorDict[tcpID] = []\n",
    "        words = set(meta['author'][idx].split(';'))\n",
    "        words.discard('')\n",
    "        newWords = []\n",
    "        for w in words: \n",
    "            w = w.strip()\n",
    "            if re.search('printer|engraver',w):continue\n",
    "            newWords.append(w)\n",
    "        authorDict[tcpID] = list(set(newWords))\n",
    "for TCPID,authorList in authorDict.items(): \n",
    "    for author in authorList: \n",
    "        if author == 'James, Thomas, 1593?-1635?' : \n",
    "            print(author,': ', TCPID,': ',tobaccoNgrams[TCPID]) \n",
    "        # if author == 'Jonson, Ben, 1573?-1637, attributed name.':\n",
    "        #     print(author,': ', TCPID,': ',tobaccoNgrams[TCPID])\n",
    "        "
   ]
  },
  {
   "cell_type": "code",
   "execution_count": null,
   "metadata": {},
   "outputs": [],
   "source": [
    "'''\n",
    "Code for dividing our target corpus into two subsets  \n",
    "'''\n",
    "\n",
    "\n",
    "'''Group 2 & 0 are NON company- or travel-related'''\n",
    "group2 = ['A34599', 'A34663', 'A34666', 'A34669', 'A34673', 'A34674', 'A34675', 'A34678', 'A34679', 'A34689', 'A34693', 'A71036', 'A80608', 'A80611', 'A80614', 'A80622', 'A80625', 'A80626', 'A80630', 'A80633', 'A80635', 'A80636', 'A80637', 'A80639', 'A80640', 'A84399', 'B20727', 'B20729', 'B20736', 'A10441', 'A10442', 'A10443', 'A10444', 'A10445', 'A10446', 'A11462', 'A13290', 'A13964', 'A14721', 'A16859', 'A18429', 'A18711', 'A19859', 'A20770', 'A30138', 'A35147', 'A43512', 'A43547', 'A43548', 'A43551', 'A43554', 'A43559', 'A45536', 'A46836', 'A46841', 'A46842', 'A55491', 'A72143', 'A75905', 'A77422', 'A85813', 'A86280', 'A86287', 'A86290', 'A86299', 'A86302', 'A86304', 'A90870', 'A90871', 'A90872', 'B02400', 'B03903', 'B07540', 'A01012', 'A34672', 'A16562', 'A18994', 'A13288', 'A10924', 'A37463', 'A05370', 'A68174', 'A09105', 'A11481', 'A04220', 'A04780', 'A04365', 'A18209', 'A16554', 'A02753', 'A12485', 'A16567', 'A01009', 'A07809', 'A10875', 'A19860', 'A57693', 'A13172', 'A29665', 'B08095', 'A19954', 'A12481', 'A00407', 'A02664', 'A08531', 'A47908', 'A22507', 'A15050', 'A19581', 'A01011', 'A31482', 'A19986', 'A47202', 'A01325', 'A01530', 'A19583', 'B13579', 'A07799', 'A19220', 'A04391', 'A09109', 'A15387', 'A17013', 'A02834', 'A02058', 'A17499', 'A08829', 'A03897', 'A13707', 'A19589', 'A13171', 'A20624', 'A02614', 'A04393', 'A08541', 'A12788', 'A12096', 'A10967', 'A10180', 'A15431', 'A07765', 'A15408', 'A03452', 'A16796', 'A05382', 'A03146', 'A68146', 'A03139', 'A01007', 'A19855', 'A07801', 'A00919', 'A17866', 'B07539', 'A12480', 'A15395', 'A32784', 'A10795', 'A03141', 'A14861', 'A07348', 'A01005', 'A13535', 'A11253', 'A02990', 'A75873', 'A10094', 'A17513', 'A19243', 'A71123', 'A18441', 'A20775', 'A04112', 'A04154', 'A69161', 'A01472', 'A07529', 'A10724', 'A01006', 'A72851', 'A16795', 'A19142', 'A19178', 'A13287', 'A00200', 'A20769', 'A63071', 'B07998', 'A06193', 'A10335', 'A16853', 'A93917', 'A08826', 'A68966', 'A04776', 'A13533', 'A12701', 'A02681', 'A04838', 'A16161', 'A07646', 'A13836', 'A72329', 'A19321', 'A19590', 'A17976', 'A19588', 'A06632', 'A68902', 'A01014', 'A19395', 'A70494', 'A01008', 'A08533', 'A13170', 'A00430', 'A01010', 'A04390', 'A01004', 'A11144', 'A19503', 'A13971']\n",
    "group0 = ['A10438', 'A00823', 'A06817', 'A07081', 'A10294', 'A10803', 'A27888', 'A55490', 'A55492', 'A55493', 'A55496', 'A68799', 'A70839', 'A10402', 'A09221', 'A02053', 'A13802', 'A68114', 'A15606', 'A72473', 'A05589', 'A19383', 'A11991', 'A06456', 'A20083', 'A13481', 'B13519', 'A08452', 'A19158', 'A13499', 'A11612', 'A19644', 'A04555', 'A13521', 'A02750', 'A09038', 'A16457', 'A05590', 'A01836', 'A10362', 'A02262', 'A03217', 'A14249', 'A02645', 'A20081', 'A00825', 'A02836', 'A18407', 'A09194', 'A16469', 'A10411', 'A04942', 'A00529', 'A15140', 'A07246', 'A16564', 'A06678', 'A19443', 'A07313', 'A01989', 'A50034', 'A11472', 'A04560', 'A13410', 'A02227', 'A03250', 'A14041', 'A08687', 'A05599', 'A68144', 'A13524', 'A15662', 'A68191', 'A03116', 'A12773', 'A04564', 'A11133', 'A73532', 'A68435', 'A09202', 'A12578', 'A68133', 'A00826', 'A01839', 'A11395', 'A27982', 'A20811', 'A09039', 'A16552', 'A06891', 'A73472', 'A20836', 'A03404', 'B12182', 'A09203', 'A16923', 'A12787', 'A07176', 'A11254', 'A09204', 'A20448', 'A10811', 'A11474', 'A08659', 'A22071', 'A05598', 'A11434', 'A01793', 'A20076']\n",
    "#keep are the files from Groups 2 & 0 that we want to add to our company/voyage corpus \n",
    "keep = ['A13290','A15050','A19590','A15387','A08829','A80633','A13172','A02614','A12788'\n",
    "        ,'A46842','A34674']\n",
    "\n",
    "'''Groups 1 & 3 are company- or travel-related'''\n",
    "group1 = ['A02324', 'A02495', 'A03065', 'A03144', 'A03149', 'A05237', 'A05597', 'A06137', 'A07768', 'A07769', 'A07834', 'A10357', 'A10821', 'A12718', 'A13294', 'A13821', 'A14722', 'A15033', 'A16309', 'A17981', 'A19072', 'A19368', 'A21108', 'A26262', 'A31106', 'A41427', 'A43507', 'A43514', 'A43524', 'A43528', 'A43531', 'A43533', 'A43535', 'A43545', 'A43553', 'A57329', 'A57355', 'A57360', 'A57532', 'A57590', 'A57652', 'A62166', 'A68617', 'A68619', 'A68764', 'A71305', 'A71306', 'A71307', 'A10368', 'A08874', 'A07883', 'A02239', 'A02826', 'A20847', 'A05074', 'A13574', 'A68132', 'A19476', 'A13173', 'A07466', 'A09195', 'A19622', 'A07894', 'A16282', 'A11408', 'A20983', 'A01395', 'A14194', 'A97352', 'A14916', 'A01095', 'A01342', 'A08017', 'A02464', 'A68197', 'A17808', 'A14028', 'A09208', 'A00617', 'A07448', 'A16206', 'A12535', 'A07267', 'A01403', 'A11862', 'A08536', 'A97346', 'A68163', 'A13043', 'A11931', 'A02775', 'A09169', 'A07559', 'A10743', 'A12317', 'A13042', 'A14293', 'A12461', 'A68659', 'A05410', 'A07439', 'A17810', 'A55555', 'A68944', 'A01231', 'A17958', 'A05569', 'A05594', 'A12533', 'A11383', 'A68445', 'A68465', 'A13830', 'A11516', 'B11307', 'A13049', 'A07363', 'A11863', 'A07680', 'A11954', 'A12598', 'A14770', 'A13053', 'A02858', 'A05412', 'A08239', 'A05339', 'A01864', 'A03411', 'A19232', 'A01512', 'A02848', 'A09741', 'A00580', 'A09197', 'A13415', 'A83496', 'A04194', 'A10389', 'A13217', 'A16286', 'B13659', 'A07225', 'A68463', 'A01115', 'A21106', 'A09500', 'A10231', 'A14292', 'A67927', 'A12609', 'A16482', 'A19602', 'A07628', 'A68475', 'A17140', 'A01764', 'A03066', 'A07415', 'A16489', 'A11467', 'A19211', 'A43598', 'A18974', 'A01364', 'B00136', 'A21071', 'A03096', 'A16264', 'A05289', 'A01160', 'A09569', 'A68283', 'A10690', 'A20238', 'A04911', 'A17848', 'A05184', 'A01043', 'A16308', 'A17832', 'A02484', 'A18028', 'A07280', 'A17310', 'A11878', 'A10668', 'A13980', 'A01991', 'A01128', 'A11493', 'A05105', 'A01811', 'A05335', 'A16275', 'A01161', 'A67926', 'A05751', 'A04863', 'A06471', 'A23464', 'A12119', 'A10228', 'A11464', 'A12824', 'A13820', 'A12738', 'A16248', 'A06134', 'A19179', 'A06425', 'A18501', 'A68202', 'A22928', 'A05331', 'A06786', 'A67922', 'A19354', 'A05094']\n",
    "group3 = ['A10417', 'A10436', 'A10439', 'A10440', 'A34659', 'A34936', 'A68633', 'A68635', 'A00201', 'A00268', 'A01749', 'A01932', 'A02494', 'A02655', 'A04813', 'A05601', 'A07605', 'A07886', 'A08052', 'A08166', 'A09899', 'A11788', 'A11831', 'A11842', 'A11884', 'A12458', 'A12460', 'A12466', 'A12596', 'A14510', 'A14803', 'A15069', 'A16221', 'A19313', 'A21083', 'A25867', 'A34856', 'A35994', 'A37432', 'A37936', 'A43513', 'A43537', 'A43543', 'A43544', 'A43550', 'A43552', 'A43556', 'A45999', 'A47317', 'A47319', 'A48714', 'A49991', 'A51598', 'A55497', 'A56021', 'A57347', 'A57367', 'A57374', 'A57391', 'A57453', 'A57465', 'A57483', 'A57518', 'A57525', 'A57589', 'A57605', 'A57617', 'A62162', 'A62165', 'A65185', 'A66847', 'A69046', 'A69149', 'A70942', 'A83297', 'A85817', 'A86296', 'A86306', 'A88366', 'A90869', 'A94198', 'A94783', 'B00052', 'B00963', 'A13128', 'A19029', 'A07512', 'A06935', 'A22171', 'A07516', 'A17074', 'A57517', 'A12615', 'A18694', 'A09213', 'A02333', 'A02171', 'A02795', 'A68000', 'A12470', 'A07788', 'A13705', 'A68903', 'A03251', 'A10376', 'A01216', 'A10822', 'A05269', 'A20442', 'A18686', 'A01003', 'A03229', 'A16495', 'A05570', 'A04795', 'A15706', 'A17788', 'A19863', 'A03123', 'A02472', 'A22340', 'A01871', 'B16236', 'A04364', 'A00214', 'A10774', 'B01237', 'A71317', 'A09209', 'A09478', 'A33630', 'A07903', 'A68945', 'A15466', 'A01622', 'A78796', 'A14026', 'A20784', 'A09733', 'A74609', 'A14850', 'A15862', 'A20114', 'A34660', 'A67457', 'A73929', 'A22559', 'A11027', 'A10530', 'A00985', 'A09011', 'A02606', 'A78325', 'A00271', 'A21082', 'A16993', 'A11529', 'A08162', 'A06788', 'A02059', 'B00767', 'A12313', 'A68946', 'A14164', 'A69334', 'A69175', 'A02764', 'A16718', 'A38817', 'A22173', 'A67893', 'A02626', 'A08440', 'A09909', 'A08210', 'A10314', 'A22250', 'A12218', 'A37552', 'A13417', 'A11056', 'A72217', 'A00947', 'A07915', 'A72397', 'A12274', 'B14980', 'A11416', 'A03476', 'A06317', 'A16711', 'A08258', 'A00518', 'A73547', 'A13460', 'A16313', 'A67125', 'A22364', 'A08538', 'A04763', 'A08150', 'A10354', 'A07510', 'A05165', 'A01108', 'A19312', 'A16490', 'A73966', 'A14517', 'A08154', 'A14516', 'A67920', 'A14512', 'A08698', 'A03451', 'B00838', 'A14519', 'A12830', 'A01017', 'A36830', 'A20443', 'A68509', 'A12691', 'A21080', 'A10378', 'B00564', 'A12545', 'A30295', 'A10373', 'A69354', 'A14514', 'A73588', 'A13781', 'A10725', 'A22435', 'A14871', 'A13959', 'A14671', 'A09826', 'A11767', 'B14988', 'A19942', 'A22195', 'A69205', 'A16306', 'A13423', 'A09010', 'A00549', 'A04223', 'A10588', 'A04581', 'A05182', 'A22537', 'A68246', 'A22439', 'A20509', 'A06701', 'B09574', 'A14958', 'A13516', 'A03461', 'A17374', 'A06694', 'A09900', 'A12330', 'A02421', 'A10591', 'A14511', 'A13506', 'A14521', 'A22447', 'A51736', 'A19763', 'A16139', 'A00021', 'A22354', 'A22169', 'A02201', 'A03734', 'A15309', 'A59054', 'A35908', 'A21084', 'A15036', 'A14526', 'A07604', 'A69259', 'A01426', 'A14513', 'A14520', 'A03477', 'A13057', 'A03702', 'A17260', 'A22363', 'A22328', 'A22327', 'A14524', 'A11786', 'A16507', 'A78324', 'A10526', 'A14518', 'A34504']\n",
    "clusters = [group0,group1,group2,group3]\n",
    "kw = [[],[],[],[]]\n",
    "kwdict = keywords('/srv/data/metadata/tuning/target.csv')\n",
    "for idx,group in enumerate(clusters):\n",
    "    for name in group: \n",
    "        kw[idx].extend(kwdict[name][0])\n",
    "\n",
    "topics = [[],[],[],[]]\n",
    "ids = [{},{},{},{}]\n",
    "names = ['Group 0','Group 1','Group 2','Group 3']\n",
    "readFile = open('/srv/data/targetTopics.txt','r')\n",
    "titles = pd.read_csv('/srv/data/metadata/tuning/target.csv')\n",
    "titleDict = {}\n",
    "for idx,tcpID in enumerate(titles['id']):\n",
    "    titleDict[tcpID] = titles['title'][idx]\n",
    "\n",
    "for line in readFile:\n",
    "    tcpID = line.split(':')[0]\n",
    "    tcpID = tcpID.split('.')[0]\n",
    "    topicStr = line.split(':')[1].strip()\n",
    "    topic = topicStr.split(' ')\n",
    "    for idx,group in enumerate(clusters):\n",
    "        if tcpID in group: \n",
    "            topics[idx].extend(topic) \n",
    "            ids[idx].update({tcpID: topicStr})\n",
    "\n",
    "# for idx, topicsList in enumerate(topics):\n",
    "    # if idx == 1 or 3:\n",
    "    #     for tcpID,topicStr in ids[idx].items(): \n",
    "    #         print(tcpID,'\\n',f'Title: {titleDict[tcpID]}','\\n',f'Topic Words: {topicStr}','\\n',f'Keywords Metadata: {kwdict[tcpID][0]}','\\n\\n')\n",
    "    # common = Counter(topicsList).most_common(n=75)\n",
    "    # print(names[idx] + ' Topic Words: ' + str(common) + '\\n')\n",
    "    # print('Keywords: '+ str(Counter(kw[idx]).most_common(n=30)) + '\\n\\n')\n",
    "\n",
    "supervision = keep.copy()\n",
    "supervision.extend(group1)\n",
    "supervision.extend(group3)\n",
    "print(len(supervision))"
   ]
  }
 ],
 "metadata": {
  "kernelspec": {
   "display_name": "Python 3.9.12 ('base')",
   "language": "python",
   "name": "python3"
  },
  "language_info": {
   "codemirror_mode": {
    "name": "ipython",
    "version": 3
   },
   "file_extension": ".py",
   "mimetype": "text/x-python",
   "name": "python",
   "nbconvert_exporter": "python",
   "pygments_lexer": "ipython3",
   "version": "3.9.12"
  },
  "orig_nbformat": 4,
  "vscode": {
   "interpreter": {
    "hash": "163b8b902ef20465a7ecf57c45ba2fc54a366f8c8d80240b381c6f4fa0585aa7"
   }
  }
 },
 "nbformat": 4,
 "nbformat_minor": 2
}

{
 "cells": [
  {
   "cell_type": "code",
   "execution_count": 1,
   "metadata": {},
   "outputs": [],
   "source": [
    "import matplotlib.pyplot as plt\n",
    "import numpy as np\n",
    "\n",
    "def scatter(xData,yData,title,x_label,y_label):\n",
    "    x = [1,2,3,4,5]\n",
    "    # linear regression with least squares\n",
    "    m, b = np.polyfit(x, yData, deg=1)\n",
    "    plt.axline(xy1=(0, b), slope=m, label=f'$y = {m:.1f}x {b:+.1f}$')\n",
    "    plt.scatter(xData,yData)\n",
    "    fig = plt.gcf()\n",
    "    fig.set_size_inches(5, 5)\n",
    "    plt.ylim(0, 1)\n",
    "    plt.xlabel(x_label, fontsize=12)\n",
    "    plt.ylabel(y_label, fontsize=10)\n",
    "    plt.title(title,fontsize=10)\n",
    "    plt.show()"
   ]
  },
  {
   "cell_type": "code",
   "execution_count": 2,
   "metadata": {},
   "outputs": [],
   "source": [
    "from gensim.models import Word2Vec\n",
    "period1580 = Word2Vec.load(\"/srv/data/tensor/savedModels/period1.model\")\n",
    "period1600 = Word2Vec.load(\"/srv/data/tensor/savedModels/1600-17.model\")\n",
    "period1635 = Word2Vec.load(\"/srv/data/tensor/savedModels/period5.model\")\n",
    "period1625 = Word2Vec.load(\"/srv/data/tensor/savedModels/period3.model\")\n",
    "period1618 = Word2Vec.load(\"/srv/data/tensor/savedModels/1618-24.model\")\n",
    "models = [period1580,period1600,period1618,period1635,period1625]\n",
    "names = ['1','2','3','4','5']"
   ]
  },
  {
   "cell_type": "code",
   "execution_count": 10,
   "metadata": {},
   "outputs": [],
   "source": [
    "xData = ['1580-1599','1600-1617','1618-1624','1625-1634','1636-1641']\n",
    "yData = []\n",
    "# tobacco = ['tobacco', 'tobaco', 'tobacca', 'tobacconist','tabacco','tabaco']\n",
    "# drug = ['drug', 'drugge', 'drugg', 'elixir', 'apothecary', 'confection', 'confect', 'medicinable', 'medicine', 'medecine', 'medicament', 'arsenic', 'poppey', 'chemic', 'medicinal', 'intoxicate', 'tacamahaca', 'potion', 'mithridate', 'antimony', 'opiate', 'opium']\n",
    "tobacco = ['tobacco']\n",
    "drug = ['drug']\n",
    "for idx,model in enumerate(models): \n",
    "    totalScore = 0\n",
    "    num = 0\n",
    "    for term in tobacco: \n",
    "        for otherterm in drug: \n",
    "            if term in model.wv and otherterm in model.wv :\n",
    "                num+=1 \n",
    "                totalScore += model.wv.similarity(term,otherterm)\n",
    "    if num != 0: \n",
    "        yData.append(totalScore/num)"
   ]
  },
  {
   "cell_type": "code",
   "execution_count": 11,
   "metadata": {},
   "outputs": [
    {
     "data": {
      "image/png": "[encoded data removed]",
      "text/plain": [
       "<Figure size 360x360 with 1 Axes>"
      ]
     },
     "metadata": {
      "needs_background": "light"
     },
     "output_type": "display_data"
    }
   ],
   "source": [
    "scatter(xData,yData,'Cosine Similarity of Drug to Tobacco Over Time','Time Period','Similarity Score')"
   ]
  },
  {
   "cell_type": "code",
   "execution_count": null,
   "metadata": {},
   "outputs": [],
   "source": [
    "scatter(xData,yData,'Cosine Similarity of Unwholesome to Consumption Over Time','Time Period','Similarity Score')"
   ]
  },
  {
   "cell_type": "code",
   "execution_count": null,
   "metadata": {},
   "outputs": [],
   "source": [
    "scatter(xData,yData,'Cosine Similarity of Addict to Tobacco Over Time','Time Period','Similarity Score')"
   ]
  },
  {
   "cell_type": "code",
   "execution_count": null,
   "metadata": {},
   "outputs": [],
   "source": [
    "scatter(xData,yData,'Cosine Similarity of Tobacco to Sales Terms Over Time','Time Period','Similarity Score')"
   ]
  },
  {
   "cell_type": "code",
   "execution_count": null,
   "metadata": {},
   "outputs": [],
   "source": [
    "scatter(xData,yData,'Cosine Similarity of Tobacco to Positive Ethical Terms Over Time','Time Period','Similarity Score')"
   ]
  },
  {
   "cell_type": "code",
   "execution_count": null,
   "metadata": {},
   "outputs": [],
   "source": [
    "scatter(xData,yData,'Cosine Similarity of Tobacco to Negative Ethical Terms Over Time','Time Period','Similarity Score')"
   ]
  }
 ],
 "metadata": {
  "kernelspec": {
   "display_name": "Python 3.10.4 ('myPython')",
   "language": "python",
   "name": "python3"
  },
  "language_info": {
   "codemirror_mode": {
    "name": "ipython",
    "version": 3
   },
   "file_extension": ".py",
   "mimetype": "text/x-python",
   "name": "python",
   "nbconvert_exporter": "python",
   "pygments_lexer": "ipython3",
   "version": "3.10.4"
  },
  "orig_nbformat": 4,
  "vscode": {
   "interpreter": {
    "hash": "84aadb223da975688c2cc3670ed5b0d1d9aed0a6c1d8972bdf32d841a4ac1406"
   }
  }
 },
 "nbformat": 4,
 "nbformat_minor": 2
}

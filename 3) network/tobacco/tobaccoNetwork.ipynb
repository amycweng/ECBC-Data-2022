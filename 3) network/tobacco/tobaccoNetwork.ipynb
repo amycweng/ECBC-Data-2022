{
 "cells": [
  {
   "cell_type": "code",
   "execution_count": 2,
   "metadata": {},
   "outputs": [],
   "source": [
    "'''\n",
    "Social network visualization of the language around tobacco from 1625-1634\n",
    "'''\n",
    "import re\n",
    "import pandas as pd\n",
    "from pyvis.network import Network\n",
    "\n",
    "def authors(csv,search):\n",
    "    '''\n",
    "    Extract text IDs and authors' names.\n",
    "    '''\n",
    "    df = pd.read_csv(csv)\n",
    "    authors = df['author']\n",
    "    ids = df['id']\n",
    "    titles = df['title']\n",
    "    dates = df['date']\n",
    "    count = 0\n",
    "    dict = {}\n",
    "    for idx,TCPID in enumerate(ids):\n",
    "        if TCPID.strip() in search: \n",
    "            words = set(authors[idx].split(';'))\n",
    "            words.discard('')\n",
    "            newWords = []\n",
    "            for w in words: \n",
    "                w = w.strip()\n",
    "                if re.search('printer|engraver',w):continue\n",
    "                if re.search('Virginia Company of London',w): w = 'Virginia Company of London.'\n",
    "                newWords.append(w)\n",
    "            dict[TCPID] = [list(set(newWords)),titles[idx],dates[idx]]\n",
    "            count += 1\n",
    "    return dict "
   ]
  },
  {
   "cell_type": "code",
   "execution_count": 17,
   "metadata": {},
   "outputs": [
    {
     "name": "stdout",
     "output_type": "stream",
     "text": [
      "37\n"
     ]
    }
   ],
   "source": [
    "'''Get tobacco n-gram features'''\n",
    "from finalTexts import per1,per2,per3,per4,per5,per6,per7\n",
    "inFile = open('/srv/data/amy/alltobaccograms.txt','r')\n",
    "period = per6\n",
    "\n",
    "inFileLines = inFile.readlines()\n",
    "inFile.close()\n",
    "tobaccoNgrams = {}\n",
    "for line in inFileLines: \n",
    "    line = line.split(':')\n",
    "    tcpID = line[0].strip()\n",
    "    if tcpID in period: \n",
    "        features = line[1].strip()\n",
    "        if features == '': continue\n",
    "        tobaccoNgrams[line[0].strip()] = features.strip().split(' ')\n",
    "print(len(tobaccoNgrams))"
   ]
  },
  {
   "cell_type": "code",
   "execution_count": 18,
   "metadata": {},
   "outputs": [
    {
     "data": {
      "text/plain": [
       "'period 7'"
      ]
     },
     "execution_count": 18,
     "metadata": {},
     "output_type": "execute_result"
    }
   ],
   "source": [
    "'''period 1'''\n",
    "# Group1 = ['A68946', 'A02655', 'A00991', 'A68945', 'A02495', 'A04813']\n",
    "# Group0 = ['A02775', 'A12777', 'A08015', 'A18402', 'A18770', 'A19797', 'A71324', 'A14160', 'A06183', 'A18419', 'A10710', 'A05458', 'A08003', 'A00410', 'A19921']\n",
    "# groups = {0:Group0,1:Group1}\n",
    "# groupColors = {0:'pink',1:'purple'}\n",
    "# '''period 2'''\n",
    "# Group0 = ['B12182', 'A20076', 'A20083', 'A22928', 'A01911', 'A11056', 'A11125', 'A11767', 'A13820', 'A14295', 'A07064', 'A16711', 'A09434', 'A14205', 'B13659', 'B14999', 'A21098', 'A01991', 'A11127', 'A14335', 'A14665', 'A14606', 'B07563', 'A20094', 'A01369', 'A11117', 'A11612', 'A11931', 'A03470', 'A06903', 'A07063', 'A18935', 'A19740', 'A19331']\n",
    "# Group1 = ['A20029', 'A08253', 'A02440', 'A20030', 'A04242']\n",
    "# Group2 = ['A20062', 'A20100', 'A20867', 'A69093', 'A11097', 'A12074', 'A15352', 'A07074', 'A07492', 'A16786', 'A18400', 'A19641', 'A20077', 'A20081', 'A20092', 'A20101', 'A11264', 'A12078', 'A04648', 'A07077', 'A16814', 'A07065', 'A20082', 'A20098', 'A68982', 'A10701', 'A11131', 'A03197', 'A04647', 'A13804', 'A13841', 'A07081', 'A07491', 'A07507', 'A16779', 'A08622', 'A09041', 'A14041', 'A19643']\n",
    "# groups = {0:Group0,1:Group1,2:Group2}\n",
    "# groupColors = {0:'pink',1:'purple',2:'darkblue'}\n",
    "'''Period 3'''\n",
    "# Group0 = ['A00709', 'A01017', 'A69269', 'A22657', 'A12466', 'A07834', 'A66951', 'A72778', 'A73092', 'A20882', 'A12470', 'A18416', 'A04690', 'A07548', 'A09144', 'A02606', 'A02626', 'A13446', 'A03800', 'A11644', 'A04691', 'A07551', 'A07931']\n",
    "# Group4 = ['A00826', 'A20047', 'A20095', 'A20448', 'A10711', 'A20178', 'A12957', 'A14204', 'A14954', 'A16748', 'A16807', 'A09038', 'A19912', 'A08256', 'A09040', 'A19035', 'A00646', 'A01256', 'A01402', 'A11098', 'A11119', 'A11133', 'A11143', 'A14298', 'A09039', 'A17230', 'A20046', 'A20060', 'A20066', 'A20087', 'A68679', 'A10703', 'A11120', 'A11154', 'A12956', 'A08257', 'A08597', 'A09017']\n",
    "# Group1 = ['A01077', 'A10228', 'A20795', 'A20847', 'A10699', 'A10715', 'A10723', 'A01883', 'A04187', 'A16676', 'A18914', 'A03416', 'A15092', 'A23464', 'A20760', 'A05339', 'A15623', 'A17136', 'A02438', 'A03413', 'A04224', 'A04393', 'A07419', 'A15694', 'A00419', 'A00648', 'A20804', 'A02021', 'A04391', 'A00551', 'A01006', 'A19936', 'A01009', 'A03758']\n",
    "# Group2 = ['A01444', 'A03952', 'A19997', 'A01443', 'A13306', 'A16679', 'A72803', 'A72779', 'A12072', 'A14898', 'A07228']\n",
    "# Group3 = ['A01794', 'A04636', 'A06252', 'A06389', 'A07524', 'A18415', 'A19260', 'A05137', 'A13248', 'A13345', 'A21411', 'A01793', 'A04639', 'A13802', 'A07067', 'A07528', 'A19977', 'A06704', 'A07461', 'A00725', 'A21136', 'A07495', 'A07504', 'A19528', 'A04638', 'A15676', 'A04632']\n",
    "# groups = {0:Group0,1:Group1,2:Group2,3:Group3,4:Group4}\n",
    "# groupColors = {0:'pink',1:'purple',2:'darkblue',3:'plum',4:'palevioletred'}\n",
    "'''Period 4'''\n",
    "# Group0 = ['A13495', 'A13524', 'A06785', 'A09909', 'A69184', 'A11134', 'A06786', 'A18423', 'A11114', 'A11136', 'A06789', 'A07123']\n",
    "# Group2 = ['A00723', 'A69015', 'A02826', 'A12461', 'A04494', 'A14803', 'A15069', 'A08764', 'A19313', 'A09810', 'A03450', 'B08204', 'A72554', 'A00825', 'A13519', 'A15072', 'A15591', 'A07886', 'A08841', 'A09205', 'A04645', 'A06901', 'A16495', 'A68246', 'A01428', 'A21108', 'A11585']\n",
    "# Group1 = ['A10706', 'A22216', 'A22230', 'A14042', 'A20073', 'A22205', 'A22328', 'A03920', 'A08508', 'A22210', 'A22229', 'A14326', 'A03496', 'A03688']\n",
    "# Group3 = ['A01956', 'A20353', 'A03206', 'A13273', 'A04159', 'A04164', 'A05598', 'A17310', 'A07418', 'A15693', 'A15824', 'B01023', 'B15167', 'A72064', 'A68703', 'A68983', 'A01545', 'A21042', 'A13486', 'A14745', 'A07227', 'A13024', 'A05289', 'A06030', 'A20055', 'A20762', 'A02647', 'A13499', 'A13521', 'A14732', 'A14750', 'A00286']\n",
    "# Group4 = ['A97346', 'A10377', 'A04267', 'A16247', 'A08675', 'A09195', 'A01576', 'A11334', 'A22174', 'A01933', 'A11808', 'A22658', 'A01581', 'A11273']\n",
    "# groups = {0:Group0,1:Group1,2:Group2,3:Group3,4:Group4}\n",
    "# groupColors = {0:'pink',1:'purple',2:'darkblue',3:'plum',4:'palevioletred'}\n",
    "'''period 5'''\n",
    "# Group0 = ['B12280', 'A10187', 'A03411', 'A19036', 'A68568', 'A11626', 'A14301', 'A15627', 'A09156', 'A00583', 'A19765', 'A20769', 'A12481', 'A13534', 'A14305', 'A08017', 'A09118', 'A08578', 'A04390', 'A14278', 'A68256', 'A01470', 'A16338', 'A10231', 'A07776', 'A13060']\n",
    "# Group1 = ['A01055', 'A20065', 'A20356', 'A69225', 'A11151', 'A12155', 'A02758', 'A13520', 'A15685', 'A06902', 'A16507', 'A16627', 'A08977', 'A19012', 'A03559', 'A13948', 'A07024', 'A04633', 'B00490', 'A72399', 'A72911', 'A68252', 'A20075', 'A02827', 'A02836', 'A03065', 'A12471', 'A03807', 'A13415', 'A13436', 'A05320', 'A14916', 'A05657', 'A16489', 'A11156', 'A06692', 'A07025', 'A09010', 'A09242', 'B01146', 'A72254', 'A10402', 'A01552', 'A21075', 'A11153', 'A02909', 'A12458', 'A03240', 'A04658', 'A06768', 'A16924', 'A17595', 'A01424', 'A08690', 'B07413', 'A71306', 'A68143', 'A03149', 'A18298', 'A00297', 'A08151', 'B01191', 'A71307', 'A72397', 'A10551', 'A09036', 'A19604', 'B00963', 'B11307', 'A71305', 'A68617', 'A04652', 'A14249', 'A14292', 'A06797', 'A16629', 'A17808']\n",
    "# Group2 = ['A22447', 'A22574', 'A01425', 'A22435', 'A22537', 'A22567', 'A02325', 'A22439', 'A22571', 'A22340', 'A22354', 'A22363', 'A20509', 'A22364']\n",
    "# groups = {0:Group0,1:Group1,2:Group2}\n",
    "# groupColors = {0:'pink',1:'purple',2:'darkblue'}\n",
    "'''period 6'''\n",
    "Group0 = ['B01118', 'A01454', 'A13482', 'A19882', 'A00989', 'A07165', 'A10508', 'A03066', 'B00579', 'A01446', 'A10552', 'A10821', 'A05751', 'A07920', 'A16286']\n",
    "Group1 = ['A20093', 'A68015', 'A13217', 'A13429', 'A15845', 'A07439', 'A07628', 'A18369', 'A09674', 'A00503', 'A72527', 'A01049', 'A13502', 'A09194', 'A09899', 'A11386', 'A12142', 'A13376', 'A05418', 'A15631', 'A18367', 'A12814']\n",
    "groups = {0:Group0,1:Group1}\n",
    "groupColors = {0:'pink',1:'purple'}\n",
    "'''period 7'''\n",
    "# Group3 = ['B00113', 'B06331', 'B32508', 'A91057', 'A56145', 'A43605', 'A28264', 'A84935', 'A56346', 'A43602', 'A40049', 'A76768', 'A69561', 'B13588', 'A90502', 'A42169', 'A42368', 'A22634', 'A03960']\n",
    "# Group2 = ['B09294', 'A83496', 'A38817', 'A42872', 'A75518', 'A57437', 'A57520', 'A56323', 'A73387', 'A37557', 'A46035', 'A74707', 'A13516', 'A91395', 'A86223', 'A56127', 'A57391', 'A56322', 'A38224']\n",
    "# Group1 = ['A64253', 'A64772', 'A72473', 'A37285', 'A01779', 'A13439', 'A13461', 'A14722', 'A15847', 'B07802', 'A85534', 'A30077', 'A47081', 'A47202', 'A10790', 'A03415', 'A13393', 'A04651', 'A05597', 'A15606', 'A09626', 'A19750', 'A56891', 'A73721', 'A46228', 'A77631', 'A01253', 'A01773', 'A13010', 'A13395', 'A15873', 'A07541', 'A19888', 'A09607']\n",
    "# Group0 = ['A02060', 'A15684', 'A06911', 'A09011', 'A09740']\n",
    "# groups = {0:Group0,1:Group1,2:Group2,3:Group3}\n",
    "# groupColors = {0:'pink',1:'purple',2:'darkblue',3:'plum'}"
   ]
  },
  {
   "cell_type": "code",
   "execution_count": 19,
   "metadata": {},
   "outputs": [],
   "source": [
    "'''N-gram categorization colors'''\n",
    "from tobaccoNgramGroups import plant,usage,region,medical,trade,commodity,moral,misc,maleGeneral,female\n",
    "gramGroups = {\n",
    "    'plant':plant,'usage':usage,'region':region,'trade':trade,'commodity':commodity,\n",
    "    'moral':moral,'misc':misc,'maleGeneral':maleGeneral,'medical':medical,'female':female\n",
    "}\n",
    "edgeColors = {\n",
    "    'plant': '#90C8AC', 'usage':'#E8D7AD', 'region':'#CCF1FF', 'trade':'#edc7ed','commodity':'#FFD9C0',\n",
    "    'moral':'#FFCCE1','misc':'lemonchiffon','maleGeneral':'#E0D7FF','medical':'#8C88BA','female':'#BCD2E3'\n",
    "}\n",
    "from itertools import combinations\n",
    "def gramNetwork(gramAuthDict):\n",
    "    '''\n",
    "    Catalogs edges (as well as the edge value, i.e., n-gram) between nodes\n",
    "    Returns a list of tuples (combo,gram) \n",
    "    '''\n",
    "    edgelist = []    \n",
    "    for gram,authList in gramAuthDict.items():\n",
    "        combos = list(combinations(authList,2))\n",
    "        for combo in combos: \n",
    "            # add only edges between DIFFERENT authors. For each different gram, add a new edge  \n",
    "            if combo[1] == combo[0]: continue #avoids edges that point back to self \n",
    "            if ((combo[1],combo[0]),gram) in edgelist: continue\n",
    "            if ((combo[0],combo[1]),gram) in edgelist: continue\n",
    "            edgelist.append((combo,gram))  \n",
    "    return edgelist\n",
    "\n",
    "'''Creates the information that will pop-up when a cursor hovers over a node in the network'''\n",
    "def createTitle(auth,authInfo):\n",
    "    items = ''\n",
    "    for TCPID,gramList in authInfo.items(): \n",
    "        count = 0\n",
    "        for item in gramList: \n",
    "            if count == 0: gramString = f'{item}'\n",
    "            count += 1 \n",
    "            if not count % 2: \n",
    "                if count == len(gramList): gramString += f', {item}'\n",
    "                else: gramString += f', {item},\\n'\n",
    "            elif count>1: gramString += f'\\t{item}'\n",
    "        items += f'{TCPID}: {gramString}\\n'\n",
    "    title = f'{auth}:\\n{items}'\n",
    "    return title\n",
    "    \n",
    "def gramGraph(edgelist,title,authMap,heading,aToGramText):\n",
    "    # Create pyvis graph\n",
    "    g = Network(width=800,height=1000,notebook=True,heading=heading,bgcolor='white',font_color='black',directed=True)\n",
    "    for authPair,gram in edgelist:\n",
    "        if gram=='tobacco_tobacco':continue\n",
    "        a1Color,a2Color = authMap[authPair[0]],authMap[authPair[1]]\n",
    "        \n",
    "        a1Title = createTitle(authPair[0],aToGramText[authPair[0]])\n",
    "        a2Title = createTitle(authPair[1],aToGramText[authPair[1]])\n",
    "\n",
    "        g.add_node(authPair[0], authPair[0], title=a1Title, color=a1Color,labelHighlightBold=True,chosen=True)\n",
    "        g.add_node(authPair[1], authPair[1], title=a2Title, color=a2Color,labelHighlightBold=True,chosen=True)\n",
    "\n",
    "        for groupName,gramList in gramGroups.items():\n",
    "            if gram in gramList:\n",
    "                g.add_edge(authPair[0],authPair[1],title=gram,color=edgeColors[groupName],width=10,arrows='hide')\n",
    "    g.set_edge_smooth('dynamic')\n",
    "    g.repulsion()\n",
    "    g.show(title+\".html\")\n"
   ]
  },
  {
   "cell_type": "code",
   "execution_count": 20,
   "metadata": {},
   "outputs": [
    {
     "name": "stdout",
     "output_type": "stream",
     "text": [
      "44\n"
     ]
    }
   ],
   "source": [
    "'''Catalog authors, grams, and TCPIDs'''\n",
    "file = '/srv/data/metadata/tuning/relevant.csv'\n",
    "auths = authors(file,tobaccoNgrams.keys())\n",
    "uniqueAuths = []\n",
    "for TCPID,infoList in auths.copy().items():\n",
    "    uniqueAuths.extend(infoList[0])\n",
    "print(len(set(uniqueAuths)))\n",
    "\n",
    "aToGramText = {}\n",
    "authGrams = {}\n",
    "for TCPID, infoList in auths.items(): \n",
    "    for auth in infoList[0]: \n",
    "        auth = auth.strip(r'\\[').strip(r'\\]')\n",
    "        if auth not in authGrams.keys():\n",
    "            authGrams[auth] = []\n",
    "        authGrams[auth].extend(list(set(tobaccoNgrams[TCPID]))) \n",
    "        if auth not in aToGramText.keys(): \n",
    "            aToGramText[auth] = {TCPID: list(set(tobaccoNgrams[TCPID]))}\n",
    "        else: aToGramText[auth] = aToGramText[auth] | {TCPID: list(set(tobaccoNgrams[TCPID]))}\n",
    "\n",
    "gramToAuths = {}\n",
    "for auth, grams in authGrams.items(): \n",
    "    for gram in grams: \n",
    "        if gram not in gramToAuths.keys(): gramToAuths[gram] = [auth]\n",
    "        else: gramToAuths[gram].append(auth)\n"
   ]
  },
  {
   "cell_type": "code",
   "execution_count": 21,
   "metadata": {},
   "outputs": [
    {
     "name": "stdout",
     "output_type": "stream",
     "text": [
      "44\n"
     ]
    }
   ],
   "source": [
    "'''Get node colors based on clustering results'''\n",
    "authCluster = {}\n",
    "for TCPID,infoList in auths.items():\n",
    "    for idx,group in groups.items():\n",
    "        if TCPID in group: \n",
    "            for auth in infoList[0]: \n",
    "                if auth not in authCluster.keys(): authCluster[auth] = (idx,1)\n",
    "                else: \n",
    "                    authCluster[auth] = (authCluster[auth][0]+idx, authCluster[auth][1]+1)\n",
    "\n",
    "authMap = {}\n",
    "for auth,nums in authCluster.items():\n",
    "    avg = round(nums[0]/nums[1])\n",
    "    auth = re.sub(r'\\[|\\]','',auth)\n",
    "    authMap[auth] = groupColors[avg]\n",
    "print(len(authMap))"
   ]
  },
  {
   "cell_type": "code",
   "execution_count": 22,
   "metadata": {},
   "outputs": [
    {
     "name": "stdout",
     "output_type": "stream",
     "text": [
      "93\n"
     ]
    }
   ],
   "source": [
    "'''Create and output network'''\n",
    "edges = gramNetwork(gramToAuths)\n",
    "print(len(edges))\n",
    "gramGraph(edges,'tobacco authors',authMap,'random title',aToGramText)\n"
   ]
  },
  {
   "cell_type": "code",
   "execution_count": 24,
   "metadata": {},
   "outputs": [],
   "source": [
    "'''Get context windows for n-grams'''\n",
    "import os,re\n",
    "\n",
    "def getTexts(folder,searchList):\n",
    "    fileToText = {}\n",
    "    underscores = {}\n",
    "    for root,dirs,files in os.walk(folder):\n",
    "        for file in files:\n",
    "                if '.txt' not in file: continue\n",
    "                path = os.path.join(folder,file)\n",
    "                f = open(path,'r')\n",
    "                text = f.readlines()[0]\n",
    "                if '_' in file: \n",
    "                        name = file.split('_')[0]\n",
    "                        if name in searchList: \n",
    "                            if name not in underscores.keys(): \n",
    "                                    underscores[name] = text\n",
    "                            else: underscores[name] = underscores[name] + ' ' + text\n",
    "                else: \n",
    "                        name = file.split('.')[0]\n",
    "                        if name in searchList: \n",
    "                            fileToText[name] = text\n",
    "                f.close()\n",
    "        for name,text in underscores.items():\n",
    "            fileToText[name] = text\n",
    "        return fileToText\n",
    "   \n",
    "def context(searchgram,textName):\n",
    "    text = bigramdata[textName]\n",
    "    if (searchgram in text):\n",
    "        indices = [i for i in range(len(text)) if text.startswith(searchgram, i)]\n",
    "        windows = []\n",
    "        for index in indices:\n",
    "            if index > 120: window = text[(index-120):(index+120)].split(' ')\n",
    "            else: window = text[:index+120].split(' ')\n",
    "            del window[0]\n",
    "            del window[-1]\n",
    "            window = ' '.join(window)\n",
    "            windows.append(window)\n",
    "        return windows "
   ]
  },
  {
   "cell_type": "code",
   "execution_count": 26,
   "metadata": {},
   "outputs": [
    {
     "name": "stdout",
     "output_type": "stream",
     "text": [
      "37\n"
     ]
    }
   ],
   "source": [
    "'''Map n-grams to TCPIDs'''\n",
    "bigramdata = getTexts('/srv/data/allPeriods/period6CleanRepStop', period)\n",
    "\n",
    "file = '/srv/data/metadata/tuning/relevant.csv'\n",
    "textGrams = {}\n",
    "for TCPID in tobaccoNgrams.keys(): \n",
    "    nGrams = list(set(tobaccoNgrams[TCPID]))\n",
    "    textGrams[TCPID] = []\n",
    "    for gram in nGrams: \n",
    "        gram = re.sub('_',' ',gram)\n",
    "        textGrams[TCPID].append(gram)\n",
    "print(len(textGrams))"
   ]
  },
  {
   "cell_type": "code",
   "execution_count": 27,
   "metadata": {},
   "outputs": [],
   "source": [
    "'''Get context windows into a dictionary'''\n",
    "contexts = {}\n",
    "for TCPID,gramList in textGrams.items():\n",
    "    contexts[TCPID] = {}\n",
    "    for gram in gramList: \n",
    "        formatGram = re.sub(' ','_',gram)\n",
    "        contexts[TCPID][formatGram] = context(gram,TCPID)"
   ]
  },
  {
   "cell_type": "code",
   "execution_count": 28,
   "metadata": {},
   "outputs": [],
   "source": [
    "textToCluster = {}\n",
    "for TCPID in auths.keys(): \n",
    "    for groupIdx, group in groups.items(): \n",
    "        if TCPID in group: textToCluster[TCPID] = groupIdx"
   ]
  },
  {
   "cell_type": "code",
   "execution_count": 29,
   "metadata": {},
   "outputs": [
    {
     "name": "stdout",
     "output_type": "stream",
     "text": [
      "<b>A05751:</b> Cluster 0 <ul><li><b>Author: </b> ['Baudier, Michel, 1589?-1645. Histoire de la cour du roy de la Chine. aut', 'Baudier, Michel, 1589?-1645.', 'Grimeston, Edward.']</li><li><b>Title: </b> The history of the imperiall estate of the grand seigneurs their habitations, liues, titles ... gouernment and tyranny. Translated out of French by E.G. S.A.</li><li><b>Date: </b> 1635</li> <li><b>tobacco_into</b> <ul><li>the pasha their grey froche they have black velvet hang unto the ground they weep and sigh without they put assagoth tobacco into their and into their eye draw forth the pomp of the turkish sultan who man weep their loss constrain this</li></ul> </ul><br> <b>A09194:</b> Cluster 1 <ul><li><b>Author: </b> ['Peacham, Henry, 1576?-1643?']</li><li><b>Title: </b> Coach and sedan, pleasantly disputing for place and precedence the brewers-cart being moderator.</li><li><b>Date: </b> 1636</li> <li><b>tobacco_which</b> <ul><li>baboon musk cat the like you shall have especial care keep your chair clean and sweet both within and without suffer tobacco which many love not take they and wish the painter add his grease and linseed oil his paint small quantity of</li></ul> </ul><br> <b>A01049:</b> Cluster 1 <ul><li><b>Author: </b> ['Ford, John, 1586-ca. 1640.']</li><li><b>Title: </b> The fancies, chast and noble presented by the Queenes Maiesties Servants, at the Phoenix in Drury-lane.</li><li><b>Date: </b> 1638</li> <li><b>whiff_tobacco</b> <ul><li>good now mind thy business lest thy hand slip give kind word you best for toy that know confess shall mark your grace whiff tobacco squirt of sweet wine down your gullet you have offer play the gelding tell you of suppose speak truth</li></ul> </ul><br> <b>A05418:</b> Cluster 1 <ul><li><b>Author: </b> ['Basset, Robert.']</li><li><b>Title: </b> Curiosities: or the cabinet of nature Containing phylosophical, naturall, and morall questions fully answered and resolved. Translated out of Latin, French, and Italian authors. By R.B. Gent. Never before published.</li><li><b>Date: </b> 1637</li> <li><b>take_tobacco</b> <ul><li>extinguish the perfection of their scent what the reason that they that have eat any thing of strong send garlic onion take tobacco not perceive the malignity of the smell easy they which use they not the reason this they that use they</li></ul> </ul><br> <b>A07165:</b> Cluster 0 <ul><li><b>Author: </b> ['Maryland. aut']</li><li><b>Title: </b> A relation of Maryland together, vvith a map of the countrey, the conditions of plantation, his Majesties charter to the Lord Baltemore, translated into English.</li><li><b>Date: </b> 1635</li> <li><b>tobacco_this</b> <ul><li>building fence clear of ground raise of cattle garden etc if man labour employ hemp and flax will yield much profit tobacco this rate and many other commodity whereof this country capable man need doubt of the vent of these commodity</li></ul> <li><b>tobacco_which</b> <ul><li>man may season well plant much will yield hundred bushel of this corn bushel of bean and pease and yet attend crop of tobacco which according the goodness of the ground may more less but ordinary account between and pound weight they</li></ul> </ul><br> <b>A09674:</b> Cluster 1 <ul><li><b>Author: </b> ['Pinke, William, 1599?-1629.', 'Lyford, William, 1598-1653.', 'Pinke, William, 1599?-1629. Tryall of our sincere love to Christ. aut']</li><li><b>Title: </b> The triall of a Christians sincere loue vnto Christ. By Mr William Pinke, Mr of Arts late fellow of Magdalen Colledge in Oxford</li><li><b>Date: </b> 1636</li> <li><b>pipe_of_tobacco</b> <ul><li>favour please the humour of thy mistress will thou not thyself lest thou not know some who will quarrel stern about pipe of tobacco the pledge of health last have thou not suffer thy companion blaspheme christ their oath perhaps whole</li></ul> </ul><br> <b>A07439:</b> Cluster 1 <ul><li><b>Author: </b> ['Hondius, Jodocus, 1563-1612.', 'Mercator, Gerhard, 1512-1594.', 'Saltonstall, Wye, fl. 1630-1640.']</li><li><b>Title: </b> Historia mundi: or Mercator's atlas Containing his cosmographicall description of the fabricke and figure of the world. Lately rectified in divers places, as also beautified and enlarged with new mappes and tables; by the studious industry of Iudocus Hondy. Englished by W. S. generosus, & Coll. Regin. Oxoniæ.</li><li><b>Date: </b> 1635</li> <li><b>plant_tobacco</b> <ul><li>degree of northern latitude and english mile length they have abundance of cedar and the english of late have begin plant tobacco they the island cuba hispaniola jamaica john island and margarita the island cuba hispaniola jam^ica john</li></ul> </ul><br> <b>A01454:</b> Cluster 0 <ul><li><b>Author: </b> ['Bacon, Francis, 1561-1626. Instauratio magna.', 'Bacon, Francis, 1561-1626.', 'Rawley, William, 1588?-1667.']</li><li><b>Title: </b> Historie naturall and experimentall, of life and death. Or of the prolongation of life. Written in Latine by the Right Honorable Francis Lo. Verulam, Vis-count St. Alban</li><li><b>Date: </b> 1638</li> <li><b>tobacco_nightshade</b> <ul><li>these opium itself which the juice of poppy both the poppy well the herb the seed henbane mandrake hemlock tobacco nightshade the compound treacle mitbridate trifera laudanum paracelsi diascordium pill of hounds tongue from</li></ul> </ul><br> <b>A07628:</b> Cluster 1 <ul><li><b>Author: </b> ['Monro, Robert.']</li><li><b>Title: </b> Monro his expedition vvith the vvorthy Scots Regiment (called Mac-Keyes Regiment) levied in August 1626. by Sr. Donald Mac-Key Lord Rhees, colonell for his Majesties service of Denmark, and reduced after the Battaile of Nerling, to one company in September 1634. at Wormes in the Paltz Discharged in severall duties and observations of service; first under the magnanimous King of Denmark, during his warres against the Emperour; afterward, under the invincible King of Sweden, during his Majesties life time; and since, under the Directour Generall, the Rex-chancellor Oxensterne and his generalls. Collected and gathered together at spare-houres, by Colonell Robert Monro ... for the use of all worthie cavaliers favouring the laudable profession of armes. To which is annexed the abridgement of exercise, and divers practicall observations, for the younger officer his consideration; ending with the souldiers meditations going on service.</li><li><b>Date: </b> 1637</li> <li><b>drink_tobacco</b> <ul><li>accord page letter soldier sometime have pleasant march page letter scot sergeant slay with cannon bullet oppenhem drink tobacco the fire page letter the scottish fashion of old fight pell mell with two hand sword page letter the scot</li></ul> <li><b>tobacco_pipe</b> <ul><li>large stock band with iron like the shaft of halberd with round globe the end with cross iron pike say here one of the tobacco pipe wherewith will bear out your brain when you intend storm also nightly take some prisoner of they sometime</li></ul> <li><b>pipe_of_tobacco</b> <ul><li>out between colonel hepburnes shoulder and through the colonel coach the next shoot kill sergeant of the fire drink pipe of tobacco this night the enemy make out fall try his valour think beat from our cannon but brave repulse push of</li></ul> <li><b>tobacco_and_pipe</b> <ul><li>near begin jeer one another that the dutch one morning taunt say they hear there ship come from denmark lade with tobacco and pipe one of our soldier show they over the work morgan stern make of large stock band with iron like the</li></ul> </ul><br> <b>A01446:</b> Cluster 0 <ul><li><b>Author: </b> ['Bacon, Francis, 1561-1626. Instauratio magna.', 'Bacon, Francis, 1561-1626.']</li><li><b>Title: </b> The historie of life and death With observations naturall and experimentall for the prolonging of life. Written by the Right Honorable Francis Lord Verulam, Viscount S. Alban.</li><li><b>Date: </b> 1638</li> <li><b>hemlock_tobacco</b> <ul><li>poppey juyce and cause long life opium poppy juyce the leave and seed of both kind of poppey also henbane mandrake hemlock tobacco nightshade banewort have all drowsy stupify power treacle mithridate trifer paracelsus gum syrup of</li></ul> <li><b>tobacco_this</b> <ul><li>mouth eat famous root call beetle enable also their act of generation also of stupify power because black the tooth tobacco this age grow common and yield such secret delight and content that once take can hardly forsake lighten the</li></ul> </ul><br> <b>A10821:</b> Cluster 0 <ul><li><b>Author: </b> ['Roberts, Lewes, 1596-1640.']</li><li><b>Title: </b> The merchants mappe of commerce wherein, the universall manner and matter of trade, is compendiously handled. The standerd and currant coines of sundry princes, observed. The reall and imaginary coines of accompts and exchanges, expressed. The naturall and artificiall commodities of all countries for transportation declared. The weights and measures of all eminent cities and tovvnes of traffique, collected and reduced one into another; and all to the meridian of commerce practised in the famous citie of London. By Lewes Roberts, merchant. Necessary for all such as shall be imployed in the publique affaires of princes in forreigne parts; for all gentlemen and others that travell abroad for delight or pleasure, and for all merchants or their factors that exercise the art of merchandizing in any part of the habitable world.</li><li><b>Date: </b> 1638</li> <li><b>tobacco_which</b> <ul><li>defect from whence the name of margarita impose margarita the next trinidad discover columbus famous for the best tobacco which some nation carry trinidad the name of this island the next the isle of bacaloe lie against the influx of</li></ul> <li><b>sugar_tobacco</b> <ul><li>all the commodity that this country find afford for merchandise commodity of mexico principal gold and silver mine sugar tobacco ginger tallow hide and some spice not know our ancestor till the discovery thereof and amongst other not</li></ul> <ul><li>exclude all other nation from the trade thereof and these and other constrain have from they which number may account sugar tobacco ginger and some other drug and the commodity of the west indies general now for the inhabitant both of</li></ul> </ul><br> <b>A15631:</b> Cluster 1 <ul><li><b>Author: </b> ['Wither, George, 1588-1667.']</li><li><b>Title: </b> A collection of emblemes, ancient and moderne quickened vvith metricall illustrations, both morall and divine: and disposed into lotteries, that instruction, and good counsell, may bee furthered by an honest and pleasant recreation. By George VVither. The first booke.</li><li><b>Date: </b> 1635</li> <li><b>drink_and_tobacco</b> <ul><li>wear honour due those who spend their day court one another consume their fortune and themselves drab and play sleep drink and tobacco fuming not for though such fool like child place gay title each other wiseman know what slave they</li></ul> </ul><br> <b>A15845:</b> Cluster 1 <ul><li><b>Author: </b> ['Younge, Richard.']</li><li><b>Title: </b> The drunkard's character, or, A true drunkard with such sinnes as raigne in him viz. pride. Ignorance. Enmity. Atheisme. Idlenesse. Adultery. Murther. with many the like. Lively set forth in their colours. Together with Compleat armour against evill society. The which may serve also for a common-place-booke of the most usuall sinnes. By R. Iunius.</li><li><b>Date: </b> 1638</li> <li><b>take_tobacco</b> <ul><li>person but civil complete and well qualify gentleman that spend the whole day yes every day but bouse and bowl and take tobacco the number of man and woman this city that all the day idle yet have not idle hour afford either the</li></ul> <li><b>tobacco_that</b> <ul><li>see they have hundred device natural artificial wickedness make themselves still insatiable this end also they use tobacco that drunkenness they may both expel drunkenness and glut with wine they drink smok^ that this variety may not</li></ul> <li><b>drink_and_tobacco</b> <ul><li>call melancholy because they call but the truth they vex like saul with evil spirit which nothing will drive away but drink and tobacco which they david harp sam they wound their conscience with oath intentional murder rape and other</li></ul> </ul><br> <b>A12142:</b> Cluster 1 <ul><li><b>Author: </b> ['Shirley, James, 1596-1666.']</li><li><b>Title: </b> The lady of pleasure A comedie, as it vvas acted by her Majesties Servants, at the private House in Drury Lane. Written by James Shirly.</li><li><b>Date: </b> 1637</li> <li><b>tobacco_not</b> <ul><li>insinuate but waste time and stain breath talk such tadpole home and wash your tongue barley water drink clean tobacco not hot the mouth and you may escape the beadle leave you shame and your own garter sir must entreat you for</li></ul> <li><b>take_tobacco</b> <ul><li>shoulder out of joint call for bone setter that look the box bid his master send some more hundred pound which lose take tobacco and quiet here strong arm throw and with which brush all the table pay the rook that their smelt piece</li></ul> <li><b>good_tobacco</b> <ul><li>sum that fright here one speak out and with martyr patience smile upon his money executioner the dice command pipe of good tobacco and the smoke vanish another make the bone vault over his head swear that ill throw have put his shoulder</li></ul> </ul><br> <b>A10552:</b> Cluster 0 <ul><li><b>Author: </b> ['Anonymous']</li><li><b>Title: </b> The Red-crosse, or, Englands Lord have mercie upon us [l?]amentable relation of many visitations by the plague in times past, as well in other countries as in the citie of London, and the certaine causes thereof : with a true number of all those that dyed in the last great visitation, and also the number of all those that have dyed in this present visitation.</li><li><b>Date: </b> 1636</li> <li><b>require_for_tobacco</b> <ul><li>air and among company hold piece of strong tobacco your hand smell the root call angelica bite now and then occasion require for tobacco have approbation from the most learned doctor of the kingdom most rare antidote and preservative</li></ul> <li><b>strong_tobacco</b> <ul><li>way of defence use common assembly and open air when you abroad into the open air and among company hold piece of strong tobacco your hand smell the root call angelica bite now and then occasion require for tobacco have approbation</li></ul> </ul><br> <b>A18369:</b> Cluster 1 <ul><li><b>Author: </b> ['Chamberlain, Robert, b. 1607, attributed name.']</li><li><b>Title: </b> A new booke of mistakes. Or, Bulls with tales, and buls without tales But no lyes by any meanes.</li><li><b>Date: </b> 1637</li> <li><b>take_tobacco</b> <ul><li>butt when all hadshot very near the last arrow clap into the white which say aloud have win all if mile the bottom of take tobacco one look upon one that use take much tobacco say his friend that stand nex^ you not observe that fellow</li></ul> <ul><li>take tobacco one look upon one that use take much tobacco say his friend that stand nex^ you not observe that fellow take tobacco like fish of pocket musket two citizen speak of their arm the one have handsome short m^sket say th^ other</li></ul> <li><b>tobacco_like</b> <ul><li>tobacco one look upon one that use take much tobacco say his friend that stand nex^ you not observe that fellow take tobacco like fish of pocket musket two citizen speak of their arm the one have handsome short m^sket say th^ other</li></ul> <li><b>tobacco_say</b> <ul><li>into the white which say aloud have win all if mile the bottom of take tobacco one look upon one that use take much tobacco say his friend that stand nex^ you not observe that fellow take tobacco like fish of pocket musket two citizen</li></ul> </ul><br> <b>A13482:</b> Cluster 0 <ul><li><b>Author: </b> ['Taylor, John, 1580-1653.']</li><li><b>Title: </b> The olde, old, very olde man: or the age and long life of Thomas Par the sonne of John Parr of Winnington in the parish of Alberbury; in the country of Salopp, (or Shropshire) who was borne in the raigne of King Edward the 4th. and is now living in the Strand, being aged 152. yeares and odd monethes. His manner of life and conversation in so long a pilgrimage; his marriages, and his bringing up to London about the end of September last. 1635. Written by Iohn Taylor.</li><li><b>Date: </b> 1635</li> <li><b>small_tobacco</b> <ul><li>large gallery brave room fit receive king peer squire and groom among which room the devil have put witch and make small tobacco box the kitchen for covetousness the mint of mischief and christian bounty the highway bliss wear farm</li></ul> </ul><br> <b>A19882:</b> Cluster 0 <ul><li><b>Author: </b> [\"D'Avenant, William, Sir, 1606-1668.\"]</li><li><b>Title: </b> The triumphs of the Prince d'Amour A masque presented by His Highnesse at his pallace in the Middle Temple, the 24th of Februarie 1635.</li><li><b>Date: </b> 1635</li> <li><b>tobacco_shop</b> <ul><li>with this inscription oval amour the curtain fly the sudden the scene discover with village consist of alehouse and tobacco shop each front with red lettuce which black indian boy sit bestride roll of tobacco and the place of sign</li></ul> </ul><br> <b>A18367:</b> Cluster 1 <ul><li><b>Author: </b> ['Chamberlain, Robert, b. 1607.', 'A. S.']</li><li><b>Title: </b> The Booke of bulls, baited with two centuries of bold jests, and nimble-lies, or, A Combat betweene sence and non-sence, being at strife who  shall infuse most myrth into the gentle-reader a treatise in variety of pleasure second to none ever yet printed in the English-tongue : wherein is contained nothing alreadie published / collected by A.S. Gent.</li><li><b>Date: </b> 1636</li> <li><b>take_tobacco</b> <ul><li>but juce of wit reprehend because speak nonsense well say not for want of ignorance that speak nonsense blind man take tobacco but can not find the candle light whereupon say pray neighbour put out the candle that may see how light</li></ul> </ul><br> <b>A13502:</b> Cluster 1 <ul><li><b>Author: </b> ['Taylor, John, 1580-1653.']</li><li><b>Title: </b> Taylors feast contayning twenty-seaven dishes of meate, without bread, drinke, meate, fruite, flesh, fish, sawce, sallats, or sweet-meats, only a good stomacke, &c. Being full of variety and witty mirth. By John Taylor.</li><li><b>Date: </b> 1638</li> <li><b>tobacco_make</b> <ul><li>salutation they agree enter alehouse where formal fashionable tapster fill they much nick and froth with petard of tobacco make they his estimation reckon two shilling they fall the discourse of their several fortune and service the</li></ul> </ul><br> <b>A13217:</b> Cluster 1 <ul><li><b>Author: </b> ['Swan, John, d. 1671.']</li><li><b>Title: </b> Speculum mundi· Or A glasse representing the face of the world shewing both that it did begin, and must also end: the manner how, and time when, being largely examined. Whereunto is joyned an hexameron, or a serious discourse of the causes, continuance, and qualities of things in nature; occasioned as matter pertinent to the work done in the six dayes of the worlds creation.</li><li><b>Date: </b> 1635</li> <li><b>tobacco_great</b> <ul><li>also and good drink for piss the bed red darnell of tabaco common call tobacco there principal two kind say gerard one tobacco great the other less the great first find the kind of tobacco and where first find those province of america</li></ul> <li><b>tobacco_help</b> <ul><li>herb have infinite number of sovereign virtue very good for the head take some pipe tobacco and not seldom mix with tobacco help also the bite of mad dog drink the juice powder of and bind the green leaf the bite place pliny relate</li></ul> <li><b>take_tobacco</b> <ul><li>accurate salve for wound for old filthy ulcer of the leg etc the woman of america gerard mention his the indian woman take tobacco herbal not use take tobacco because they persuade themselves too strong for the constitution of their body</li></ul> <ul><li>old filthy ulcer of the leg etc the woman of america gerard mention his the indian woman take tobacco herbal not use take tobacco because they persuade themselves too strong for the constitution of their body and yet some woman of</li></ul> <li><b>tobacco_come</b> <ul><li>yet some woman of england use often well man and questionless those native among who grow may take more once then when tobacco come first into england any one of say that sir francis drake mariner bring the first of this herb into england</li></ul> <li><b>tobacco_and_not</b> <ul><li>hot and dry the second degree this herb have infinite number of sovereign virtue very good for the head take some pipe tobacco and not seldom mix with tobacco help also the bite of mad dog drink the juice powder of and bind the green leaf</li></ul> <li><b>leaf_of_tobacco</b> <ul><li>smoke fire fume and stink remember excellent salve which teach make of green tobacco the receipt whereof thus take the leaf of tobacco two pound hog grease excellent s^lve make with the green leaf of tobacco one pound stamp the herb small</li></ul> <ul><li>tobacco the receipt whereof thus take the leaf of tobacco two pound hog grease excellent s^lve make with the green leaf of tobacco one pound stamp the herb small stone mortar put thereto small cup full of red claret wine stir they</li></ul> <li><b>tobacco_there</b> <ul><li>the three degree the red darnell hot tarragon also and good drink for piss the bed red darnell of tabaco common call tobacco there principal two kind say gerard one tobacco great the other less the great first find the kind of tobacco</li></ul> <li><b>kind_of_tobacco</b> <ul><li>common call tobacco there principal two kind say gerard one tobacco great the other less the great first find the kind of tobacco and where first find those province of america which call the west indies the less come from trinidada</li></ul> </ul><br> <b>A11386:</b> Cluster 1 <ul><li><b>Author: </b> ['Saltonstall, Wye, fl. 1630-1640.']</li><li><b>Title: </b> A description of time applied to this present time. With times merry orders to be observed.</li><li><b>Date: </b> 1638</li> <li><b>tobacco_great</b> <ul><li>shall make hard stuff with cotten of care that man may turn twenty time before they can sleep take any rest and also tobacco great waster of time shall make smoke wheresoever find ring also of bell shall not hold necessary ring of cloth</li></ul> <li><b>all_tobacco</b> <ul><li>of they servingman shall not wear cloak for their knavery young wench shall not look green fifteen for want of husband all tobacco pipe shall break and joan slattergood shall buy new stocking for time much distaste see her hose break</li></ul> </ul><br> <b>A13429:</b> Cluster 1 <ul><li><b>Author: </b> ['Taylor, John, 1580-1653.']</li><li><b>Title: </b> Bull, beare, and horse, cut, curtaile, and longtaile. VVith tales, and tales of buls, clenches, and flashes. As also here and there a touch of our beare-garden-sport; with the second part of the merry conceits of wit and mirth. Together with the names of all the bulls and beares</li><li><b>Date: </b> 1638</li> <li><b>tobacco_shop</b> <ul><li>mistake one that goodfellow upon the score far that many black post proclaim his credit sundry tavern ale house and tobacco shop chalk the ink remember what ch^n^e owe for his drink happen that his brain intoxicate with late tipple</li></ul> </ul><br> <b>A13376:</b> Cluster 1 <ul><li><b>Author: </b> ['Tarlton, Richard, d. 1588, attributed name.']</li><li><b>Title: </b> Tarltons jests Drawne into these three parts. 1 His court-witty iests. 2 His sound city iests. 3 His countrey pretty iests. Full of delight, wit, and honest mirth.</li><li><b>Date: </b> 1638</li> <li><b>take_tobacco</b> <ul><li>fool you some please and some not but all tarlton care take for his resolution ever before talk any jest how tarlton take tobacco the first come of tarlton other gentleman use the first come of tobacco take more for fashion sake then</li></ul> <li><b>tobacco_whiff</b> <ul><li>stink make almost poison if offend say tarlton let every one take little of the smell and the savour will quick but tobacco whiff make they leave pay all tarlton pretty country jest tarlton wit between bird and woodcock the city of</li></ul> <li><b>tobacco_take</b> <ul><li>ever before talk any jest how tarlton take tobacco the first come of tarlton other gentleman use the first come of tobacco take more for fashion sake then otherwise and room set between two man overcome with wine and they never see</li></ul> </ul><br> <b>A20093:</b> Cluster 1 <ul><li><b>Author: </b> ['Dekker, Thomas, ca. 1572-1632.']</li><li><b>Title: </b> The wonder of a kingdome. Written by Thomas Dekker</li><li><b>Date: </b> 1636</li> <li><b>whiff_tobacco</b> <ul><li>your gallant your fist you mad you mad into tavern drink stiff swear stiff have your music and your brace dance and whiff tobacco till all smoke again and split sir you split very heart piece and thus but till the moor cut off her horn</li></ul> <li><b>drink_tobacco</b> <ul><li>can love like subject tie law then may you speak this language love disease common with young gallant swagger and drink tobacco there not one of they all but will today lie draw for woman if they puff and blow straight boot and</li></ul> <li><b>tobacco_shop</b> <ul><li>the drunkards whore never meddle with she smoke out kitchen chimney not nose and some lord have chimney but their nose tobacco shop show like prison hell hot smoky stink and hate the smell who will think that coal of ashy white such fire</li></ul> </ul><br> <b>A09899:</b> Cluster 1 <ul><li><b>Author: </b> ['Powell, Thomas, 1572?-1635? Wheresoever you see mee, trust unto your selfe. aut', 'Powell, Thomas, 1572?-1635?']</li><li><b>Title: </b> The art of thriving. Or, The plaine path-way to preferment. Together with The mysterie and misery of lending and borrowing. As also a table of the expence of time and money. Published for the common good of all sorts, &c.</li><li><b>Date: </b> 1636</li> <li><b>his_tobacco</b> <ul><li>and his baker boatswain and because his vintner have bestow many shot upon prosperity make master gunner his adversity his tobacco man desire the gunner mate because will make all smoke again purser they need not for beside that they have</li></ul> <li><b>tobacco_shop</b> <ul><li>within what excellent half moon there cast without for defence towards aldersgate street what sconce the fashion of tobacco shop and tap house all part of what article the silk weaver there who twist of their silk make serve like many</li></ul> <li><b>pipe_of_tobacco</b> <ul><li>of clean linen the conference with his boy how pay the laundress which detain and his employment and about the take of pipe of tobacco the privy watergate and the garden outlet well and when find remedy but that his creditor will close</li></ul> <ul><li>of every spark spirit among they there shall extraordinary allowance make instant that the full proportion of one pipe of tobacco and temple pot of six every two of they which when they have cheerful pass about the tailor who</li></ul> </ul><br> <b>A07920:</b> Cluster 0 <ul><li><b>Author: </b> ['Mure, Andrew.']</li><li><b>Title: </b> Pidax Petreia, or, The disc[ov]erie of S. Peters well, [a]t Peter-head, in Scotland being in latitude 57.d.43.m. and in longitude 22.d.40.m. : shewing the admirable vertues thereof, against many deplorable diseases / by A.M. student in medicine.</li><li><b>Date: </b> 1636</li> <li><b>tobacco_help</b> <ul><li>every two three glass take the mean time some confect anise coriander cinnamon some good tablet proper for the disease tobacco help the stomach daunt and vanquish the actual coldness of the water which walk ride exercise yourself with</li></ul> </ul><br> <b>A00503:</b> Cluster 1 <ul><li><b>Author: </b> ['G. F., defendour of Christian valoure.']</li><li><b>Title: </b> Duell-ease A worde with. valiant spiritts shewing the abuse of duells, that valour, refuseth challenges and priuate combates. sett foorth by G.F. a defendour of Christian valoure.</li><li><b>Date: </b> 1635</li> <li><b>tobacco_not</b> <ul><li>upon the occasion never come into again but say you your occasion wherein you suffer wrong not unworthy have relation tobacco not bacchus his alliance spark of war martial man another wise well ordered gentleman equal upon good cause</li></ul> <li><b>tobacco_pipe</b> <ul><li>which you harm but good service if casual you stumble upon crew of merry dispose lad and there meet the brave one with tobacco pipe their mouth of yard long jet stout if they trail pike army that burn their land the pipe end excellent</li></ul> </ul><br> <b>A00989:</b> Cluster 0 <ul><li><b>Author: </b> ['Anonymous']</li><li><b>Title: </b> The argument of the pastorall of Florimene with the discription of the scœnes and intermedij. Presented by the Queenes Maiesties commandment, before the Kings Maiesty in the hall at White-hall, on S. Thomas day the 21. of December. M.DC.XXXV.</li><li><b>Date: </b> 1635</li> <li><b>tobacco_pipe</b> <ul><li>after they enterthree boon companion the first attire like dutchman have bottle his hand the second like soldier with tobacco pipe and bolonia sausage the three dress fantastical habit with gammon of bacon and other provision tie napkin</li></ul> </ul><br> <b>A03066:</b> Cluster 0 <ul><li><b>Author: </b> ['Herbert, Thomas, Sir, 1606-1682.']</li><li><b>Title: </b> Some yeares travels into divers parts of Asia and Afrique Describing especially the two famous empires, the Persian, and the great Mogull: weaved with the history of these later times as also, many rich and spatious kingdomes in the orientall India, and other parts of Asia; together with the adjacent iles. Severally relating the religion, language, qualities, customes, habit, descent, fashions, and other observations touching them. With a revivall of the first discoverer of America. Revised and enlarged by the author.</li><li><b>Date: </b> 1638</li> <li><b>tobacco_out</b> <ul><li>with his icicle here meet the potshaw again who get into casbyn two day afore which time forty camel enter load with tobacco out of indya the owner and driver ignorant that any such prohibition have out forbid the use the king sometime</li></ul> <li><b>tobacco_and_some</b> <ul><li>diverse sort of grass root wood sorrel three leavd grasse basil parsly mint spinach fennel annys radish mustardseed tobacco and some other which willing hand direct ingenious eye may soon gather bring hither and here sow fernandus</li></ul> <li><b>tobacco_make</b> <ul><li>wage command officer crop off their ear and benose they offer his angry justice the forty camel burden of tutoon tobacco make great deep hole the pipe which inflame black vapour give the citizen gratis two whole day and night</li></ul> <li><b>weed_tobacco</b> <ul><li>whale froth of sea other wise yet doubt of coral white and pleasant look upon grow here abundace but how that stink weed tobacco come thither know not whether article nature questionable conclude this pleasant of asiatick iles</li></ul> </ul><br> <b>A12814:</b> Cluster 1 <ul><li><b>Author: </b> ['Squire, John, ca. 1588-1653.', 'Lynch, John, 1590 or 91-1680. aut']</li><li><b>Title: </b> Three sermons tvvo of them appointed for the Spittle, preached in St. Pauls Church, by John Squier, vicar of St. Leonards Shoredich in Middlesex: and John Lynch, parson of Herietsham in Kent.</li><li><b>Date: </b> 1637</li> <li><b>smoke_tobacco</b> <ul><li>nor secular affair yet all such work concern the day now what they sure not mad and gad and down the street sir and smoke tobacco shop roar and revel tavern and contempt of that destroy angel who sword yet you fee not quite sheathe lay</li></ul> </ul><br> <b>A16286:</b> Cluster 0 <ul><li><b>Author: </b> ['Abbot, George, 1562-1633.']</li><li><b>Title: </b> A briefe description of the whole world Wherein is particularly described all the monarchies, empires and kingdomes of the same, with their academies. As also their severall titles and situations thereunto adioyning. Written by the most Reverend Father in God, George, late Arch-bishop of Canterbury.</li><li><b>Date: </b> 1636</li> <li><b>tobacco_tobacco</b> <ul><li>herb whereof they make great use of which some bring into diverse part of europe under the name of their great use of tobacco tobacco nicosiana although have also much counterfeit of the same the people of those part use physic purge</li></ul> </ul><br> <b>A10508:</b> Cluster 0 <ul><li><b>Author: </b> ['Read, Alexander, 1586?-1641.']</li><li><b>Title: </b> The chirurgicall lectures of tumors and vlcers Delivered on Tusedayes appointed for these exercises, and keeping of their courts in the Chirurgeans Hall these three yeeres last past, viz. 1632, 1633, and 1634. By Alexander Read Doctor of Physick, and one of the fellowes of the Physitians College of London.</li><li><b>Date: </b> 1635</li> <li><b>tobacco_two</b> <ul><li>local mean they either bath liniment this bath commend take of crowfoot ten bath handful of colts foot five handful of tobacco two handful and half boil these sufficient quantity of spring water use this morning and evening until the body</li></ul> <li><b>green_tobacco</b> <ul><li>sheep goat and deeres suet sweet tallow olibanum frankincense the powder of serpent and adder these most effectual the green tobacco the compound these and among the first of these suffer commend unto you this of take of swines grease</li></ul> <li><b>dry_tobacco</b> <ul><li>red rose leaf add these medicament sure and such you may trust into the winter time if you boil sufficient quantity of dry tobacco strong ale and boil the decoction strain you shall have effectual medicine chief if the ulcer foul and have</li></ul> <li><b>leaf_of_tobacco</b> <ul><li>eight ounce of rosin of wax and elemni of each one ounce of the juice of the aforesaid vulnerary one pound of the leaf of tobacco stamp two handful boil all these over soft fire until the juice consume then strain the unguent make</li></ul> <li><b>tobacco_which</b> <ul><li>the local medicament commend this rosin terebinthin will not stick communicate with you the description of unguent of tobacco which use own self neithe^^m ashamed prefer before all other of this kind the description whereof have see thus</li></ul> <li><b>tobacco_have</b> <ul><li>than mark then these medicament which have pick out of aegineta vitriol vomit auripigmentij for apply the unguent of tobacco have some of this powder mingle with for ounce of the unguent if you have with nome make lineament of this</li></ul> </ul><br> <b>A68015:</b> Cluster 1 <ul><li><b>Author: </b> ['Church of England. Diocese of Ely. Bishop (1638-1667 : Wren)']</li><li><b>Title: </b> Articles to be inquired of vvithin the dioces of Ely in the first visitation of the R. Reverend Father in God Matthevv, Lord Bishop of Ely.</li><li><b>Date: </b> 1638</li> <li><b>tobacco_shop</b> <ul><li>bind chap concern the parishioner any your parish profane any sunday holiday any unlawful game drink tipple tavern inn tobacco shop alehouse the time of common prayer sermon work the work of their trade and occupation any your parish buy</li></ul> </ul><br> <b>A72527:</b> Cluster 1 <ul><li><b>Author: </b> ['Lechmere, John.', 'Lechmere, Edmund, d. 1640? Conference mentioned by Doctour Featly in the end of his Sacrilege.']</li><li><b>Title: </b> The relection of a conference touching the reall presence. Or a bachelours censure of a masters apologie for Doctour Featlie. bachelours censure of a masters apologie for Doctour Featlie. / By L.I. B. of Art, of Oxford.</li><li><b>Date: </b> 1635</li> <li><b>light_tobacco</b> <ul><li>that may without substance and then you stab through with wherewith you fix the paper where hang pag till tear out light tobacco and turn into smoke the other passage about suck will you say that ivy bush not sign that wine sell there</li></ul> </ul><br> <b>B00579:</b> Cluster 0 <ul><li><b>Author: </b> ['L. P. (Laurence Price), fl. 1625-1680?']</li><li><b>Title: </b> The batchelors feast, or, The difference betwixt, a single life and a double: being the batchelors pleasure, and the married mans trouble, to a pleasant new tune called, With a hie dildo, dill.</li><li><b>Date: </b> 1636</li> <li><b>light_tobacco</b> <ul><li>from longlane clothe and turnestile boot fie upon these scab coat the cheap meat reddish root come all these for penny light tobacco quick here there lie pretty woman near this boy will come naught fear proud coxcomb the world full of</li></ul> </ul><br> <b>B01118:</b> Cluster 0 <ul><li><b>Author: </b> ['Crouch, Humphrey, fl. 1635-1671.']</li><li><b>Title: </b> The industrious smith wherin is showne, how plain dealing is overthrown, that let a man do the best that he may, an idle huswife will work his decay, yet art is no burthen, though ill we may speed, our labour will help us in time of our need; to the tune of Yong man remember delights are but vain.</li><li><b>Date: </b> 1635</li> <li><b>sell_tobacco</b> <ul><li>ale the smith his boy work for some chink pay for the liquor which other drink of all trade london few break hear that sell tobacco strong ale and good ber they may have better but they loath fill their measure with nothing but froth let</li></ul> </ul><br>\n"
     ]
    }
   ],
   "source": [
    "'''Print out documentation for each text in HTML format (ready to be copied and pasted into a HTML doc)'''\n",
    "count = 0\n",
    "masterStr = []\n",
    "for TCPID, infoList in auths.items(): \n",
    "    count += 1\n",
    "    masterStr.append(f'<b>{TCPID}:</b> Cluster {textToCluster[TCPID]} <ul><li><b>Author: </b> {infoList[0]}</li><li><b>Title: </b> {infoList[1]}</li><li><b>Date: </b> {infoList[2]}</li>')\n",
    "    gramDict = contexts[TCPID]\n",
    "    for gram in gramDict.keys(): \n",
    "        masterStr.append(f'<li><b>{gram}</b>')\n",
    "        windows  = gramDict[gram]\n",
    "        if windows == None: continue\n",
    "        for idx,w in enumerate(windows):\n",
    "            if not idx: masterStr.append(f'<ul><li>{w}</li></ul>')\n",
    "            else: masterStr.append(f'<ul><li>{w}</li></ul>')\n",
    "    masterStr.append(f'</ul><br>')\n",
    "print(' '.join(masterStr))"
   ]
  },
  {
   "cell_type": "code",
   "execution_count": null,
   "metadata": {},
   "outputs": [],
   "source": [
    "'''Print documentation for the n-gram groups'''\n",
    "masterStr = []\n",
    "for groupName, gramGroup in gramGroups.items(): \n",
    "    masterStr.append(f'<li><b>{groupName}</b> = {gramGroup}</li><br>')\n",
    "masterStr.append('</ul>')\n",
    "print(' '.join(masterStr))"
   ]
  }
 ],
 "metadata": {
  "kernelspec": {
   "display_name": "Python 3.9.12 ('base')",
   "language": "python",
   "name": "python3"
  },
  "language_info": {
   "codemirror_mode": {
    "name": "ipython",
    "version": 3
   },
   "file_extension": ".py",
   "mimetype": "text/x-python",
   "name": "python",
   "nbconvert_exporter": "python",
   "pygments_lexer": "ipython3",
   "version": "3.9.12"
  },
  "orig_nbformat": 4,
  "vscode": {
   "interpreter": {
    "hash": "163b8b902ef20465a7ecf57c45ba2fc54a366f8c8d80240b381c6f4fa0585aa7"
   }
  }
 },
 "nbformat": 4,
 "nbformat_minor": 2
}

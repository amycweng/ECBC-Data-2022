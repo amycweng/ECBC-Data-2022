{
 "cells": [
  {
   "cell_type": "code",
   "execution_count": 1,
   "metadata": {},
   "outputs": [],
   "source": [
    "'''\n",
    "Unsupervised k-means clustering on standardized and cleaned plain text file versions of EEBO-TCP texts. \n",
    "\n",
    "Produces a user-specified number of clusters based on term frequency vectorization. \n",
    "These clusters are described using the keywords found in their corresponding entries \n",
    "in a metadata CSV file made using metadata.py in Stage I. \n",
    "\n",
    "The vectorize and cluster functions are adapted from the EarlyPrint Lab: \n",
    "    https://earlyprint.org/jupyterbook/unsupervised.html\n",
    "The topTerms function is adapted from \n",
    "    https://pythonprogramminglanguage.com/kmeans-text-clustering/ \n",
    "The elbow and intercluster functions are adapted from Yellowbrick's documentation: \n",
    "    https://www.scikit-yb.org/en/latest/index.html\n",
    "'''\n",
    "import numpy as np\n",
    "import pandas as pd\n",
    "from collections import defaultdict,Counter\n",
    "from sklearn.feature_extraction.text import TfidfVectorizer,CountVectorizer\n",
    "from sklearn.cluster import KMeans\n",
    "from sklearn.decomposition import PCA\n",
    "import matplotlib.pyplot as plt\n",
    "plt.style.use('ggplot')\n",
    "\n",
    "\n",
    "def vectorize(strings,ids,option):\n",
    "    '''\n",
    "    Vectorizes the texts and returns a dataframe of texts mapping to their TCP IDs. \n",
    "    '''\n",
    "    # vector = TfidfVectorizer(min_df=2, sublinear_tf=True)\n",
    "    # results = vector.fit_transform(strings)\n",
    "    if option =='count': vector = CountVectorizer()\n",
    "    else: vector = TfidfVectorizer()\n",
    "    results = vector.fit_transform(strings)\n",
    "    df = pd.DataFrame(results.toarray(), index=ids, columns=vector.get_feature_names_out()) # Convert information back to a DataFrame\n",
    "    return df\n",
    "\n",
    "def cluster(df,ids,num):\n",
    "    model = KMeans(n_clusters=num, random_state=42) \n",
    "    model.fit(df) \n",
    "    kmeans_groups = defaultdict(list)\n",
    "    for k,v in zip(model.labels_,ids):\n",
    "        kmeans_groups[k].append(v)\n",
    "    return kmeans_groups,model\n",
    "\n",
    "def topTerms(model,df,num):\n",
    "    tops = {}\n",
    "    centroids = model.cluster_centers_.argsort()[:, ::-1]\n",
    "    terms = list(df.columns)\n",
    "    for i in range(num):\n",
    "        tops[i] = []\n",
    "        for ind in centroids[i, :20]:\n",
    "            tops[i].append(terms[ind])\n",
    "    return tops \n",
    "\n",
    "def elbow(df):\n",
    "    from yellowbrick.cluster.elbow import kelbow_visualizer\n",
    "    kelbow_visualizer(KMeans(), df, k=(2, 10),timings=False)\n",
    "    # kelbow_visualizer(KMeans(), df, k=(2, 10),metric='calinski_harabasz',timings=False)\n",
    "    # kelbow_visualizer(KMeans(), df, k=(2, 10),metric='silhouette',timings=False)\n",
    "    \n",
    "def intercluster(model,num):\n",
    "    from yellowbrick.cluster import intercluster_distance\n",
    "    intercluster_distance(KMeans(num),model, embedding='mds') \n",
    "\n",
    "def pcaColors(kmeans,df):\n",
    "    '''\n",
    "    PCA visualization code comes from https://www.askpython.com/python/examples/plot-k-means-clusters-python \\n\",\n",
    "    '''\n",
    "    pca = PCA(n_components=2)\n",
    "    pca_results = pca.fit_transform(df) \n",
    "    label = kmeans.fit_predict(pca_results) \n",
    "    u_labels = np.unique(label)\n",
    "    groupColors = {0:'pink',1:'purple',2:'darkblue',3:'plum',4:'palevioletred'}\n",
    "    for i in u_labels:\n",
    "        plt.scatter(pca_results[label == i , 0] , pca_results[label == i , 1] , label = i,color=groupColors[i])\n",
    "    plt.legend()\n",
    "    plt.figure(figsize=(20,10))\n",
    "    plt.show()\n",
    "\n",
    "def pca(df):\n",
    "    pca = PCA(n_components=2)\n",
    "    pca_results = pca.fit_transform(df) \n",
    "    pca_df = pd.DataFrame(pca_results, columns=[\"pc1\",\"pc2\"])\n",
    "    pca_df.plot.scatter(x='pc1', y='pc2')\n",
    "    plt.legend()\n",
    "    plt.figure(figsize=(20,10))\n",
    "    plt.show()\n"
   ]
  },
  {
   "cell_type": "code",
   "execution_count": 2,
   "metadata": {},
   "outputs": [],
   "source": [
    "import os,re \n",
    "\n",
    "\n",
    "def keywords(csv):\n",
    "    '''\n",
    "    Returns a dictionary in this format {id : (keywords,date)}\n",
    "    '''\n",
    "    df = pd.read_csv(csv)\n",
    "    keywords = df['keywords']\n",
    "    ids = df['id']\n",
    "    dates = df['date']\n",
    "    numFiles = len(ids)\n",
    "    count = 0\n",
    "    dict = {}\n",
    "    while count < numFiles:\n",
    "        words = set(keywords[count].split('--'))\n",
    "        # removing unnecessary keywords\n",
    "        words.discard('')\n",
    "        # Removing unnecessary dates  \n",
    "        newWords = []\n",
    "        for w in words: \n",
    "            w = w.replace('.','')\n",
    "            w = re.sub(r'\\([^)]*\\)','',w)\n",
    "            w = re.sub(r'[.\"\\'-?:!;]', '', w)\n",
    "            w = re.sub(r' ca|-|[0-9]{4}|,','',w)\n",
    "            if re.search('Sultan of the Turks',w):\n",
    "                w = 'Sultan of the Turks'\n",
    "            if re.search('Süleyman',w):\n",
    "                w = 'Süleyman'\n",
    "            w = w.strip()\n",
    "            newWords.append(w)\n",
    "        newWords = set(newWords)\n",
    "        newWords.discard('')\n",
    "        newWords.discard('-')\n",
    "        newWords.discard('th century')\n",
    "        newWords.discard('I')\n",
    "        newWords.discard('Early works to')\n",
    "        newWords.discard('To')\n",
    "        newWords.discard('No Keywords')\n",
    "        newWords.discard('Great Britain')\n",
    "        dict[ids[count]] = (newWords,dates[count])\n",
    "        count += 1\n",
    "    return dict \n",
    "    \n",
    "def getTexts(folder,searchList):\n",
    "    fileToText = {}\n",
    "    underscores = {}\n",
    "    for root,dirs,files in os.walk(folder):\n",
    "        for file in files:\n",
    "                if '.txt' not in file: continue\n",
    "                path = os.path.join(folder,file)\n",
    "                f = open(path,'r')\n",
    "                text = f.readlines()[0]\n",
    "                if '_' in file: \n",
    "                        name = file.split('_')[0]\n",
    "                        if name not in searchList: continue\n",
    "                        if name not in underscores.keys(): \n",
    "                                underscores[name] = text\n",
    "                        else: underscores[name] = underscores[name] + ' ' + text\n",
    "                else: \n",
    "                        name = file.split('.')[0]\n",
    "                        if name not in searchList: continue\n",
    "                        fileToText[name] = text\n",
    "                f.close()\n",
    "        for name,text in underscores.items():\n",
    "            fileToText[name] = text\n",
    "        return fileToText"
   ]
  },
  {
   "cell_type": "code",
   "execution_count": 10,
   "metadata": {},
   "outputs": [
    {
     "name": "stdout",
     "output_type": "stream",
     "text": [
      "43\n"
     ]
    }
   ],
   "source": [
    "'''Get Topic Words for each text in a dictionary'''\n",
    "from finalTexts import opiumPer5\n",
    "period = opiumPer5\n",
    "readFile = open('/srv/data/amy/alltopics.txt','r')\n",
    "topics = {}\n",
    "textInfo = getTexts('/srv/data/relevantEPBodyNOSTOP/',period)\n",
    "\n",
    "\n",
    "for line in readFile:\n",
    "    tcpID =  line.split(':')[0].strip('.txt')\n",
    "    if tcpID in period: \n",
    "        topic = line.split(':')[1].strip()\n",
    "        topic = re.sub(r' if | of | by | yet | the | man | see | and ',' ',topic)\n",
    "        topic = re.sub('  ',' ',topic)\n",
    "        topics[tcpID] = topic.split(' ')\n",
    "readFile.close()\n",
    "print(len(topics))"
   ]
  },
  {
   "cell_type": "code",
   "execution_count": 11,
   "metadata": {},
   "outputs": [
    {
     "name": "stdout",
     "output_type": "stream",
     "text": [
      "43\n",
      "43\n",
      "43\n"
     ]
    }
   ],
   "source": [
    "'''Get additional features'''\n",
    "inFile = open('/srv/data/amy/allfeatures.txt','r')\n",
    "inFileLines = inFile.readlines()\n",
    "inFile.close()\n",
    "featuresDict = {}\n",
    "for line in inFileLines: \n",
    "    line = line.split(':')\n",
    "    tcpID = line[0].strip()\n",
    "    if tcpID in period: \n",
    "        features = line[1].strip().split(' ')\n",
    "        featuresDict[tcpID] = features\n",
    "print(len(featuresDict))\n",
    "\n",
    "'''Get drug and tobacco features'''\n",
    "inFile = open('/srv/data/amy/allTobaccoDrug.txt','r')\n",
    "inFileLines = inFile.readlines()\n",
    "inFile.close()\n",
    "tobaccoDrug = {}\n",
    "for line in inFileLines: \n",
    "    line = line.split(':')\n",
    "    tcpID = line[0].strip()\n",
    "    if tcpID in period: \n",
    "        features = line[1].strip().split(' ')\n",
    "        tobaccoDrug[line[0].strip()] = features\n",
    "print(len(tobaccoDrug))\n",
    "\n",
    "'''Get tobacco n-gram features'''\n",
    "inFile = open('/srv/data/amy/allopiumgrams.txt','r')\n",
    "inFileLines = inFile.readlines()\n",
    "inFile.close()\n",
    "tobaccoNgrams = {}\n",
    "for line in inFileLines: \n",
    "    line = line.split(':')\n",
    "    tcpID = line[0].strip()\n",
    "    if tcpID in period: \n",
    "        features = line[1].strip()\n",
    "        if features == '': continue\n",
    "        tobaccoNgrams[line[0].strip()] = features.strip()\n",
    "print(len(tobaccoNgrams))"
   ]
  },
  {
   "cell_type": "code",
   "execution_count": 12,
   "metadata": {},
   "outputs": [
    {
     "name": "stdout",
     "output_type": "stream",
     "text": [
      "Total number of texts to classify is 43\n"
     ]
    }
   ],
   "source": [
    "'''Get keywords metadata for each text in a dictionary'''\n",
    "'''Create list of feature strings for each file and remove stopwords'''\n",
    "import re \n",
    "features = {}\n",
    "kwdict = keywords('/srv/data/metadata/tuning/relevant.csv')\n",
    "\n",
    "for ID in tobaccoNgrams.keys():\n",
    "    '''Skip the texts that do not have any mention of tobacco or drugs'''\n",
    "    features[ID] = [textInfo[ID]]\n",
    "    kWords = (list(kwdict[ID][0]))\n",
    "    features[ID].append(' '.join(kWords*50))\n",
    "    features[ID].append(' '.join(topics[ID]*50))\n",
    "    features[ID].append(' '.join(featuresDict[ID]*20))\n",
    "    features[ID].append(' '.join(tobaccoDrug[ID]*20))\n",
    "    features[ID].append(' '.join(tobaccoNgrams[ID]*10))\n",
    "    if '' in features[ID]: features[ID].remove('')\n",
    "    featureStr = ' '.join(features[ID])\n",
    "    featureStr = re.sub(r' if | of | by | yet | the | man | see | and ',' ',featureStr)\n",
    "    featureStr = re.sub('  ',' ',featureStr)\n",
    "    features[ID] = featureStr\n",
    "print(f'Total number of texts to classify is {len(features)}')"
   ]
  },
  {
   "cell_type": "code",
   "execution_count": 13,
   "metadata": {},
   "outputs": [
    {
     "name": "stderr",
     "output_type": "stream",
     "text": [
      "No handles with labels found to put in legend.\n"
     ]
    },
    {
     "data": {
      "image/png": "[encoded data removed]",
      "text/plain": [
       "<Figure size 432x288 with 1 Axes>"
      ]
     },
     "metadata": {},
     "output_type": "display_data"
    },
    {
     "data": {
      "text/plain": [
       "<Figure size 1440x720 with 0 Axes>"
      ]
     },
     "metadata": {},
     "output_type": "display_data"
    }
   ],
   "source": [
    "df = vectorize(features.values(),features.keys(),'tfidf')\n",
    "# elbow(df)\n",
    "pca(df)"
   ]
  },
  {
   "cell_type": "code",
   "execution_count": 17,
   "metadata": {},
   "outputs": [
    {
     "name": "stdout",
     "output_type": "stream",
     "text": [
      "{0: ['sugar', 'medicine', 'the', 'turpentine', 'cloth', 'they', 'that', 'with', 'for', 'medicament', 'joint', 'take', 'which', 'but', 'have', 'profit', 'potion', 'this', 'confection', 'company'], 1: ['that', 'his', 'christian', 'ship', 'with', 'have', 'they', 'pleasure', 'for', 'not', 'but', 'the', 'which', 'this', 'will', 'their', 'all', 'company', 'you', 'who']}\n"
     ]
    },
    {
     "data": {
      "image/png": "[encoded data removed]",
      "text/plain": [
       "<Figure size 432x288 with 1 Axes>"
      ]
     },
     "metadata": {},
     "output_type": "display_data"
    },
    {
     "data": {
      "text/plain": [
       "<Figure size 1440x720 with 0 Axes>"
      ]
     },
     "metadata": {},
     "output_type": "display_data"
    }
   ],
   "source": [
    "k=2\n",
    "groups,model = cluster(df,features.keys(),k)\n",
    "sortGroups = sorted(groups.items())\n",
    "tops = topTerms(model,df,k)\n",
    "print(tops)\n",
    "pcaColors(model,df)"
   ]
  },
  {
   "cell_type": "code",
   "execution_count": 18,
   "metadata": {},
   "outputs": [
    {
     "name": "stdout",
     "output_type": "stream",
     "text": [
      "Group1 = ['A97168', 'A64772', 'A72143', 'A72146', 'A67746', 'A00695', 'A38409', 'A30077', 'A01052', 'A20093', 'A20507', 'A11474', 'A11527', 'A20863', 'A02520', 'A12135', 'A12245', 'A12817', 'A03752', 'A13217', 'A15848', 'A07248', 'A16622', 'A08637', 'A09208', 'A03066', 'A15137', 'A15139']\n",
      "Group0 = ['A01446', 'A01454', 'A64906', 'A11278', 'A02327', 'A19070', 'A19160', 'A00291', 'A02060', 'A10508', 'A11176', 'A06304', 'A15684', 'A09011', 'A16628']\n"
     ]
    }
   ],
   "source": [
    "for k,v in groups.items(): print(f'Group{k} = {v}')\n"
   ]
  },
  {
   "cell_type": "code",
   "execution_count": 19,
   "metadata": {},
   "outputs": [
    {
     "name": "stdout",
     "output_type": "stream",
     "text": [
      "Cluster 0: <br><ul><li><b>TCP IDs:</b> ['A01446', 'A01454', 'A64906', 'A11278', 'A02327', 'A19070', 'A19160', 'A00291', 'A02060', 'A10508', 'A11176', 'A06304', 'A15684', 'A09011', 'A16628']</li> <li><b>TFIDF terms:</b> ['sugar', 'medicine', 'the', 'turpentine', 'cloth', 'they', 'that', 'with', 'for', 'medicament', 'joint', 'take', 'which', 'but', 'have', 'profit', 'potion', 'this', 'confection', 'company']</li> <li><b>Keywords:</b> [('Medicine', 4), ('Diseases', 3), ('Death', 2), ('Life', 2), ('Longevity', 2), ('Plague', 2), ('England', 2), ('Formulae receipts prescriptions', 2), ('Horses', 2), ('Human anatomy', 1)]</li> <li><b>Topic words:</b> [('take', 9), ('good', 6), ('water', 6), ('put', 6), ('body', 5), ('cause', 4), ('use', 4), ('spirit', 3), ('air', 3), ('ounce', 3)]</li></ul> Cluster 1: <br><ul><li><b>TCP IDs:</b> ['A97168', 'A64772', 'A72143', 'A72146', 'A67746', 'A00695', 'A38409', 'A30077', 'A01052', 'A20093', 'A20507', 'A11474', 'A11527', 'A20863', 'A02520', 'A12135', 'A12245', 'A12817', 'A03752', 'A13217', 'A15848', 'A07248', 'A16622', 'A08637', 'A09208', 'A03066', 'A15137', 'A15139']</li> <li><b>TFIDF terms:</b> ['that', 'his', 'christian', 'ship', 'with', 'have', 'they', 'pleasure', 'for', 'not', 'but', 'the', 'which', 'this', 'will', 'their', 'all', 'company', 'you', 'who']</li> <li><b>Keywords:</b> [('Poetry', 3), ('Christian life', 3), ('Patience', 3), ('Religious aspects', 3), ('Idols and images', 1), ('Church history', 1), ('Speeches addresses etc English', 1), ('England', 1), ('Jesus Christ', 1), ('Sermons English', 1)]</li> <li><b>Topic words:</b> [('great', 14), ('god', 11), ('time', 10), ('out', 10), ('if', 9), ('man', 8), ('take', 7), ('give', 7), ('love', 6), ('lord', 6)]</li></ul>\n"
     ]
    }
   ],
   "source": [
    "'''Print documentation for k-means clustering'''\n",
    "outputStr = []\n",
    "for k,IDs in sortGroups:\n",
    "    kWords = []\n",
    "    tWords = []\n",
    "    outputStr.append(f'Cluster {k}:')\n",
    "    for TCPID in IDs:\n",
    "        kWords.extend(list(kwdict[TCPID][0]))\n",
    "        tWords.extend(topics[TCPID])\n",
    "    outputStr.append(f'<br><ul><li><b>TCP IDs:</b> {IDs}</li>')\n",
    "    outputStr.append(f'<li><b>TFIDF terms:</b> {tops[k]}</li>')\n",
    "    outputStr.append(f'<li><b>Keywords:</b> {Counter(kWords).most_common(n=10)}</li>')\n",
    "    outputStr.append(f'<li><b>Topic words:</b> {Counter(tWords).most_common(n=10)}</li></ul>')\n",
    "print(' '.join(outputStr))"
   ]
  }
 ],
 "metadata": {
  "kernelspec": {
   "display_name": "Python 3.9.12 ('base')",
   "language": "python",
   "name": "python3"
  },
  "language_info": {
   "codemirror_mode": {
    "name": "ipython",
    "version": 3
   },
   "file_extension": ".py",
   "mimetype": "text/x-python",
   "name": "python",
   "nbconvert_exporter": "python",
   "pygments_lexer": "ipython3",
   "version": "3.9.12"
  },
  "orig_nbformat": 4,
  "vscode": {
   "interpreter": {
    "hash": "163b8b902ef20465a7ecf57c45ba2fc54a366f8c8d80240b381c6f4fa0585aa7"
   }
  }
 },
 "nbformat": 4,
 "nbformat_minor": 2
}

{
 "cells": [
  {
   "cell_type": "code",
   "execution_count": 2,
   "metadata": {},
   "outputs": [
    {
     "name": "stdout",
     "output_type": "stream",
     "text": [
      "hello world\n"
     ]
    }
   ],
   "source": [
    "print(\"hello world\")\n"
   ]
  },
  {
   "cell_type": "code",
   "execution_count": 28,
   "metadata": {},
   "outputs": [
    {
     "ename": "FeatureNotFound",
     "evalue": "Couldn't find a tree builder with the features you requested: xml. Do you need to install a parser library?",
     "output_type": "error",
     "traceback": [
      "\u001b[0;31m---------------------------------------------------------------------------\u001b[0m",
      "\u001b[0;31mFeatureNotFound\u001b[0m                           Traceback (most recent call last)",
      "\u001b[1;32m/srv/data/ECBC-Data-2022/trial.ipynb Cell 2'\u001b[0m in \u001b[0;36m<cell line: 6>\u001b[0;34m()\u001b[0m\n\u001b[1;32m      <a href='vscode-notebook-cell://ssh-remote%2Bresearch-datap-ec-01.oit.duke.edu/srv/data/ECBC-Data-2022/trial.ipynb#ch0000002vscode-remote?line=3'>4</a>\u001b[0m file \u001b[39m=\u001b[39m \u001b[39mopen\u001b[39m(\u001b[39m\"\u001b[39m\u001b[39m/srv/data/ECBC-Data-2022/B31385.P4.xml\u001b[39m\u001b[39m\"\u001b[39m,\u001b[39m\"\u001b[39m\u001b[39mr\u001b[39m\u001b[39m\"\u001b[39m)\n\u001b[1;32m      <a href='vscode-notebook-cell://ssh-remote%2Bresearch-datap-ec-01.oit.duke.edu/srv/data/ECBC-Data-2022/trial.ipynb#ch0000002vscode-remote?line=4'>5</a>\u001b[0m data \u001b[39m=\u001b[39m file\u001b[39m.\u001b[39mread()\n\u001b[0;32m----> <a href='vscode-notebook-cell://ssh-remote%2Bresearch-datap-ec-01.oit.duke.edu/srv/data/ECBC-Data-2022/trial.ipynb#ch0000002vscode-remote?line=5'>6</a>\u001b[0m soup \u001b[39m=\u001b[39m BeautifulSoup(data,\u001b[39m'\u001b[39;49m\u001b[39mxml\u001b[39;49m\u001b[39m'\u001b[39;49m)\n",
      "File \u001b[0;32m~/miniconda3/lib/python3.9/site-packages/bs4/__init__.py:248\u001b[0m, in \u001b[0;36mBeautifulSoup.__init__\u001b[0;34m(self, markup, features, builder, parse_only, from_encoding, exclude_encodings, element_classes, **kwargs)\u001b[0m\n\u001b[1;32m    <a href='file:///home/acw77/miniconda3/lib/python3.9/site-packages/bs4/__init__.py?line=245'>246</a>\u001b[0m     builder_class \u001b[39m=\u001b[39m builder_registry\u001b[39m.\u001b[39mlookup(\u001b[39m*\u001b[39mfeatures)\n\u001b[1;32m    <a href='file:///home/acw77/miniconda3/lib/python3.9/site-packages/bs4/__init__.py?line=246'>247</a>\u001b[0m     \u001b[39mif\u001b[39;00m builder_class \u001b[39mis\u001b[39;00m \u001b[39mNone\u001b[39;00m:\n\u001b[0;32m--> <a href='file:///home/acw77/miniconda3/lib/python3.9/site-packages/bs4/__init__.py?line=247'>248</a>\u001b[0m         \u001b[39mraise\u001b[39;00m FeatureNotFound(\n\u001b[1;32m    <a href='file:///home/acw77/miniconda3/lib/python3.9/site-packages/bs4/__init__.py?line=248'>249</a>\u001b[0m             \u001b[39m\"\u001b[39m\u001b[39mCouldn\u001b[39m\u001b[39m'\u001b[39m\u001b[39mt find a tree builder with the features you \u001b[39m\u001b[39m\"\u001b[39m\n\u001b[1;32m    <a href='file:///home/acw77/miniconda3/lib/python3.9/site-packages/bs4/__init__.py?line=249'>250</a>\u001b[0m             \u001b[39m\"\u001b[39m\u001b[39mrequested: \u001b[39m\u001b[39m%s\u001b[39;00m\u001b[39m. Do you need to install a parser library?\u001b[39m\u001b[39m\"\u001b[39m\n\u001b[1;32m    <a href='file:///home/acw77/miniconda3/lib/python3.9/site-packages/bs4/__init__.py?line=250'>251</a>\u001b[0m             \u001b[39m%\u001b[39m \u001b[39m\"\u001b[39m\u001b[39m,\u001b[39m\u001b[39m\"\u001b[39m\u001b[39m.\u001b[39mjoin(features))\n\u001b[1;32m    <a href='file:///home/acw77/miniconda3/lib/python3.9/site-packages/bs4/__init__.py?line=252'>253</a>\u001b[0m \u001b[39m# At this point either we have a TreeBuilder instance in\u001b[39;00m\n\u001b[1;32m    <a href='file:///home/acw77/miniconda3/lib/python3.9/site-packages/bs4/__init__.py?line=253'>254</a>\u001b[0m \u001b[39m# builder, or we have a builder_class that we can instantiate\u001b[39;00m\n\u001b[1;32m    <a href='file:///home/acw77/miniconda3/lib/python3.9/site-packages/bs4/__init__.py?line=254'>255</a>\u001b[0m \u001b[39m# with the remaining **kwargs.\u001b[39;00m\n\u001b[1;32m    <a href='file:///home/acw77/miniconda3/lib/python3.9/site-packages/bs4/__init__.py?line=255'>256</a>\u001b[0m \u001b[39mif\u001b[39;00m builder \u001b[39mis\u001b[39;00m \u001b[39mNone\u001b[39;00m:\n",
      "\u001b[0;31mFeatureNotFound\u001b[0m: Couldn't find a tree builder with the features you requested: xml. Do you need to install a parser library?"
     ]
    }
   ],
   "source": [
    "import pandas as pd \n",
    "from bs4 import BeautifulSoup\n",
    "import lxml\n",
    "file = open(\"/srv/data/ECBC-Data-2022/B31385.P4.xml\",\"r\")\n",
    "data = file.read()\n",
    "soup = BeautifulSoup(data,'xml')\n"
   ]
  }
 ],
 "metadata": {
  "interpreter": {
   "hash": "163b8b902ef20465a7ecf57c45ba2fc54a366f8c8d80240b381c6f4fa0585aa7"
  },
  "kernelspec": {
   "display_name": "Python 3.9.12 ('base')",
   "language": "python",
   "name": "python3"
  },
  "language_info": {
   "codemirror_mode": {
    "name": "ipython",
    "version": 3
   },
   "file_extension": ".py",
   "mimetype": "text/x-python",
   "name": "python",
   "nbconvert_exporter": "python",
   "pygments_lexer": "ipython3",
   "version": "3.9.12"
  },
  "orig_nbformat": 4
 },
 "nbformat": 4,
 "nbformat_minor": 2
}

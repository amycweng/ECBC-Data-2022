{
 "cells": [
  {
   "cell_type": "code",
   "execution_count": 1,
   "metadata": {},
   "outputs": [
    {
     "name": "stdout",
     "output_type": "stream",
     "text": [
      "60326\n"
     ]
    }
   ],
   "source": [
    "import os\n",
    "import re \n",
    "dir = '/srv/data/'\n",
    "f1 = 'eebo_phase1_IDs_and_dates.txt'\n",
    "f2 = 'EEBO_Phase2_IDs_and_dates.txt' \n",
    "names = []\n",
    "def getNamesTXT(folder,f,names):\n",
    "    file = os.path.join(folder,f)\n",
    "    data = open(file,'r')\n",
    "    data = data.readlines()\n",
    "    for d in data:\n",
    "        datum = d.replace('\\n','')\n",
    "        datum = d.split('\\t')\n",
    "        name = datum[0]\n",
    "        names.append(name)\n",
    "    return names \n",
    "\n",
    "getNamesTXT(dir,f1,[])\n",
    "getNamesTXT(dir,f2,[])\n",
    "print(len(names))"
   ]
  },
  {
   "cell_type": "code",
   "execution_count": null,
   "metadata": {},
   "outputs": [],
   "source": [
    "missing = []\n",
    "def getMissing(folder):\n",
    "    for f in os.listdir(folder): \n",
    "        name = f.split('.')[0]\n",
    "        if name not in names:\n",
    "            missing.append(name)\n"
   ]
  },
  {
   "cell_type": "code",
   "execution_count": null,
   "metadata": {},
   "outputs": [],
   "source": [
    "dir1 = '/srv/data/allPhase1Extract'\n",
    "dir2 = '/srv/data/allPhase2Extract'\n",
    "for folder in os.listdir(dir1):\n",
    "    if folder == '.DS_Store':\n",
    "        continue\n",
    "    local = os.path.join(dir1,folder)\n",
    "    getMissing(local)\n",
    "\n",
    "for folder in os.listdir(dir2):\n",
    "    if folder == '.DS_Store':\n",
    "        continue\n",
    "    local = os.path.join(dir2,folder)\n",
    "    getMissing(local)\n",
    "\n",
    "print(len(missing))"
   ]
  },
  {
   "cell_type": "code",
   "execution_count": null,
   "metadata": {},
   "outputs": [],
   "source": [
    "dir = '/srv/data/eebotcp/texts'\n",
    "\n",
    "epnames = []\n",
    "def getNamesEP(folder):\n",
    "    for f in os.listdir(folder): \n",
    "        name = f.split('.')[0]\n",
    "        epnames.append(name)\n",
    "\n",
    "for folder in os.listdir(dir):\n",
    "    if folder == '.DS_Store':\n",
    "        continue\n",
    "    local = os.path.join(dir,folder)\n",
    "    getNamesEP(local)\n",
    "    \n",
    "print(len(epnames))\n"
   ]
  },
  {
   "cell_type": "code",
   "execution_count": null,
   "metadata": {},
   "outputs": [],
   "source": [
    "epmissing = []\n",
    "for n in names:\n",
    "    if n not in epnames:\n",
    "        epmissing.append(n)"
   ]
  },
  {
   "cell_type": "code",
   "execution_count": 37,
   "metadata": {},
   "outputs": [
    {
     "name": "stdout",
     "output_type": "stream",
     "text": [
      "8242\n"
     ]
    }
   ],
   "source": [
    "output = '/srv/data/EPmissing.txt'\n",
    "file = open(output,'a+')\n",
    "count = 0\n",
    "for name in epmissing:\n",
    "    count += 1\n",
    "    file.write(name + '\\n')\n",
    "print(count)\n",
    "file.close()"
   ]
  },
  {
   "cell_type": "code",
   "execution_count": 21,
   "metadata": {},
   "outputs": [],
   "source": [
    "from stageOne import convertTCP,dateTXT\n",
    "import pandas as pd  \n",
    "dates = dateTXT()\n",
    "\n",
    "def getFileNames(file):\n",
    "    phase = open(file,'r')\n",
    "    phase = phase.readlines()\n",
    "    files = []\n",
    "    for entry in phase:\n",
    "        entry = entry.split(' ')\n",
    "        id = entry[0]\n",
    "        fileName = id + '.P4.xml'\n",
    "        files.append(fileName)\n",
    "    return files \n",
    "\n",
    "def convert(files,folder,csv):\n",
    "    count = 0\n",
    "    for f in files:\n",
    "        subfolder = re.findall('\\w{2}',f)[0]\n",
    "        dir = os.path.join(folder,subfolder) \n",
    "        count += 1\n",
    "        if count % 100 == 0 and count != 0:\n",
    "            print(\"Processed \" + str(count) + \" files so far\")\n",
    "        \n",
    "        # initalize output CSV dataframe  \n",
    "        if count == 1: \n",
    "            outFile = convertTCP(dir,f,dates)\n",
    "            continue\n",
    "        df = convertTCP(dir,f,dates)\n",
    "        outFile = pd.concat([outFile,df],ignore_index = True)\n",
    "    print('The number of total files is ' + str(count))\n",
    "    outFile.to_csv(csv)"
   ]
  },
  {
   "cell_type": "code",
   "execution_count": 22,
   "metadata": {},
   "outputs": [
    {
     "name": "stdout",
     "output_type": "stream",
     "text": [
      "Processed 100 files so far\n",
      "Processed 200 files so far\n",
      "Processed 300 files so far\n",
      "The number of total files is 330\n",
      "Processed 100 files so far\n",
      "Processed 200 files so far\n",
      "Processed 300 files so far\n",
      "Processed 400 files so far\n",
      "Processed 500 files so far\n",
      "Processed 600 files so far\n",
      "Processed 700 files so far\n",
      "Processed 800 files so far\n",
      "Processed 900 files so far\n",
      "Processed 1000 files so far\n",
      "The number of total files is 1063\n"
     ]
    }
   ],
   "source": [
    "IFile = '/srv/data/ECBC-Data-2022/Text_Files/relevantEPmissingPhaseI.txt'\n",
    "IIFile = '/srv/data/ECBC-Data-2022/Text_Files/relevantEPmissingPhaseII.txt'\n",
    "dir1,dir2 = '/srv/data/allPhase1Extract','/srv/data/allPhase2Extract'\n",
    "csvI,csvII = '/srv/data/CSVs/phaseImissing.csv','/srv/data/CSVs/phaseIImissing.csv'\n",
    "filesI, filesII = getFileNames(IFile),getFileNames(IIFile)\n",
    "convert(filesI,dir1,csvI)\n",
    "convert(filesII,dir2,csvII)"
   ]
  }
 ],
 "metadata": {
  "interpreter": {
   "hash": "163b8b902ef20465a7ecf57c45ba2fc54a366f8c8d80240b381c6f4fa0585aa7"
  },
  "kernelspec": {
   "display_name": "Python 3.9.12 ('base')",
   "language": "python",
   "name": "python3"
  },
  "language_info": {
   "codemirror_mode": {
    "name": "ipython",
    "version": 3
   },
   "file_extension": ".py",
   "mimetype": "text/x-python",
   "name": "python",
   "nbconvert_exporter": "python",
   "pygments_lexer": "ipython3",
   "version": "3.9.12"
  },
  "orig_nbformat": 4
 },
 "nbformat": 4,
 "nbformat_minor": 2
}

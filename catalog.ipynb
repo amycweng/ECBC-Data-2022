{
 "cells": [
  {
   "cell_type": "code",
   "execution_count": 1,
   "metadata": {},
   "outputs": [
    {
     "name": "stdout",
     "output_type": "stream",
     "text": [
      "60326\n"
     ]
    }
   ],
   "source": [
    "import os\n",
    "import re \n",
    "dir = '/srv/data/'\n",
    "f1 = 'eebo_phase1_IDs_and_dates.txt'\n",
    "f2 = 'EEBO_Phase2_IDs_and_dates.txt' \n",
    "names = []\n",
    "def getNamesTXT(folder,f):\n",
    "    file = os.path.join(folder,f)\n",
    "    data = open(file,'r')\n",
    "    data = data.readlines()\n",
    "    for d in data:\n",
    "        datum = d.replace('\\n','')\n",
    "        datum = d.split('\\t')\n",
    "        name = datum[0]\n",
    "        names.append(name)\n",
    "\n",
    "getNamesTXT(dir,f1)\n",
    "getNamesTXT(dir,f2)\n",
    "print(len(names))"
   ]
  },
  {
   "cell_type": "code",
   "execution_count": null,
   "metadata": {},
   "outputs": [],
   "source": [
    "missing = []\n",
    "def getMissing(folder):\n",
    "    for f in os.listdir(folder): \n",
    "        name = f.split('.')[0]\n",
    "        if name not in names:\n",
    "            missing.append(name)\n"
   ]
  },
  {
   "cell_type": "code",
   "execution_count": null,
   "metadata": {},
   "outputs": [],
   "source": [
    "dir1 = '/srv/data/allPhase1Extract'\n",
    "dir2 = '/srv/data/allPhase2Extract'\n",
    "for folder in os.listdir(dir1):\n",
    "    if folder == '.DS_Store':\n",
    "        continue\n",
    "    local = os.path.join(dir1,folder)\n",
    "    getMissing(local)\n",
    "\n",
    "for folder in os.listdir(dir2):\n",
    "    if folder == '.DS_Store':\n",
    "        continue\n",
    "    local = os.path.join(dir2,folder)\n",
    "    getMissing(local)\n",
    "\n",
    "print(len(missing))"
   ]
  },
  {
   "cell_type": "code",
   "execution_count": null,
   "metadata": {},
   "outputs": [],
   "source": [
    "dir = '/srv/data/eebotcp/texts'\n",
    "\n",
    "epnames = []\n",
    "def getNamesEP(folder):\n",
    "    for f in os.listdir(folder): \n",
    "        name = f.split('.')[0]\n",
    "        if '_' in name:\n",
    "            name = name.split('_')[0]\n",
    "        epnames.append(name)\n",
    "\n",
    "for folder in os.listdir(dir):\n",
    "    if folder == '.DS_Store':\n",
    "        continue\n",
    "    local = os.path.join(dir,folder)\n",
    "    getNamesEP(local)\n",
    "    \n",
    "print(len(epnames))\n"
   ]
  },
  {
   "cell_type": "code",
   "execution_count": null,
   "metadata": {},
   "outputs": [],
   "source": [
    "epmissing = []\n",
    "for n in names:\n",
    "    if n not in epnames:\n",
    "        epmissing.append(n)"
   ]
  },
  {
   "cell_type": "code",
   "execution_count": null,
   "metadata": {},
   "outputs": [],
   "source": [
    "print(len(epmissing))"
   ]
  },
  {
   "cell_type": "code",
   "execution_count": null,
   "metadata": {},
   "outputs": [],
   "source": [
    "output = '/srv/data/ECBC-Data-2022/Text_Files/EPmissing.txt'\n",
    "file = open(output,'a+')\n",
    "count = 0\n",
    "for name in epmissing:\n",
    "    count += 1\n",
    "    file.write(name + '\\n')\n",
    "print(count)\n",
    "file.close()"
   ]
  },
  {
   "cell_type": "code",
   "execution_count": 2,
   "metadata": {},
   "outputs": [],
   "source": [
    "from stageOne import convertTCP,dateTXT\n",
    "import pandas as pd  \n",
    "dates = dateTXT()\n",
    "\n",
    "def getFileNames(file):\n",
    "    phase = open(file,'r')\n",
    "    phase = phase.readlines()\n",
    "    files = []\n",
    "    for entry in phase:\n",
    "        entry = entry.split(' ')\n",
    "        id = entry[0]\n",
    "        fileName = id + '.P4.xml'\n",
    "        files.append(fileName)\n",
    "    return files \n",
    "\n",
    "def convert(files,folder,csv):\n",
    "    count = 0\n",
    "    for f in files:\n",
    "        subfolder = re.findall('\\w{2}',f)[0]\n",
    "        dir = os.path.join(folder,subfolder) \n",
    "        count += 1\n",
    "        if count % 100 == 0 and count != 0:\n",
    "            print(\"Processed \" + str(count) + \" files so far\")\n",
    "        \n",
    "        # initalize output CSV dataframe  \n",
    "        if count == 1: \n",
    "            outFile = convertTCP(dir,f,dates)\n",
    "            continue\n",
    "        df = convertTCP(dir,f,dates)\n",
    "        outFile = pd.concat([outFile,df],ignore_index = True)\n",
    "    print('The number of total files is ' + str(count))\n",
    "    outFile.to_csv(csv)"
   ]
  },
  {
   "cell_type": "code",
   "execution_count": 4,
   "metadata": {},
   "outputs": [
    {
     "name": "stdout",
     "output_type": "stream",
     "text": [
      "Processed 100 files so far\n",
      "Processed 200 files so far\n",
      "Processed 300 files so far\n",
      "The number of total files is 320\n",
      "Processed 100 files so far\n",
      "Processed 200 files so far\n",
      "Processed 300 files so far\n",
      "Processed 400 files so far\n",
      "Processed 500 files so far\n"
     ]
    },
    {
     "ename": "IndexError",
     "evalue": "list index out of range",
     "output_type": "error",
     "traceback": [
      "\u001b[0;31m---------------------------------------------------------------------------\u001b[0m",
      "\u001b[0;31mIndexError\u001b[0m                                Traceback (most recent call last)",
      "\u001b[1;32m/srv/data/ECBC-Data-2022/catalog.ipynb Cell 9'\u001b[0m in \u001b[0;36m<cell line: 7>\u001b[0;34m()\u001b[0m\n\u001b[1;32m      <a href='vscode-notebook-cell://ssh-remote%2Bresearch-datap-ec-01.oit.duke.edu/srv/data/ECBC-Data-2022/catalog.ipynb#ch0000008vscode-remote?line=4'>5</a>\u001b[0m filesI, filesII \u001b[39m=\u001b[39m getFileNames(IFile),getFileNames(IIFile)\n\u001b[1;32m      <a href='vscode-notebook-cell://ssh-remote%2Bresearch-datap-ec-01.oit.duke.edu/srv/data/ECBC-Data-2022/catalog.ipynb#ch0000008vscode-remote?line=5'>6</a>\u001b[0m convert(filesI,dir1,csvI)\n\u001b[0;32m----> <a href='vscode-notebook-cell://ssh-remote%2Bresearch-datap-ec-01.oit.duke.edu/srv/data/ECBC-Data-2022/catalog.ipynb#ch0000008vscode-remote?line=6'>7</a>\u001b[0m convert(filesII,dir2,csvII)\n",
      "\u001b[1;32m/srv/data/ECBC-Data-2022/catalog.ipynb Cell 8'\u001b[0m in \u001b[0;36mconvert\u001b[0;34m(files, folder, csv)\u001b[0m\n\u001b[1;32m     <a href='vscode-notebook-cell://ssh-remote%2Bresearch-datap-ec-01.oit.duke.edu/srv/data/ECBC-Data-2022/catalog.ipynb#ch0000007vscode-remote?line=26'>27</a>\u001b[0m         outFile \u001b[39m=\u001b[39m convertTCP(\u001b[39mdir\u001b[39m,f,dates)\n\u001b[1;32m     <a href='vscode-notebook-cell://ssh-remote%2Bresearch-datap-ec-01.oit.duke.edu/srv/data/ECBC-Data-2022/catalog.ipynb#ch0000007vscode-remote?line=27'>28</a>\u001b[0m         \u001b[39mcontinue\u001b[39;00m\n\u001b[0;32m---> <a href='vscode-notebook-cell://ssh-remote%2Bresearch-datap-ec-01.oit.duke.edu/srv/data/ECBC-Data-2022/catalog.ipynb#ch0000007vscode-remote?line=28'>29</a>\u001b[0m     df \u001b[39m=\u001b[39m convertTCP(\u001b[39mdir\u001b[39;49m,f,dates)\n\u001b[1;32m     <a href='vscode-notebook-cell://ssh-remote%2Bresearch-datap-ec-01.oit.duke.edu/srv/data/ECBC-Data-2022/catalog.ipynb#ch0000007vscode-remote?line=29'>30</a>\u001b[0m     outFile \u001b[39m=\u001b[39m pd\u001b[39m.\u001b[39mconcat([outFile,df],ignore_index \u001b[39m=\u001b[39m \u001b[39mTrue\u001b[39;00m)\n\u001b[1;32m     <a href='vscode-notebook-cell://ssh-remote%2Bresearch-datap-ec-01.oit.duke.edu/srv/data/ECBC-Data-2022/catalog.ipynb#ch0000007vscode-remote?line=30'>31</a>\u001b[0m \u001b[39mprint\u001b[39m(\u001b[39m'\u001b[39m\u001b[39mThe number of total files is \u001b[39m\u001b[39m'\u001b[39m \u001b[39m+\u001b[39m \u001b[39mstr\u001b[39m(count))\n",
      "File \u001b[0;32m/srv/data/ECBC-Data-2022/stageOne.py:236\u001b[0m, in \u001b[0;36mconvertTCP\u001b[0;34m(folder, file, dates)\u001b[0m\n\u001b[1;32m    <a href='file:///srv/data/ECBC-Data-2022/stageOne.py?line=233'>234</a>\u001b[0m pubplaceStr \u001b[39m=\u001b[39m soup\u001b[39m.\u001b[39mfind_all(\u001b[39m'\u001b[39m\u001b[39mpubplace\u001b[39m\u001b[39m'\u001b[39m)[\u001b[39m1\u001b[39m]\u001b[39m.\u001b[39mstring\n\u001b[1;32m    <a href='file:///srv/data/ECBC-Data-2022/stageOne.py?line=234'>235</a>\u001b[0m pp \u001b[39m=\u001b[39m pubplace(pubplaceStr)\n\u001b[0;32m--> <a href='file:///srv/data/ECBC-Data-2022/stageOne.py?line=235'>236</a>\u001b[0m idInfo \u001b[39m=\u001b[39m idno(soup)\n\u001b[1;32m    <a href='file:///srv/data/ECBC-Data-2022/stageOne.py?line=236'>237</a>\u001b[0m d \u001b[39m=\u001b[39m dates[name]\n\u001b[1;32m    <a href='file:///srv/data/ECBC-Data-2022/stageOne.py?line=237'>238</a>\u001b[0m ded \u001b[39m=\u001b[39m dedicationTCP(soup)\n",
      "File \u001b[0;32m/srv/data/ECBC-Data-2022/stageOne.py:123\u001b[0m, in \u001b[0;36midno\u001b[0;34m(soup)\u001b[0m\n\u001b[1;32m    <a href='file:///srv/data/ECBC-Data-2022/stageOne.py?line=120'>121</a>\u001b[0m     \u001b[39mreturn\u001b[39;00m (s[\u001b[39m-\u001b[39m\u001b[39m1\u001b[39m],e[\u001b[39m-\u001b[39m\u001b[39m1\u001b[39m])\n\u001b[1;32m    <a href='file:///srv/data/ECBC-Data-2022/stageOne.py?line=121'>122</a>\u001b[0m \u001b[39melif\u001b[39;00m \u001b[39mlen\u001b[39m(idnums_l) \u001b[39m==\u001b[39m \u001b[39m3\u001b[39m:\n\u001b[0;32m--> <a href='file:///srv/data/ECBC-Data-2022/stageOne.py?line=122'>123</a>\u001b[0m     stc \u001b[39m=\u001b[39m idnums_u[\u001b[39m0\u001b[39;49m]\u001b[39m.\u001b[39mstring\n\u001b[1;32m    <a href='file:///srv/data/ECBC-Data-2022/stageOne.py?line=123'>124</a>\u001b[0m     s \u001b[39m=\u001b[39m stc\u001b[39m.\u001b[39msplit(\u001b[39m'\u001b[39m\u001b[39m \u001b[39m\u001b[39m'\u001b[39m)\n\u001b[1;32m    <a href='file:///srv/data/ECBC-Data-2022/stageOne.py?line=124'>125</a>\u001b[0m     estc \u001b[39m=\u001b[39m idnums_u[\u001b[39m-\u001b[39m\u001b[39m1\u001b[39m]\u001b[39m.\u001b[39mstring\n",
      "\u001b[0;31mIndexError\u001b[0m: list index out of range"
     ]
    }
   ],
   "source": [
    "IFile = '/srv/data/ECBC-Data-2022/Text_Files/relevantEPmissingPhaseI.txt'\n",
    "IIFile = '/srv/data/ECBC-Data-2022/Text_Files/relevantEPmissingPhaseII.txt'\n",
    "dir1,dir2 = '/srv/data/allPhase1Extract','/srv/data/allPhase2Extract'\n",
    "csvI,csvII = '/srv/data/CSVs/phaseImissing.csv','/srv/data/CSVs/phaseIImissing.csv'\n",
    "filesI, filesII = getFileNames(IFile),getFileNames(IIFile)\n",
    "# convert(filesI,dir1,csvI)\n",
    "convert(filesII,dir2,csvII)"
   ]
  }
 ],
 "metadata": {
  "interpreter": {
   "hash": "163b8b902ef20465a7ecf57c45ba2fc54a366f8c8d80240b381c6f4fa0585aa7"
  },
  "kernelspec": {
   "display_name": "Python 3.9.12 ('base')",
   "language": "python",
   "name": "python3"
  },
  "language_info": {
   "codemirror_mode": {
    "name": "ipython",
    "version": 3
   },
   "file_extension": ".py",
   "mimetype": "text/x-python",
   "name": "python",
   "nbconvert_exporter": "python",
   "pygments_lexer": "ipython3",
   "version": "3.9.12"
  },
  "orig_nbformat": 4
 },
 "nbformat": 4,
 "nbformat_minor": 2
}

{
 "cells": [
  {
   "cell_type": "code",
   "execution_count": 2,
   "metadata": {},
   "outputs": [
    {
     "name": "stdout",
     "output_type": "stream",
     "text": [
      "60326\n"
     ]
    }
   ],
   "source": [
    "import os\n",
    "dir = '/srv/data/'\n",
    "f1 = 'eebo_phase1_IDs_and_dates.txt'\n",
    "f2 = 'EEBO_Phase2_IDs_and_dates.txt' \n",
    "names = []\n",
    "def getNamesTXT(folder,f):\n",
    "    file = os.path.join(folder,f)\n",
    "    data = open(file,'r')\n",
    "    data = data.readlines()\n",
    "    for d in data:\n",
    "        datum = d.replace('\\n','')\n",
    "        datum = d.split('\\t')\n",
    "        name = datum[0]\n",
    "        names.append(name)\n",
    "\n",
    "getNamesTXT(dir,f1)\n",
    "getNamesTXT(dir,f2)\n",
    "print(len(names))"
   ]
  },
  {
   "cell_type": "code",
   "execution_count": 35,
   "metadata": {},
   "outputs": [
    {
     "name": "stdout",
     "output_type": "stream",
     "text": [
      "0\n"
     ]
    }
   ],
   "source": [
    "missing = []\n",
    "def getMissing(folder):\n",
    "    for f in os.listdir(folder): \n",
    "        name = f.split('.')[0]\n",
    "        if name not in names:\n",
    "            missing.append(name)\n",
    "\n",
    "dir1 = '/srv/data/allPhase1Extract'\n",
    "dir2 = '/srv/data/allPhase2Extract'\n",
    "\n",
    "for folder in os.listdir(dir1):\n",
    "    if folder == '.DS_Store':\n",
    "        continue\n",
    "    local = os.path.join(dir1,folder)\n",
    "    getMissing(local)\n",
    "\n",
    "for folder in os.listdir(dir2):\n",
    "    if folder == '.DS_Store':\n",
    "        continue\n",
    "    local = os.path.join(dir2,folder)\n",
    "    getMissing(local)\n",
    "\n",
    "print(len(missing))\n"
   ]
  },
  {
   "cell_type": "code",
   "execution_count": null,
   "metadata": {},
   "outputs": [],
   "source": [
    "dir = '/srv/data/eebotcp/texts'\n",
    "\n",
    "for folder in os.listdir(dir):\n",
    "    if folder == '.DS_Store':\n",
    "        continue\n",
    "    local = os.path.join(dir,folder)\n",
    "    getMissing(local)\n",
    "    \n",
    "print(len(missing))"
   ]
  }
 ],
 "metadata": {
  "interpreter": {
   "hash": "163b8b902ef20465a7ecf57c45ba2fc54a366f8c8d80240b381c6f4fa0585aa7"
  },
  "kernelspec": {
   "display_name": "Python 3.9.12 ('base')",
   "language": "python",
   "name": "python3"
  },
  "language_info": {
   "codemirror_mode": {
    "name": "ipython",
    "version": 3
   },
   "file_extension": ".py",
   "mimetype": "text/x-python",
   "name": "python",
   "nbconvert_exporter": "python",
   "pygments_lexer": "ipython3",
   "version": "3.9.12"
  },
  "orig_nbformat": 4
 },
 "nbformat": 4,
 "nbformat_minor": 2
}

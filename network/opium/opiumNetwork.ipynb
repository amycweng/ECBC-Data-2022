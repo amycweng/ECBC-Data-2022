{
 "cells": [
  {
   "cell_type": "code",
   "execution_count": 34,
   "metadata": {},
   "outputs": [],
   "source": [
    "'''\n",
    "Social network visualization of the language around tobacco from 1625-1634\n",
    "'''\n",
    "import re\n",
    "import pandas as pd\n",
    "from pyvis.network import Network\n",
    "\n",
    "def authors(csv,search):\n",
    "    '''\n",
    "    Extract text IDs and authors' names.\n",
    "    '''\n",
    "    df = pd.read_csv(csv)\n",
    "    authors = df['author']\n",
    "    ids = df['id']\n",
    "    titles = df['title']\n",
    "    dates = df['date']\n",
    "    count = 0\n",
    "    dict = {}\n",
    "    for idx,TCPID in enumerate(ids):\n",
    "        if TCPID.strip() in search: \n",
    "            words = set(authors[idx].split(';'))\n",
    "            words.discard('')\n",
    "            newWords = []\n",
    "            for w in words: \n",
    "                w = w.strip()\n",
    "                if re.search('printer|engraver',w):continue\n",
    "                if re.search('Virginia Company of London',w): w = 'Virginia Company of London.'\n",
    "                newWords.append(w)\n",
    "            dict[TCPID] = [list(set(newWords)),titles[idx],dates[idx]]\n",
    "            count += 1\n",
    "    return dict "
   ]
  },
  {
   "cell_type": "code",
   "execution_count": 83,
   "metadata": {},
   "outputs": [
    {
     "name": "stdout",
     "output_type": "stream",
     "text": [
      "43\n"
     ]
    }
   ],
   "source": [
    "'''Get tobacco n-gram features'''\n",
    "from finalTexts import opiumPer1,opiumPer2,opiumPer3,opiumPer4,opiumPer5,opium\n",
    "inFile = open('/srv/data/amy/allopiumgrams.txt','r')\n",
    "period = opiumPer5\n",
    "\n",
    "inFileLines = inFile.readlines()\n",
    "inFile.close()\n",
    "opiumGrams = {}\n",
    "for line in inFileLines: \n",
    "    line = line.split(':')\n",
    "    tcpID = line[0].strip()\n",
    "    if tcpID in period: \n",
    "        features = line[1].strip()\n",
    "        if features == '': continue\n",
    "        opiumGrams[line[0].strip()] = features.strip().split(' ')\n",
    "print(len(opiumGrams))"
   ]
  },
  {
   "cell_type": "code",
   "execution_count": 84,
   "metadata": {},
   "outputs": [],
   "source": [
    "# '''period 1'''\n",
    "# Group0 = ['A72549', 'A20501', 'A20900', 'A02366', 'A03456', 'A13300', 'A04785', 'A04936', 'A14882', 'A06400', 'A06401', 'A08175', 'A08904', 'A19026', 'A01410', 'A03123', 'A05054', 'A14595', 'A16466', 'A09920']\n",
    "# Group1 = ['A71324', 'A00611', 'A00991', 'A01227', 'A01228', 'A01231', 'A68254', 'A11333', 'A20928', 'A02364', 'A02495', 'A12777', 'A12778', 'A04556', 'A14485', 'A05237', 'A05312', 'A05569', 'A06607', 'A08239', 'A18047', 'A19165', 'A11406', 'A13314', 'A06108', 'A14032', 'A16845', 'A17654', 'A11909']\n",
    "# groups = {0:Group0,1:Group1}\n",
    "# groupColors = {0:'pink',1:'purple'}\n",
    "# '''period 2'''\n",
    "# Group1 = ['A66951', 'A20901', 'A01822', 'A11347', 'A20583', 'A02362', 'A13646', 'A06182', 'A06927', 'A06950', 'A16851', 'A18935', 'A19018', 'A19403', 'A11350', 'A12656', 'A06820', 'A14264', 'A15599', 'A09144', 'A09713', 'A17464', 'A19029']\n",
    "# Group0 = ['A00419', 'A00777', 'A00888', 'A01017', 'A20069', 'A01194', 'A20619', 'A20620', 'A01256', 'A20811', 'A10464', 'A20836', 'A68944', 'A21106', 'A01818', 'A68403', 'A23464', 'A11395', 'A11899', 'A03189', 'A12609', 'A03244', 'A03512', 'A04425', 'A04640', 'A04680', 'A13820', 'A13821', 'A04852', 'A06143', 'A06190', 'A06903', 'A07083', 'A07217', 'A07267', 'A16522', 'A16884', 'A07834', 'A09198', 'A09202', 'A09800', 'A04602', 'A04780', 'A05102', 'A15794', 'A15834', 'A17230', 'A04632']\n",
    "# Group2 = ['A01443', 'A01444', 'A02440', 'A19740']\n",
    "# groups = {0:Group0,1:Group1,2:Group2}\n",
    "# groupColors = {0:'pink',1:'purple',2:'darkblue'}\n",
    "'''Period 3'''\n",
    "# Group0 = ['B12376', 'B12473', 'A68054', 'A20055', 'A01141', 'A69015', 'A11791', 'A03206', 'A13547', 'A05105', 'A14494', 'A05326', 'A06913', 'A06936', 'A17310', 'A18337', 'A04034', 'A14333', 'A07418', 'A19044']\n",
    "# Group1 = ['A00968','A11334','A12809','A04645']\n",
    "# groups = {0:Group0,1:Group1}\n",
    "# groupColors = {0:'pink',1:'purple'}\n",
    "'''period 4'''\n",
    "# Group0 = ['B16297', 'A69225', 'A11454', 'A11649', 'A11769', 'A13533', 'A04896', 'A14301', 'A14487', 'A14490', 'A14500', 'A05195', 'A14795', 'A15393', 'A15408', 'A07448', 'A16330', 'A08017', 'A08659', 'A09763', 'A00425', 'A19625', 'A00665', 'A10561', 'A03411', 'A04596', 'A13263', 'A13264', 'A08488', 'B01109', 'A68126']\n",
    "# Group2 = ['A01552', 'A01622', 'A02409', 'A02758', 'A06768', 'A06924', 'A17055', 'A08911', 'A08913', 'A15690', 'A09010', 'A16362', 'A16460', 'A01934']\n",
    "# Group1 = ['A03065', 'A14615', 'A71305', 'A71307', 'A68617', 'A16264', 'A10231', 'A11408']\n",
    "# groups = {0:Group0,1:Group1,2:Group2}\n",
    "# groupColors = {0:'pink',1:'purple',2:'darkblue'}\n",
    "'''period 5'''\n",
    "Group1 = ['A97168', 'A64772', 'A72143', 'A72146', 'A67746', 'A00695', 'A38409', 'A30077', 'A01052', 'A20093', 'A20507', 'A11474', 'A11527', 'A20863', 'A02520', 'A12135', 'A12245', 'A12817', 'A03752', 'A13217', 'A15848', 'A07248', 'A16622', 'A08637', 'A09208', 'A03066', 'A15137', 'A15139']\n",
    "Group0 = ['A01446', 'A01454', 'A64906', 'A11278', 'A02327', 'A19070', 'A19160', 'A00291', 'A02060', 'A10508', 'A11176', 'A06304', 'A15684', 'A09011', 'A16628']\n",
    "groups = {0:Group0,1:Group1}\n",
    "groupColors = {0:'pink',1:'purple'}"
   ]
  },
  {
   "cell_type": "code",
   "execution_count": 94,
   "metadata": {},
   "outputs": [],
   "source": [
    "'''N-gram categorization colors'''\n",
    "from opiumNGramGroupings import plant,generalUsage,region,medical,qualitative,quantitative,moral,misc,maleGeneral,female,skip,otherPlants\n",
    "gramGroups = {\n",
    "    'plant':plant,'generalUsage':generalUsage,'region':region,'qualitative':qualitative,'quantitative':quantitative,\n",
    "    'moral':moral,'misc':misc,'maleGeneral':maleGeneral,'medical':medical,'female':female,'otherPlants':otherPlants\n",
    "}\n",
    "\n",
    "edgeColors = {\n",
    "    'plant':'#8dd3c7','generalUsage':'#ffffb3','region':'#bebada','qualitative':'#fb8072','quantitative':'#80b1d3',\n",
    "    'moral':'#fdb462','misc':'#b3de69','maleGeneral':'#fccde5','medical':'#d9d9d9','female':'#bc80bd','otherPlants':'#ccebc5'\n",
    "}\n",
    "\n",
    "from itertools import combinations\n",
    "def gramNetwork(gramAuthDict):\n",
    "    '''\n",
    "    Catalogs edges (as well as the edge value, i.e., n-gram) between nodes\n",
    "    Returns a list of tuples (combo,gram) \n",
    "    '''\n",
    "    edgelist = []    \n",
    "    for gram,authList in gramAuthDict.items():\n",
    "        combos = list(combinations(authList,2))\n",
    "        for combo in combos: \n",
    "            # add only edges between DIFFERENT authors. For each different gram, add a new edge  \n",
    "            if combo[1] == combo[0]: continue #avoids edges that point back to self \n",
    "            if ((combo[1],combo[0]),gram) in edgelist: continue\n",
    "            if ((combo[0],combo[1]),gram) in edgelist: continue\n",
    "            edgelist.append((combo,gram))  \n",
    "    return edgelist\n",
    "\n",
    "'''Creates the information that will pop-up when a cursor hovers over a node in the network'''\n",
    "def createTitle(auth,authInfo):\n",
    "    items = ''\n",
    "    for TCPID,gramList in authInfo.items(): \n",
    "        count = 0\n",
    "        for item in gramList: \n",
    "            if count == 0: gramString = f'{item}'\n",
    "            count += 1 \n",
    "            if not count % 2: \n",
    "                if count == len(gramList): gramString += f', {item}'\n",
    "                else: gramString += f', {item},\\n'\n",
    "            elif count>1: gramString += f'\\t{item}'\n",
    "        items += f'{TCPID}: {gramString}\\n'\n",
    "    title = f'{auth}:\\n{items}'\n",
    "    return title\n",
    "    \n",
    "def gramGraph(edgelist,title,authMap,heading,aToGramText):\n",
    "    # Create pyvis graph\n",
    "    g = Network(width=800,height=1000,notebook=True,heading=heading,bgcolor='white',font_color='black',directed=True)\n",
    "    for authPair,gram in edgelist:\n",
    "        if gram in skip : continue\n",
    "        a1Color,a2Color = authMap[authPair[0]],authMap[authPair[1]]\n",
    "        \n",
    "        a1Title = createTitle(authPair[0],aToGramText[authPair[0]])\n",
    "        a2Title = createTitle(authPair[1],aToGramText[authPair[1]])\n",
    "\n",
    "        g.add_node(authPair[0], authPair[0], title=a1Title, color=a1Color,labelHighlightBold=True,chosen=True)\n",
    "        g.add_node(authPair[1], authPair[1], title=a2Title, color=a2Color,labelHighlightBold=True,chosen=True)\n",
    "\n",
    "        for groupName,gramList in gramGroups.items():\n",
    "            if gram in gramList:\n",
    "                g.add_edge(authPair[0],authPair[1],title=gram,color=edgeColors[groupName],width=5,arrows='hide')\n",
    "    g.set_edge_smooth('dynamic')\n",
    "    g.repulsion()\n",
    "    g.show(title+\".html\")\n"
   ]
  },
  {
   "cell_type": "code",
   "execution_count": 86,
   "metadata": {},
   "outputs": [
    {
     "name": "stdout",
     "output_type": "stream",
     "text": [
      "64\n"
     ]
    }
   ],
   "source": [
    "'''Catalog authors, grams, and TCPIDs'''\n",
    "file = '/srv/data/metadata/tuning/relevant.csv'\n",
    "auths = authors(file,opiumGrams.keys())\n",
    "uniqueAuths = []\n",
    "for TCPID,infoList in auths.copy().items():\n",
    "    uniqueAuths.extend(infoList[0])\n",
    "print(len(set(uniqueAuths)))\n",
    "\n",
    "aToGramText = {}\n",
    "authGrams = {}\n",
    "for TCPID, infoList in auths.items(): \n",
    "    for auth in infoList[0]: \n",
    "        auth = auth.strip(r'\\[').strip(r'\\]')\n",
    "        if auth not in authGrams.keys():\n",
    "            authGrams[auth] = []\n",
    "        authGrams[auth].extend(list(set(opiumGrams[TCPID]))) \n",
    "        if auth not in aToGramText.keys(): \n",
    "            aToGramText[auth] = {TCPID: list(set(opiumGrams[TCPID]))}\n",
    "        else: aToGramText[auth] = aToGramText[auth] | {TCPID: list(set(opiumGrams[TCPID]))}\n",
    "\n",
    "gramToAuths = {}\n",
    "for auth, grams in authGrams.items(): \n",
    "    for gram in grams: \n",
    "        if gram not in gramToAuths.keys(): gramToAuths[gram] = [auth]\n",
    "        else: gramToAuths[gram].append(auth)\n"
   ]
  },
  {
   "cell_type": "code",
   "execution_count": 87,
   "metadata": {},
   "outputs": [
    {
     "name": "stdout",
     "output_type": "stream",
     "text": [
      "64\n"
     ]
    }
   ],
   "source": [
    "'''Get node colors based on clustering results'''\n",
    "authCluster = {}\n",
    "for TCPID,infoList in auths.items():\n",
    "    for idx,group in groups.items():\n",
    "        if TCPID in group: \n",
    "            for auth in infoList[0]: \n",
    "                if auth not in authCluster.keys(): authCluster[auth] = (idx,1)\n",
    "                else: \n",
    "                    authCluster[auth] = (authCluster[auth][0]+idx, authCluster[auth][1]+1)\n",
    "\n",
    "authMap = {}\n",
    "for auth,nums in authCluster.items():\n",
    "    avg = round(nums[0]/nums[1])\n",
    "    auth = re.sub(r'\\[|\\]','',auth)\n",
    "    authMap[auth] = groupColors[avg]\n",
    "print(len(authMap))"
   ]
  },
  {
   "cell_type": "code",
   "execution_count": 88,
   "metadata": {},
   "outputs": [
    {
     "name": "stdout",
     "output_type": "stream",
     "text": [
      "701\n"
     ]
    }
   ],
   "source": [
    "'''Create and output network'''\n",
    "edges = gramNetwork(gramToAuths)\n",
    "print(len(edges))\n",
    "gramGraph(edges,'opium authors',authMap,'title',aToGramText)"
   ]
  },
  {
   "cell_type": "code",
   "execution_count": 89,
   "metadata": {},
   "outputs": [],
   "source": [
    "'''Get context windows for n-grams'''\n",
    "import os,re\n",
    "\n",
    "def getTexts(folder,searchList):\n",
    "    fileToText = {}\n",
    "    underscores = {}\n",
    "    for root,dirs,files in os.walk(folder):\n",
    "        for file in files:\n",
    "                if '.txt' not in file: continue\n",
    "                path = os.path.join(folder,file)\n",
    "                f = open(path,'r')\n",
    "                text = f.readlines()[0]\n",
    "                if '_' in file: \n",
    "                        name = file.split('_')[0]\n",
    "                        if name in searchList: \n",
    "                            if name not in underscores.keys(): \n",
    "                                    underscores[name] = text\n",
    "                            else: underscores[name] = underscores[name] + ' ' + text\n",
    "                else: \n",
    "                        name = file.split('.')[0]\n",
    "                        if name in searchList: \n",
    "                            fileToText[name] = text\n",
    "                f.close()\n",
    "        for name,text in underscores.items():\n",
    "            fileToText[name] = text\n",
    "        return fileToText\n",
    "   \n",
    "def context(searchgram,textName):\n",
    "    text = bigramdata[textName]\n",
    "    if (searchgram in text):\n",
    "        indices = [i for i in range(len(text)) if text.startswith(searchgram, i)]\n",
    "        windows = []\n",
    "        for index in indices:\n",
    "            if index > 120: window = text[(index-120):(index+120)].split(' ')\n",
    "            else: window = text[:index+120].split(' ')\n",
    "            del window[0]\n",
    "            del window[-1]\n",
    "            window = ' '.join(window)\n",
    "            windows.append(window)\n",
    "        return windows "
   ]
  },
  {
   "cell_type": "code",
   "execution_count": 90,
   "metadata": {},
   "outputs": [
    {
     "name": "stdout",
     "output_type": "stream",
     "text": [
      "43\n"
     ]
    }
   ],
   "source": [
    "'''Map n-grams to TCPIDs'''\n",
    "bigramdata = getTexts('/srv/data/relevantEPBodyNOSTOP', period)\n",
    "\n",
    "file = '/srv/data/metadata/tuning/relevant.csv'\n",
    "textGrams = {}\n",
    "for TCPID in opiumGrams.keys(): \n",
    "    nGrams = list(set(opiumGrams[TCPID]))\n",
    "    textGrams[TCPID] = []\n",
    "    for gram in nGrams: \n",
    "        gram = re.sub('_',' ',gram)\n",
    "        textGrams[TCPID].append(gram)\n",
    "print(len(textGrams))"
   ]
  },
  {
   "cell_type": "code",
   "execution_count": 91,
   "metadata": {},
   "outputs": [],
   "source": [
    "'''Get context windows into a dictionary'''\n",
    "contexts = {}\n",
    "for TCPID,gramList in textGrams.items():\n",
    "    contexts[TCPID] = {}\n",
    "    for gram in gramList: \n",
    "        formatGram = re.sub(' ','_',gram)\n",
    "        contexts[TCPID][formatGram] = context(gram,TCPID)"
   ]
  },
  {
   "cell_type": "code",
   "execution_count": 92,
   "metadata": {},
   "outputs": [],
   "source": [
    "textToCluster = {}\n",
    "for TCPID in auths.keys(): \n",
    "    for groupIdx, group in groups.items(): \n",
    "        if TCPID in group: textToCluster[TCPID] = groupIdx"
   ]
  },
  {
   "cell_type": "code",
   "execution_count": null,
   "metadata": {},
   "outputs": [],
   "source": [
    "'''Print out documentation for each text in HTML format (ready to be copied and pasted into a HTML doc)'''\n",
    "masterStr = []\n",
    "for TCPID, infoList in auths.items(): \n",
    "    masterStr.append(f'<b>{TCPID}:</b> Cluster {textToCluster[TCPID]} <ul><li><b>Author: </b> {infoList[0]}</li><li><b>Title: </b> {infoList[1]}</li><li><b>Date: </b> {infoList[2]}</li>')\n",
    "    gramDict = contexts[TCPID]\n",
    "    for gram in gramDict.keys(): \n",
    "        masterStr.append(f'<li><b>{gram}</b>')\n",
    "        windows  = gramDict[gram]\n",
    "        if windows == None: continue\n",
    "        for idx,w in enumerate(windows):\n",
    "            if not idx: masterStr.append(f'<ul><li>{w}</li></ul>')\n",
    "            else: masterStr.append(f'<ul><li>{w}</li></ul>')\n",
    "    masterStr.append(f'</ul><br>')\n",
    "print(' '.join(masterStr))"
   ]
  },
  {
   "cell_type": "code",
   "execution_count": 95,
   "metadata": {},
   "outputs": [
    {
     "name": "stdout",
     "output_type": "stream",
     "text": [
      "<li><b>plant</b> = ['poppy_and_red', 'leaf_of_poppy', 'thorny_poppy', 'poppey_head', 'field_poppy', 'flower_of_poppy', 'poppy_dry', 'white_poppy', 'wander_poppy', 'seed_poppy', 'poppy_head', 'prickly_poppy', 'resemble_poppy', 'poppy_cold', 'seed_of_poppy', 'leaf_of_the_poppy', 'name_poppy', 'garden_poppy', 'poppy_seed', 'double_poppy', 'poppy_red', 'white_poppey', 'thornye_poppy', 'poppy_root', 'crown_of_poppy', 'sort_of_poppy', 'poppy_white', 'poppy_and_the_white', 'poppy_the_description', 'flower_of_the_poppy', 'top_of_poppy', 'red_poppy', 'seed_of_poppey', 'black_poppy', 'poppy_long', 'poppy_the_leaf', 'horn_poppy', 'poppy_grow', 'wild_poppy', 'poppy_corn', 'green_poppy', 'poppy_the_seed', 'head_of_poppy', 'tall_poppy', 'big_poppy', 'kind_of_poppy', 'poppy_the_garden', 'poppy_leave', 'poppy_and_black', 'poppy_flower', 'corn_poppy', 'poppy_sed', 'spatle_poppy']</li><br> <li><b>generalUsage</b> = ['follow_opiate', 'smell_of_opium', 'milk_of_poppy', 'opium_lay', 'poppy_juice', 'poppy_juyce', 'poppey_juyce', 'oil_of_poppy', 'poppy_oil', 'oil_of_poppey', 'poppy_with_oil', 'poppy_and_apply', 'gather_of_laudanum', 'use_of_laudanum', 'opium_use', 'call_opium', 'water_of_poppy', 'poppy_the_juice', 'use_of_opium', 'custom_for_opium', 'poppy_sow', 'opiate_make', 'form_of_opiate', 'poppy_have', 'perfume_of_laudanum', 'inward_opiate', 'earth_and_opium', 'serve_for_opium', 'poppy_and_little', 'use_laudanum', 'poppy_join', 'take_laudanum', 'poppy_cause', 'opiate_have', 'laudanum_say', 'opium_take', 'opium_inward', 'laudanum_take', 'opium_make', 'make_of_poppy', 'make_opiate', 'eat_poppy', 'laudanum_make', 'poppy_the_place', 'opiate_with_equal', 'call_laudanum', 'opium_have', 'take_opium', 'pure_laudanum', 'custom_of_the_opium', 'laudanum_have', 'opium_cast', 'cordial_opiate', 'opium_put', 'tablet_opiate', 'gather_and_poppy', 'poppy_call', 'poppy_boil', 'say_opium', 'take_opiate', 'swell_with_poppy', 'opium_consist', 'melt_the_laudanum', 'usage_of_opium', 'some_opiate', 'poppy_sod', 'poppy_take', 'opiate_confection', 'use_opium', 'take_of_opium', 'eat_opium', 'mean_of_laudanum', 'opiate_mean', 'poppy_use', 'opium_of_the_seed', 'opium_of_the_juice', 'kind_of_opiate', 'opium_the_juice', 'juice_of_poppy', 'therein_the_laudanum']</li><br> <li><b>region</b> = ['opium_of_cambaia', 'opium_turkey', 'english_poppy', 'french_poppy']</li><br> <li><b>qualitative</b> = ['true_laudanum', 'poppy_simple', 'much_opium', 'true_opium', 'clean_laudanum', 'poppy_much', 'crude_opium', 'frothy_poppy', 'more_of_poppy', 'opium_more', 'poppy_must', 'opium_much', 'against_opium', 'opiate_against']</li><br> <li><b>quantitative</b> = ['opium_some', 'opium_half', 'half_opium', 'portion_of_opium', 'quantity_of_opium', 'loch_of_poppy', 'ounce_of_laudanum', 'ounce_of_opium', 'grain_of_opium', 'grain_of_laudanum', 'little_laudanum', 'laudanum_half', 'handful_poppy', 'little_opium', 'half_laudanum', 'half_poppy', 'little_opiate', 'laudanum_some', 'ounce_opium', 'ounce_laudanum', 'grain_of_poppy', 'some_opium', 'laudanum_twice', 'poppy_two', 'poppy_one', 'opium_two', 'three_poppy', 'laudanum_one', 'two_of_opium', 'laudanum_of_each', 'opium_three', 'first_opium', 'laudanum_three', 'poppy_of_each', 'opiate_three', 'opium_one', 'laudanum_two']</li><br> <li><b>moral</b> = ['opium_well', 'best_laudanum', 'opium_good', 'opiate_virtue', 'poppy_good', 'opiate_divinity', 'subordinates_opium', 'good_opium', 'virtue_of_laudanum', 'deadly_poppy', 'scruple_laudanum', 'poison_with_opium', 'poppy_the_virtue', 'bastard_poppy', 'best_opium', 'opium_of_evil']</li><br> <li><b>misc</b> = ['laudanum_that', 'opium_than', 'than_poppy', 'than_opium', 'laudanum_again', 'opium_but', 'opium_also', 'laudanum_and_such', 'foresay_opium', 'also_laudanum', 'like_opium', 'these_opium', 'also_poppy', 'poppy_when', 'opium_of_each', 'like_poppey', 'laudanum_may', 'poppy_like', 'opium_not', 'laudanum_not', 'opium_will', 'if_opium', 'that_opium', 'any_laudanum', 'opiate_not', 'thereof_opiate', 'poppy_without_any', 'poppy_and_therefore', 'opium_which', 'that_laudanum', 'poppy_yet', 'which_opium', 'laudanum_also', 'laudanum_and_then', 'poppey_such', 'poppy_there', 'opiate_according', 'unto_poppy', 'opium_the_same', 'poppy_if', 'opium_and_other', 'opium_may', 'poppy_this', 'opiate_shall', 'opium_of_which', 'this_opiate', 'like_poppy', 'opium_now', 'opium_its', 'opiate_but', 'poppy_aun', 'opium_and_there', 'this_poppy', 'poppy_that', 'those_poppy', 'opiate_of_which', 'that_opiate', 'opiate_there', 'opium_can', 'opium_then', 'laudanum_which', 'other_opiate', 'poppy_whereof', 'this_laudanum', 'opiate_which', 'other_poppy', 'that_of_the_poppy', 'opium_and_yet', 'than_opiate', 'even_opium', 'laudanum_and_other', 'opium_every', 'like_the_poppy', 'opiate_whereof', 'poppy_ana', 'opium_before', 'opium_unto', 'poppy_but', 'opiate_thereof', 'opium_that', 'opium_very', 'poppy_which', 'opium_other']</li><br> <li><b>maleGeneral</b> = ['sir_of_poppy', 'poppy_their', 'poppy_who', 'laudanum_you', 'syr_of_poppy', 'his_laudanum', 'poppy_you']</li><br> <li><b>medical</b> = ['opium_meconium', 'opiate_paracelsi', 'give_laudanum', 'dose_of_laudanum', 'dissolve_the_laudanum', 'poppy_give', 'laudanum_pill', 'opiate_composition', 'drowsy_poppy', 'brain_opium', 'beat_poppy', 'dram_of_opium', 'opiate_lozenge', 'opium_prepare', 'drag_laudanum', 'opiate_diet', 'laudanum_paracelsi', 'prepare_opium', 'drink_poppy', 'laudanum_thicken', 'compound_opiate', 'emplaster_of_laudanum', 'tincture_of_opium', 'opium_dram', 'administer_laudanum', 'opiate_with_the_syrup', 'opium_sleep', 'opiate_medicine', 'opium_extract', 'pill_of_laudanum', 'opiate_liquid', 'dram_laudanum', 'poppy_burn', 'syrup_of_poppy', 'decoction_of_poppy', 'poppy_anoint', 'dram_opium', 'drink_opium', 'opiate_electuary', 'poppy_syrup', 'give_opiate', 'poppy_of_the_decoction', 'laudanum_red', 'bear_laudanum', 'laudanum_warm', 'opium_cold', 'spirit_opiate', 'opium_camfere', 'castoreum_laudanum', 'because_opium', 'poppy_because']</li><br> <li><b>female</b> = ['poppy_she']</li><br> <li><b>otherPlants</b> = ['myrrh_laudanum', 'laudanum_with_rose', 'laudanum_frankincense', 'opium_nitre', 'poppy_mandrake', 'laudanum_and_wax', 'poppy_lettuce', 'violet_and_poppy', 'laudanum_aloe', 'laudanum_mastic', 'opium_and_saffron', 'quince_poppy', 'opium_saffron', 'laudanum_myrrh', 'mastic_laudanum', 'opium_and_nitre', 'hemlock_poppy', 'waterlilly_poppy', 'poppy_and_purslane', 'frankincense_opium', 'succory_poppy', 'lettuce_poppy', 'poppy_henbane', 'laudanum_rosin', 'poppy_houseleek', 'triphera_without_opium', 'laudanum_and_horehound', 'poppy_quince', 'laudanum_and_benzoin', 'opium_bevercod', 'poppy_of_rose', 'sandaraca_laudanum', 'saffron_opium', 'opium_mandrake', 'opium_hemlock', 'fig_and_poppy', 'laudanum_benjamin', 'aloe_laudanum', 'opium_henbane', 'gum_laudanum', 'henbane_opium', 'violet_poppy', 'violet_of_poppy', 'benzoine_laudanum', 'frankincense_laudanum', 'poppy_of_lettuce', 'saffron_and_opium', 'opium_and_the_saffron', 'poppy_violet', 'garlic_and_poppy', 'poppy_myrtle', 'poppy_and_lettice', 'laudanum_storax', 'opium_mandragora', 'opium_with_wax', 'poppy_and_the_nightshade', 'laudanum_ammoniacum', 'poppy_rose', 'poppy_mallow', 'laudanum_and_mastic', 'opium_and_rose', 'oat_and_poppy']</li><br> </ul>\n"
     ]
    }
   ],
   "source": [
    "'''Print documentation for the n-gram groups'''\n",
    "masterStr = []\n",
    "for groupName, gramGroup in gramGroups.items(): \n",
    "    masterStr.append(f'<li><b>{groupName}</b> = {gramGroup}</li><br>')\n",
    "masterStr.append('</ul>')\n",
    "print(' '.join(masterStr))"
   ]
  }
 ],
 "metadata": {
  "kernelspec": {
   "display_name": "Python 3.9.12 ('base')",
   "language": "python",
   "name": "python3"
  },
  "language_info": {
   "codemirror_mode": {
    "name": "ipython",
    "version": 3
   },
   "file_extension": ".py",
   "mimetype": "text/x-python",
   "name": "python",
   "nbconvert_exporter": "python",
   "pygments_lexer": "ipython3",
   "version": "3.9.12"
  },
  "orig_nbformat": 4,
  "vscode": {
   "interpreter": {
    "hash": "163b8b902ef20465a7ecf57c45ba2fc54a366f8c8d80240b381c6f4fa0585aa7"
   }
  }
 },
 "nbformat": 4,
 "nbformat_minor": 2
}

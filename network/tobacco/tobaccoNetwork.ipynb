{
 "cells": [
  {
   "cell_type": "code",
   "execution_count": 2,
   "metadata": {},
   "outputs": [],
   "source": [
    "'''\n",
    "Social network visualization of the language around tobacco from 1625-1634\n",
    "'''\n",
    "import re\n",
    "import pandas as pd\n",
    "from pyvis.network import Network\n",
    "\n",
    "def authors(csv,search):\n",
    "    '''\n",
    "    Extract text IDs and authors' names.\n",
    "    '''\n",
    "    df = pd.read_csv(csv)\n",
    "    authors = df['author']\n",
    "    ids = df['id']\n",
    "    titles = df['title']\n",
    "    dates = df['date']\n",
    "    count = 0\n",
    "    dict = {}\n",
    "    for idx,TCPID in enumerate(ids):\n",
    "        if TCPID.strip() in search: \n",
    "            words = set(authors[idx].split(';'))\n",
    "            words.discard('')\n",
    "            newWords = []\n",
    "            for w in words: \n",
    "                w = w.strip()\n",
    "                if re.search('printer|engraver',w):continue\n",
    "                newWords.append(w)\n",
    "            dict[TCPID] = [list(set(newWords)),titles[idx],dates[idx]]\n",
    "            count += 1\n",
    "    return dict "
   ]
  },
  {
   "cell_type": "code",
   "execution_count": 24,
   "metadata": {},
   "outputs": [
    {
     "name": "stdout",
     "output_type": "stream",
     "text": [
      "37\n"
     ]
    }
   ],
   "source": [
    "'''Get tobacco n-gram features'''\n",
    "from tobaccoTexts import per1,per2,per3,per4,per5,per6,per7\n",
    "inFile = open('/srv/data/amy/alltobaccograms.txt','r')\n",
    "period = per6\n",
    "\n",
    "inFileLines = inFile.readlines()\n",
    "inFile.close()\n",
    "tobaccoNgrams = {}\n",
    "for line in inFileLines: \n",
    "    line = line.split(':')\n",
    "    tcpID = line[0].strip()\n",
    "    if tcpID in period: \n",
    "        features = line[1].strip()\n",
    "        if features == '': continue\n",
    "        tobaccoNgrams[line[0].strip()] = features.strip().split(' ')\n",
    "print(len(tobaccoNgrams))"
   ]
  },
  {
   "cell_type": "code",
   "execution_count": 23,
   "metadata": {},
   "outputs": [
    {
     "data": {
      "text/plain": [
       "'period 7'"
      ]
     },
     "execution_count": 23,
     "metadata": {},
     "output_type": "execute_result"
    }
   ],
   "source": [
    "'''period 1'''\n",
    "# groups = {0:per1}\n",
    "# groupColors = {0:'pink'}\n",
    "'''period 2'''\n",
    "# Group0 = ['B12182', 'A20076', 'A20083', 'A22928', 'A01911', 'A11056', 'A11125', 'A11767', 'A13820', 'A14295', 'A07064', 'A16711', 'A09434', 'A14205', 'B13659', 'B14999', 'A21098', 'A01991', 'A11127', 'A14335', 'A14665', 'A14606', 'B07563', 'A20094', 'A01369', 'A11117', 'A11612', 'A11931', 'A03470', 'A06903', 'A07063', 'A18935', 'A19740', 'A19331']\n",
    "# Group1 = ['A20029', 'A08253', 'A02440', 'A20030', 'A04242']\n",
    "# Group2 = ['A20062', 'A20100', 'A20867', 'A69093', 'A11097', 'A12074', 'A15352', 'A07074', 'A07492', 'A16786', 'A18400', 'A19641', 'A20077', 'A20081', 'A20092', 'A20101', 'A11264', 'A12078', 'A04648', 'A07077', 'A16814', 'A07065', 'A20082', 'A20098', 'A68982', 'A10701', 'A11131', 'A03197', 'A04647', 'A13804', 'A13841', 'A07081', 'A07491', 'A07507', 'A16779', 'A08622', 'A09041', 'A14041', 'A19643']\n",
    "# groups = {0:Group0,1:Group1,2:Group2}\n",
    "# groupColors = {0:'pink',1:'purple',2:'darkblue'}\n",
    "'''Period 3'''\n",
    "# Group0 = ['A00709', 'A01017', 'A69269', 'A22657', 'A12466', 'A07834', 'A66951', 'A72778', 'A73092', 'A20882', 'A12470', 'A18416', 'A04690', 'A07548', 'A09144', 'A02606', 'A02626', 'A13446', 'A03800', 'A11644', 'A04691', 'A07551', 'A07931']\n",
    "# Group4 = ['A00826', 'A20047', 'A20095', 'A20448', 'A10711', 'A20178', 'A12957', 'A14204', 'A14954', 'A16748', 'A16807', 'A09038', 'A19912', 'A08256', 'A09040', 'A19035', 'A00646', 'A01256', 'A01402', 'A11098', 'A11119', 'A11133', 'A11143', 'A14298', 'A09039', 'A17230', 'A20046', 'A20060', 'A20066', 'A20087', 'A68679', 'A10703', 'A11120', 'A11154', 'A12956', 'A08257', 'A08597', 'A09017']\n",
    "# Group1 = ['A01077', 'A10228', 'A20795', 'A20847', 'A10699', 'A10715', 'A10723', 'A01883', 'A04187', 'A16676', 'A18914', 'A03416', 'A15092', 'A23464', 'A20760', 'A05339', 'A15623', 'A17136', 'A02438', 'A03413', 'A04224', 'A04393', 'A07419', 'A15694', 'A00419', 'A00648', 'A20804', 'A02021', 'A04391', 'A00551', 'A01006', 'A19936', 'A01009', 'A03758']\n",
    "# Group2 = ['A01444', 'A03952', 'A19997', 'A01443', 'A13306', 'A16679', 'A72803', 'A72779', 'A12072', 'A14898', 'A07228']\n",
    "# Group3 = ['A01794', 'A04636', 'A06252', 'A06389', 'A07524', 'A18415', 'A19260', 'A05137', 'A13248', 'A13345', 'A21411', 'A01793', 'A04639', 'A13802', 'A07067', 'A07528', 'A19977', 'A06704', 'A07461', 'A00725', 'A21136', 'A07495', 'A07504', 'A19528', 'A04638', 'A15676', 'A04632']\n",
    "# groups = {0:Group0,1:Group1,2:Group2,3:Group3,4:Group4}\n",
    "# groupColors = {0:'pink',1:'purple',2:'darkblue',3:'plum',4:'palevioletred'}\n",
    "'''Period 4'''\n",
    "# Group0 = ['A13495', 'A13524', 'A06785', 'A09909', 'A69184', 'A11134', 'A06786', 'A18423', 'A11114', 'A11136', 'A06789', 'A07123']\n",
    "# Group2 = ['A00723', 'A69015', 'A02826', 'A12461', 'A04494', 'A14803', 'A15069', 'A08764', 'A19313', 'A09810', 'A03450', 'B08204', 'A72554', 'A00825', 'A13519', 'A15072', 'A15591', 'A07886', 'A08841', 'A09205', 'A04645', 'A06901', 'A16495', 'A68246', 'A01428', 'A21108', 'A11585']\n",
    "# Group1 = ['A10706', 'A22216', 'A22230', 'A14042', 'A20073', 'A22205', 'A22328', 'A03920', 'A08508', 'A22210', 'A22229', 'A14326', 'A03496', 'A03688']\n",
    "# Group3 = ['A01956', 'A20353', 'A03206', 'A13273', 'A04159', 'A04164', 'A05598', 'A17310', 'A07418', 'A15693', 'A15824', 'B01023', 'B15167', 'A72064', 'A68703', 'A68983', 'A01545', 'A21042', 'A13486', 'A14745', 'A07227', 'A13024', 'A05289', 'A06030', 'A20055', 'A20762', 'A02647', 'A13499', 'A13521', 'A14732', 'A14750', 'A00286']\n",
    "# Group4 = ['A97346', 'A10377', 'A04267', 'A16247', 'A08675', 'A09195', 'A01576', 'A11334', 'A22174', 'A01933', 'A11808', 'A22658', 'A01581', 'A11273']\n",
    "# groups = {0:Group0,1:Group1,2:Group2,3:Group3,4:Group4}\n",
    "# groupColors = {0:'pink',1:'purple',2:'darkblue',3:'plum',4:'palevioletred'}\n",
    "'''period 5'''\n",
    "# Group0 = ['B12280', 'A10187', 'A03411', 'A19036', 'A68568', 'A11626', 'A14301', 'A15627', 'A09156', 'A00583', 'A19765', 'A20769', 'A12481', 'A13534', 'A14305', 'A08017', 'A09118', 'A08578', 'A04390', 'A14278', 'A68256', 'A01470', 'A16338', 'A10231', 'A07776', 'A13060']\n",
    "# Group1 = ['A01055', 'A20065', 'A20356', 'A69225', 'A11151', 'A12155', 'A02758', 'A13520', 'A15685', 'A06902', 'A16507', 'A16627', 'A08977', 'A19012', 'A03559', 'A13948', 'A07024', 'A04633', 'B00490', 'A72399', 'A72911', 'A68252', 'A20075', 'A02827', 'A02836', 'A03065', 'A12471', 'A03807', 'A13415', 'A13436', 'A05320', 'A14916', 'A05657', 'A16489', 'A11156', 'A06692', 'A07025', 'A09010', 'A09242', 'B01146', 'A72254', 'A10402', 'A01552', 'A21075', 'A11153', 'A02909', 'A12458', 'A03240', 'A04658', 'A06768', 'A16924', 'A17595', 'A01424', 'A08690', 'B07413', 'A71306', 'A68143', 'A03149', 'A18298', 'A00297', 'A08151', 'B01191', 'A71307', 'A72397', 'A10551', 'A09036', 'A19604', 'B00963', 'B11307', 'A71305', 'A68617', 'A04652', 'A14249', 'A14292', 'A06797', 'A16629', 'A17808']\n",
    "# Group2 = ['A22447', 'A22574', 'A01425', 'A22435', 'A22537', 'A22567', 'A02325', 'A22439', 'A22571', 'A22340', 'A22354', 'A22363', 'A20509', 'A22364']\n",
    "# groups = {0:Group0,1:Group1,2:Group2}\n",
    "# groupColors = {0:'pink',1:'purple',2:'darkblue'}\n",
    "'''period 6'''\n",
    "groups = {0:per6}\n",
    "groupColors = {0:'pink'}\n",
    "'''period 7'''\n",
    "# Group3 = ['B00113', 'B06331', 'B32508', 'A91057', 'A56145', 'A43605', 'A28264', 'A84935', 'A56346', 'A43602', 'A40049', 'A76768', 'A69561', 'B13588', 'A90502', 'A42169', 'A42368', 'A22634', 'A03960']\n",
    "# Group2 = ['B09294', 'A83496', 'A38817', 'A42872', 'A75518', 'A57437', 'A57520', 'A56323', 'A73387', 'A37557', 'A46035', 'A74707', 'A13516', 'A91395', 'A86223', 'A56127', 'A57391', 'A56322', 'A38224']\n",
    "# Group1 = ['A64253', 'A64772', 'A72473', 'A37285', 'A01779', 'A13439', 'A13461', 'A14722', 'A15847', 'B07802', 'A85534', 'A30077', 'A47081', 'A47202', 'A10790', 'A03415', 'A13393', 'A04651', 'A05597', 'A15606', 'A09626', 'A19750', 'A56891', 'A73721', 'A46228', 'A77631', 'A01253', 'A01773', 'A13010', 'A13395', 'A15873', 'A07541', 'A19888', 'A09607']\n",
    "# Group0 = ['A02060', 'A15684', 'A06911', 'A09011', 'A09740']\n",
    "# groups = {0:Group0,1:Group1,2:Group2,3:Group3}\n",
    "# groupColors = {0:'pink',1:'purple',2:'darkblue',3:'plum'}"
   ]
  },
  {
   "cell_type": "code",
   "execution_count": 5,
   "metadata": {},
   "outputs": [],
   "source": [
    "'''N-gram categorization colors'''\n",
    "from tobaccoNgramGroups import plant,usage,region,medical,trade,commodity,moral,misc,maleGeneral,female\n",
    "gramGroups = {\n",
    "    'plant':plant,'usage':usage,'region':region,'trade':trade,'commodity':commodity,\n",
    "    'moral':moral,'misc':misc,'maleGeneral':maleGeneral,'medical':medical,'female':female\n",
    "}\n",
    "edgeColors = {\n",
    "    'plant': '#90C8AC', 'usage':'#E8D7AD', 'region':'#CCF1FF', 'trade':'#edc7ed','commodity':'#FFD9C0',\n",
    "    'moral':'#FFCCE1','misc':'lemonchiffon','maleGeneral':'#E0D7FF','medical':'#8C88BA','female':'#BCD2E3'\n",
    "}\n",
    "from itertools import combinations\n",
    "def gramNetwork(gramAuthDict):\n",
    "    '''\n",
    "    Catalogs edges (as well as the edge value, i.e., n-gram) between nodes\n",
    "    Returns a list of tuples (combo,gram) \n",
    "    '''\n",
    "    edgelist = []    \n",
    "    for gram,authList in gramAuthDict.items():\n",
    "        combos = list(combinations(authList,2))\n",
    "        for combo in combos: \n",
    "            # add only edges between DIFFERENT authors. For each different gram, add a new edge  \n",
    "            if combo[1] == combo[0]: continue #avoids edges that point back to self \n",
    "            if ((combo[1],combo[0]),gram) in edgelist: continue\n",
    "            if ((combo[0],combo[1]),gram) in edgelist: continue\n",
    "            edgelist.append((combo,gram))  \n",
    "    return edgelist\n",
    "\n",
    "'''Creates the information that will pop-up when a cursor hovers over a node in the network'''\n",
    "def createTitle(auth,authInfo):\n",
    "    items = ''\n",
    "    for TCPID,gramList in authInfo.items(): \n",
    "        count = 0\n",
    "        for item in gramList: \n",
    "            if count == 0: gramString = f'{item}'\n",
    "            count += 1 \n",
    "            if not count % 2: \n",
    "                if count == len(gramList): gramString += f', {item}'\n",
    "                else: gramString += f', {item},\\n'\n",
    "            elif count>1: gramString += f'\\t{item}'\n",
    "        items += f'{TCPID}: {gramString}\\n'\n",
    "    title = f'{auth}:\\n{items}'\n",
    "    return title\n",
    "    \n",
    "def gramGraph(edgelist,title,authMap,heading,aToGramText):\n",
    "    # Create pyvis graph\n",
    "    g = Network(width=800,height=1000,notebook=True,heading=heading,bgcolor='white',font_color='black',directed=True)\n",
    "    for authPair,gram in edgelist:\n",
    "        if gram=='tobacco_tobacco':continue\n",
    "        a1Color,a2Color = authMap[authPair[0]],authMap[authPair[1]]\n",
    "        \n",
    "        a1Title = createTitle(authPair[0],aToGramText[authPair[0]])\n",
    "        a2Title = createTitle(authPair[1],aToGramText[authPair[1]])\n",
    "\n",
    "        g.add_node(authPair[0], authPair[0], title=a1Title, color=a1Color,labelHighlightBold=True,chosen=True)\n",
    "        g.add_node(authPair[1], authPair[1], title=a2Title, color=a2Color,labelHighlightBold=True,chosen=True)\n",
    "\n",
    "        for groupName,gramList in gramGroups.items():\n",
    "            if gram in gramList:\n",
    "                g.add_edge(authPair[0],authPair[1],title=gram,color=edgeColors[groupName],width=10,arrows='hide')\n",
    "    g.set_edge_smooth('dynamic')\n",
    "    g.repulsion()\n",
    "    g.show(title+\".html\")\n"
   ]
  },
  {
   "cell_type": "code",
   "execution_count": 25,
   "metadata": {},
   "outputs": [
    {
     "name": "stdout",
     "output_type": "stream",
     "text": [
      "44\n"
     ]
    }
   ],
   "source": [
    "'''Catalog authors, grams, and TCPIDs'''\n",
    "file = '/srv/data/metadata/tuning/relevant.csv'\n",
    "auths = authors(file,tobaccoNgrams.keys())\n",
    "uniqueAuths = []\n",
    "for TCPID,infoList in auths.copy().items():\n",
    "    uniqueAuths.extend(infoList[0])\n",
    "print(len(set(uniqueAuths)))\n",
    "\n",
    "aToGramText = {}\n",
    "authGrams = {}\n",
    "for TCPID, infoList in auths.items(): \n",
    "    for auth in infoList[0]: \n",
    "        auth = auth.strip(r'\\[').strip(r'\\]')\n",
    "        if auth not in authGrams.keys():\n",
    "            authGrams[auth] = []\n",
    "        authGrams[auth].extend(list(set(tobaccoNgrams[TCPID]))) \n",
    "        if auth not in aToGramText.keys(): \n",
    "            aToGramText[auth] = {TCPID: list(set(tobaccoNgrams[TCPID]))}\n",
    "        else: aToGramText[auth] = aToGramText[auth] | {TCPID: list(set(tobaccoNgrams[TCPID]))}\n",
    "\n",
    "gramToAuths = {}\n",
    "for auth, grams in authGrams.items(): \n",
    "    for gram in grams: \n",
    "        if gram not in gramToAuths.keys(): gramToAuths[gram] = [auth]\n",
    "        else: gramToAuths[gram].append(auth)\n"
   ]
  },
  {
   "cell_type": "code",
   "execution_count": 26,
   "metadata": {},
   "outputs": [
    {
     "name": "stdout",
     "output_type": "stream",
     "text": [
      "44\n"
     ]
    }
   ],
   "source": [
    "'''Get node colors based on clustering results'''\n",
    "authCluster = {}\n",
    "for TCPID,infoList in auths.items():\n",
    "    for idx,group in groups.items():\n",
    "        if TCPID in group: \n",
    "            for auth in infoList[0]: \n",
    "                if auth not in authCluster.keys(): authCluster[auth] = (idx,1)\n",
    "                else: \n",
    "                    authCluster[auth] = (authCluster[auth][0]+idx, authCluster[auth][1]+1)\n",
    "\n",
    "authMap = {}\n",
    "for auth,nums in authCluster.items():\n",
    "    avg = round(nums[0]/nums[1])\n",
    "    auth = re.sub(r'\\[|\\]','',auth)\n",
    "    authMap[auth] = groupColors[avg]\n",
    "print(len(authMap))"
   ]
  },
  {
   "cell_type": "code",
   "execution_count": 89,
   "metadata": {},
   "outputs": [
    {
     "name": "stdout",
     "output_type": "stream",
     "text": [
      "589\n"
     ]
    }
   ],
   "source": [
    "'''Create and output network'''\n",
    "edges = gramNetwork(gramToAuths)\n",
    "print(len(edges))\n",
    "# gramGraph(edges,'Period 1 authors',authMap,'1580-1599 Tobacco N-Gram Author Network',aToGramText)\n",
    "# gramGraph(edges,'Period 2 authors',authMap,'1600-1607 Tobacco N-Gram Author Network',aToGramText)\n",
    "# gramGraph(edges,'Period 3 authors',authMap,'1608-1617 Tobacco N-Gram Author Network',aToGramText)\n",
    "# gramGraph(edges,'Period 4 authors',authMap,'1618-1624 Tobacco N-Gram Author Network',aToGramText)\n",
    "# gramGraph(edges,'Period 5 authors',authMap,'1625-1634 Tobacco N-Gram Author Network',aToGramText)\n",
    "# gramGraph(edges,'Period 6 authors',authMap,'1635-1638 Tobacco N-Gram Author Network',aToGramText)\n",
    "gramGraph(edges,'Period 7 authors',authMap,'1639-1641 Tobacco N-Gram Author Network',aToGramText)"
   ]
  },
  {
   "cell_type": "code",
   "execution_count": 8,
   "metadata": {},
   "outputs": [],
   "source": [
    "'''Get context windows for n-grams'''\n",
    "import os,re\n",
    "\n",
    "def getTexts(folder,searchList):\n",
    "    fileToText = {}\n",
    "    underscores = {}\n",
    "    for root,dirs,files in os.walk(folder):\n",
    "        for file in files:\n",
    "                if '.txt' not in file: continue\n",
    "                path = os.path.join(folder,file)\n",
    "                f = open(path,'r')\n",
    "                text = f.readlines()[0]\n",
    "                if '_' in file: \n",
    "                        name = file.split('_')[0]\n",
    "                        if name in searchList: \n",
    "                            if name not in underscores.keys(): \n",
    "                                    underscores[name] = text\n",
    "                            else: underscores[name] = underscores[name] + ' ' + text\n",
    "                else: \n",
    "                        name = file.split('.')[0]\n",
    "                        if name in searchList: \n",
    "                            fileToText[name] = text\n",
    "                f.close()\n",
    "        for name,text in underscores.items():\n",
    "            fileToText[name] = text\n",
    "        return fileToText\n",
    "   \n",
    "def context(searchgram,textName):\n",
    "    text = bigramdata[textName]\n",
    "    if (searchgram in text):\n",
    "        indices = [i for i in range(len(text)) if text.startswith(searchgram, i)]\n",
    "        windows = []\n",
    "        for index in indices:\n",
    "            if index > 120: window = text[(index-120):(index+120)].split(' ')\n",
    "            else: window = text[:index+120].split(' ')\n",
    "            del window[0]\n",
    "            del window[-1]\n",
    "            window = ' '.join(window)\n",
    "            windows.append(window)\n",
    "        return windows "
   ]
  },
  {
   "cell_type": "code",
   "execution_count": 28,
   "metadata": {},
   "outputs": [
    {
     "name": "stdout",
     "output_type": "stream",
     "text": [
      "37\n"
     ]
    }
   ],
   "source": [
    "'''Map n-grams to TCPIDs'''\n",
    "bigramdata = getTexts('/srv/data/allPeriods/period6CleanRepStop', period)\n",
    "\n",
    "file = '/srv/data/metadata/tuning/relevant.csv'\n",
    "textGrams = {}\n",
    "for TCPID in tobaccoNgrams.keys(): \n",
    "    nGrams = list(set(tobaccoNgrams[TCPID]))\n",
    "    textGrams[TCPID] = []\n",
    "    for gram in nGrams: \n",
    "        gram = re.sub('_',' ',gram)\n",
    "        textGrams[TCPID].append(gram)\n",
    "print(len(textGrams))"
   ]
  },
  {
   "cell_type": "code",
   "execution_count": 29,
   "metadata": {},
   "outputs": [],
   "source": [
    "'''Get context windows into a dictionary'''\n",
    "contexts = {}\n",
    "for TCPID,gramList in textGrams.items():\n",
    "    contexts[TCPID] = {}\n",
    "    for gram in gramList: \n",
    "        formatGram = re.sub(' ','_',gram)\n",
    "        contexts[TCPID][formatGram] = context(gram,TCPID)"
   ]
  },
  {
   "cell_type": "code",
   "execution_count": 30,
   "metadata": {},
   "outputs": [],
   "source": [
    "textToCluster = {}\n",
    "for TCPID in auths.keys(): \n",
    "    for groupIdx, group in groups.items(): \n",
    "        if TCPID in group: textToCluster[TCPID] = groupIdx"
   ]
  },
  {
   "cell_type": "code",
   "execution_count": null,
   "metadata": {},
   "outputs": [],
   "source": [
    "'''Print out documentation for each text in HTML format (ready to be copied and pasted into a HTML doc)'''\n",
    "count = 0\n",
    "for TCPID, infoList in auths.items(): \n",
    "    count += 1\n",
    "    print(f'<b>{TCPID}:</b> Cluster {textToCluster[TCPID]} <ul><li><b>Author: </b> {infoList[0]}</li><li><b>Title: </b> {infoList[1]}</li><li><b>Date: </b> {infoList[2]}</li>')\n",
    "    gramDict = contexts[TCPID]\n",
    "    for gram in gramDict.keys(): \n",
    "        print(f'<li><b>{gram}</b>')\n",
    "        windows  = gramDict[gram]\n",
    "        if windows == None: continue\n",
    "        for idx,w in enumerate(windows):\n",
    "            if not idx: print(f'<ul><li>{w}</li></ul>')\n",
    "            else: print(f'<ul><li>{w}</li></ul>')\n",
    "    print(f'</ul><br>')\n",
    "print(count)\n"
   ]
  },
  {
   "cell_type": "code",
   "execution_count": 151,
   "metadata": {},
   "outputs": [
    {
     "data": {
      "text/plain": [
       "92"
      ]
     },
     "execution_count": 151,
     "metadata": {},
     "output_type": "execute_result"
    }
   ],
   "source": [
    "y = [21, 78, 133,99,117,37,77]"
   ]
  }
 ],
 "metadata": {
  "kernelspec": {
   "display_name": "Python 3.9.12 ('base')",
   "language": "python",
   "name": "python3"
  },
  "language_info": {
   "codemirror_mode": {
    "name": "ipython",
    "version": 3
   },
   "file_extension": ".py",
   "mimetype": "text/x-python",
   "name": "python",
   "nbconvert_exporter": "python",
   "pygments_lexer": "ipython3",
   "version": "3.9.12"
  },
  "orig_nbformat": 4,
  "vscode": {
   "interpreter": {
    "hash": "163b8b902ef20465a7ecf57c45ba2fc54a366f8c8d80240b381c6f4fa0585aa7"
   }
  }
 },
 "nbformat": 4,
 "nbformat_minor": 2
}

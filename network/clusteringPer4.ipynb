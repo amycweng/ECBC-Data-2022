{
 "cells": [
  {
   "cell_type": "code",
   "execution_count": 2,
   "metadata": {},
   "outputs": [],
   "source": [
    "'''\n",
    "Unsupervised k-means clustering on standardized and cleaned plain text file versions of EEBO-TCP texts. \n",
    "\n",
    "Produces a user-specified number of clusters based on term frequency vectorization. \n",
    "These clusters are described using the keywords found in their corresponding entries \n",
    "in a metadata CSV file made using metadata.py in Stage I. \n",
    "\n",
    "The vectorize and cluster functions are adapted from the EarlyPrint Lab: \n",
    "    https://earlyprint.org/jupyterbook/unsupervised.html\n",
    "The topTerms function is adapted from \n",
    "    https://pythonprogramminglanguage.com/kmeans-text-clustering/ \n",
    "The elbow and intercluster functions are adapted from Yellowbrick's documentation: \n",
    "    https://www.scikit-yb.org/en/latest/index.html\n",
    "'''\n",
    "import numpy as np\n",
    "import pandas as pd\n",
    "from collections import defaultdict,Counter\n",
    "from sklearn.feature_extraction.text import TfidfVectorizer,CountVectorizer\n",
    "import sklearn.metrics as metrics\n",
    "from sklearn.cluster import KMeans\n",
    "from sklearn.decomposition import PCA\n",
    "import matplotlib.pyplot as plt\n",
    "plt.style.use('ggplot')\n",
    "\n",
    "\n",
    "def vectorize(strings,ids,option):\n",
    "    '''\n",
    "    Vectorizes the texts and returns a dataframe of texts mapping to their TCP IDs. \n",
    "    '''\n",
    "    # vector = TfidfVectorizer(min_df=2, sublinear_tf=True)\n",
    "    # results = vector.fit_transform(strings)\n",
    "    if option =='count': vector = CountVectorizer()\n",
    "    else: vector = TfidfVectorizer()\n",
    "    results = vector.fit_transform(strings)\n",
    "    return pd.DataFrame(results.toarray(), index=ids, columns=vector.get_feature_names_out()) # Convert information back to a DataFrame\n",
    "\n",
    "def cluster(df,ids,num):\n",
    "    model = KMeans(n_clusters=num, random_state=42) \n",
    "    model.fit(df) \n",
    "    kmeans_groups = defaultdict(list)\n",
    "    for k,v in zip(model.labels_,ids):\n",
    "        kmeans_groups[k].append(v)\n",
    "    return kmeans_groups,model\n",
    "\n",
    "def topTerms(model,df,num):\n",
    "    print(\"Top terms per cluster:\")\n",
    "    centroids = model.cluster_centers_.argsort()[:, ::-1]\n",
    "    terms = list(df.columns)\n",
    "    for i in range(num):\n",
    "        top = []\n",
    "        for ind in centroids[i, :20]:\n",
    "            top.append(terms[ind])\n",
    "        print(\"Cluster %d:\" % i,top)\n",
    "\n",
    "def elbow(df):\n",
    "    from yellowbrick.cluster.elbow import kelbow_visualizer\n",
    "    kelbow_visualizer(KMeans(), df, k=(2, 10),timings=False)\n",
    "    # kelbow_visualizer(KMeans(), df, k=(2, 10),metric='calinski_harabasz',timings=False)\n",
    "    # kelbow_visualizer(KMeans(), df, k=(2, 10),metric='silhouette',timings=False)\n",
    "    \n",
    "def intercluster(model,num):\n",
    "    from yellowbrick.cluster import intercluster_distance\n",
    "    intercluster_distance(KMeans(num),model, embedding='mds') \n",
    "\n",
    "def pcaColors(kmeans,df):\n",
    "    '''\n",
    "    PCA visualization code comes from https://www.askpython.com/python/examples/plot-k-means-clusters-python \\n\",\n",
    "    '''\n",
    "    pca = PCA(n_components=2)\n",
    "    pca_results = pca.fit_transform(df) \n",
    "    label = kmeans.fit_predict(pca_results) \n",
    "    u_labels = np.unique(label)\n",
    "    groupColors = {0:'pink',1:'purple',2:'darkblue',3:'plum',4:'palevioletred'}\n",
    "    for i in u_labels:\n",
    "        plt.scatter(pca_results[label == i , 0] , pca_results[label == i , 1] , label = i,color=groupColors[i])\n",
    "    plt.legend()\n",
    "    plt.figure(figsize=(20,10))\n",
    "    plt.show()\n",
    "\n",
    "def pca(df):\n",
    "    pca = PCA(n_components=2)\n",
    "    pca_results = pca.fit_transform(df) \n",
    "    pca_df = pd.DataFrame(pca_results, columns=[\"pc1\",\"pc2\"])\n",
    "    pca_df.plot.scatter(x='pc1', y='pc2')\n",
    "    plt.legend()\n",
    "    plt.figure(figsize=(20,10))\n",
    "    plt.show()\n"
   ]
  },
  {
   "cell_type": "code",
   "execution_count": 4,
   "metadata": {},
   "outputs": [],
   "source": [
    "import os,re \n",
    "\n",
    "\n",
    "def keywords(csv):\n",
    "    '''\n",
    "    Returns a dictionary in this format {id : (keywords,date)}\n",
    "    '''\n",
    "    df = pd.read_csv(csv)\n",
    "    keywords = df['keywords']\n",
    "    ids = df['id']\n",
    "    dates = df['date']\n",
    "    numFiles = len(ids)\n",
    "    count = 0\n",
    "    dict = {}\n",
    "    while count < numFiles:\n",
    "        words = set(keywords[count].split('--'))\n",
    "        # removing unnecessary keywords\n",
    "        words.discard('')\n",
    "        # Removing unnecessary dates  \n",
    "        newWords = []\n",
    "        for w in words: \n",
    "            w = w.replace('.','')\n",
    "            w = re.sub(r'\\([^)]*\\)','',w)\n",
    "            w = re.sub(r'[.\"\\'-?:!;]', '', w)\n",
    "            w = re.sub(r' ca|-|[0-9]{4}|,','',w)\n",
    "            if re.search('Sultan of the Turks',w):\n",
    "                w = 'Sultan of the Turks'\n",
    "            if re.search('Süleyman',w):\n",
    "                w = 'Süleyman'\n",
    "            w = w.strip()\n",
    "            newWords.append(w)\n",
    "        newWords = set(newWords)\n",
    "        newWords.discard('')\n",
    "        newWords.discard('-')\n",
    "        newWords.discard('th century')\n",
    "        newWords.discard('I')\n",
    "        newWords.discard('Early works to')\n",
    "        newWords.discard('To')\n",
    "        newWords.discard('No Keywords')\n",
    "        newWords.discard('Great Britain')\n",
    "        dict[ids[count]] = (newWords,dates[count])\n",
    "        count += 1\n",
    "    return dict \n",
    "    \n",
    "def getTexts(folder,searchList):\n",
    "    fileToText = {}\n",
    "    underscores = {}\n",
    "    for root,dirs,files in os.walk(folder):\n",
    "        for file in files:\n",
    "                if '.txt' not in file: continue\n",
    "                path = os.path.join(folder,file)\n",
    "                f = open(path,'r')\n",
    "                text = f.readlines()[0]\n",
    "                if '_' in file: \n",
    "                        name = file.split('_')[0]\n",
    "                        if name not in searchList: continue\n",
    "                        if name not in underscores.keys(): \n",
    "                                underscores[name] = text\n",
    "                        else: underscores[name] = underscores[name] + ' ' + text\n",
    "                else: \n",
    "                        name = file.split('.')[0]\n",
    "                        if name not in searchList: continue\n",
    "                        fileToText[name] = text\n",
    "                f.close()\n",
    "        for name,text in underscores.items():\n",
    "            fileToText[name] = text\n",
    "        return fileToText"
   ]
  },
  {
   "cell_type": "code",
   "execution_count": 5,
   "metadata": {},
   "outputs": [
    {
     "name": "stdout",
     "output_type": "stream",
     "text": [
      "1351\n"
     ]
    }
   ],
   "source": [
    "'''Get Topic Words for each text in a dictionary'''\n",
    "readFile = open('/srv/data/periodFeatures/period4features/period1625topics.txt','r')\n",
    "topics = {}\n",
    "for line in readFile:\n",
    "    tcpID =  line.split(':')[0].strip('.txt')\n",
    "    topic = line.split(':')[1].strip()\n",
    "    topic = re.sub(r' if | of | by | yet | the | man | see | and ',' ',topic)\n",
    "    topic = re.sub('  ',' ',topic)\n",
    "    topics[tcpID] = topic.split(' ')\n",
    "readFile.close()\n",
    "print(len(topics))"
   ]
  },
  {
   "cell_type": "code",
   "execution_count": 6,
   "metadata": {},
   "outputs": [
    {
     "name": "stdout",
     "output_type": "stream",
     "text": [
      "1351\n",
      "105\n",
      "81\n"
     ]
    }
   ],
   "source": [
    "'''Get additional features'''\n",
    "inFile = open('/srv/data/periodFeatures/period4features/featuresPeriod1625.txt','r')\n",
    "inFileLines = inFile.readlines()\n",
    "inFile.close()\n",
    "featuresDict = {}\n",
    "for line in inFileLines: \n",
    "    line = line.split(':')\n",
    "    features = line[1].strip().split(' ')\n",
    "    featuresDict[line[0].strip()] = features\n",
    "print(len(featuresDict))\n",
    "\n",
    "'''Get drug and tobacco features'''\n",
    "tobacco = 'tobacco|tobaco|tobacca|tobacconist'\n",
    "drug = 'drug|drugge|drugg|elixir|apothecary|confection|confect|medicinable|medicine|medecine|medicament|arsenic|poppy|chemic|medicinal|intoxicate|tacamahaca|potion|mithridate|antimony|opiate|opium'\n",
    "\n",
    "inFile = open('/srv/data/periodFeatures/period4features/drugTobaccoPeriod1625.txt','r')\n",
    "inFileLines = inFile.readlines()\n",
    "inFile.close()\n",
    "tobaccoDrug = {}\n",
    "for line in inFileLines: \n",
    "    line = line.split(':')\n",
    "    features = line[1].strip().split(' ')\n",
    "    if features[0] == '': continue\n",
    "    \n",
    "    '''For specifically tobacco texts'''\n",
    "    instances = re.findall(tobacco,' '.join(features))\n",
    "    if len(instances) < 1: continue\n",
    "    tobaccoDrug[line[0].strip()] = features\n",
    "print(len(tobaccoDrug))\n",
    "\n",
    "'''Get tobacco n-gram features'''\n",
    "inFile = open('/srv/data/periodFeatures/period4features/newtobaccograms.txt','r')\n",
    "inFileLines = inFile.readlines()\n",
    "inFile.close()\n",
    "tobaccoNgrams = {}\n",
    "for line in inFileLines: \n",
    "    line = line.split(':')\n",
    "    features = line[1].strip()\n",
    "    if features == '': continue\n",
    "    tobaccoNgrams[line[0].strip()] = features.strip()\n",
    "print(len(tobaccoNgrams))"
   ]
  },
  {
   "cell_type": "code",
   "execution_count": 7,
   "metadata": {},
   "outputs": [
    {
     "name": "stdout",
     "output_type": "stream",
     "text": [
      "Total number of texts to classify is 81\n"
     ]
    }
   ],
   "source": [
    "'''Get keywords metadata for each text in a dictionary'''\n",
    "'''Create list of feature strings for each file and remove stopwords'''\n",
    "import re \n",
    "from timePeriods import period4\n",
    "features = {}\n",
    "textInfo = getTexts('/srv/data/relevantEPBodySTOP',period4)\n",
    "kwdict = keywords('/srv/data/metadata/tuning/relevant.csv')\n",
    "\n",
    "for ID in tobaccoNgrams.keys():\n",
    "    '''Skip the texts that do not have any mention of tobacco or drugs'''\n",
    "    features[ID] = [textInfo[ID]]\n",
    "    kWords = (list(kwdict[ID][0]))\n",
    "    features[ID].append(' '.join(kWords*50))\n",
    "    features[ID].append(' '.join(topics[ID]*50))\n",
    "    features[ID].append(' '.join(featuresDict[ID]*20))\n",
    "    features[ID].append(' '.join(tobaccoDrug[ID]*20))\n",
    "    features[ID].append(' '.join(tobaccoNgrams[ID]*10))\n",
    "    featureStr = ' '.join(features[ID])\n",
    "    featureStr = re.sub(r' if | of | by | yet | the | man | see | and ',' ',featureStr)\n",
    "    featureStr = re.sub('  ',' ',featureStr)\n",
    "    features[ID] = featureStr\n",
    "print(f'Total number of texts to classify is {len(features)}')"
   ]
  },
  {
   "cell_type": "code",
   "execution_count": 22,
   "metadata": {},
   "outputs": [
    {
     "name": "stdout",
     "output_type": "stream",
     "text": [
      "['B12280', 'A01055', 'A20065', 'A10187', 'A20356', 'A69225', 'A22447', 'A22574', 'A11151', 'A12155', 'A02758', 'A13520', 'A15685', 'A06902', 'A16507', 'A16627', 'A08977', 'A19012', 'A03411', 'A03559', 'A13948', 'A07024', 'A19036', 'A04633', 'B00490', 'A72399', 'A72911', 'A68252', 'A20075', 'A01425', 'A22435', 'A22537', 'A22567', 'A68568', 'A11626', 'A02325', 'A02827', 'A02836', 'A03065', 'A12471', 'A03807', 'A13415', 'A13436', 'A14301', 'A05320', 'A14916', 'A05657', 'A15627', 'A16489', 'A09156', 'A00583', 'A11156', 'A06692', 'A07025', 'A09010', 'A09242', 'A19765', 'B01146', 'A72254', 'A20769', 'A10402', 'A01552', 'A21075', 'A22439', 'A22571', 'A11153', 'A02909', 'A12458', 'A12481', 'A03240', 'A13534', 'A04658', 'A14305', 'A06768', 'A16924', 'A08017', 'A17595', 'A09118', 'A01424', 'A08578', 'A08690']\n"
     ]
    }
   ],
   "source": [
    "print(list(features.keys()))"
   ]
  },
  {
   "cell_type": "code",
   "execution_count": null,
   "metadata": {},
   "outputs": [],
   "source": [
    "df = vectorize(features.values(),features.keys(),'tfidf')\n",
    "# pca(df)\n",
    "# elbow(df)"
   ]
  },
  {
   "cell_type": "code",
   "execution_count": 45,
   "metadata": {},
   "outputs": [
    {
     "name": "stdout",
     "output_type": "stream",
     "text": [
      "Top terms per cluster:\n",
      "Cluster 0: ['christian', 'ship', 'pleasure', 'god', 'profit', 'company', 'cloth', 'england', 'money', 'cape', 'sin', 'christ', 'good', 'law', 'adventure', 'arab', 'french', 'lord', 'france', 'greed']\n",
      "Cluster 1: ['tobacco', 'plantation', 'monopolies', 'import', 'islands', 'virginia', 'colonies', 'bermuda', 'legislation', 'retail', 'colony', 'england', 'industry', 'commerce', 'charles', 'history', 'pleasure', 'majesty', 'importation', 'spanish']\n",
      "Cluster 2: ['ship', 'money', 'company', 'business', 'cloth', 'tobacco', 'trade', 'pleasure', 'england', 'spain', 'french', 'good', 'france', 'christian', 'cape', 'spaniard', 'love', 'merchant', 'stock', 'out']\n",
      "Cluster 3: ['sugar', 'medicine', 'tobacco', 'cloth', 'water', 'company', 'profit', 'copper', 'india', 'use', 'pleasure', 'mithridate', 'arab', 'ship', 'take', 'muhammad', 'good', 'medicinable', 'body', 'wine']\n",
      "Cluster 4: ['plantation', 'england', 'ship', 'india', 'virginia', 'adventure', 'french', 'colony', 'company', 'christian', 'commodity', 'stock', 'tobacco', 'france', 'trade', 'spaniard', 'joint', 'america', 'profit', 'canada']\n",
      "[0 1 1 0 1 4 3 3 1 1 2 1 2 2 2 2 2 1 4 1 1 1 0 1 2 1 2 1 1 3 3 3 3 4 4 2 1\n",
      " 2 4 2 1 4 1 0 1 4 2 0 4 4 2 2 1 1 2 1 0 1 1 0 1 2 1 3 3 1 4 2 4 1 0 1 0 2\n",
      " 1 4 2 0 2 0 4]\n"
     ]
    },
    {
     "data": {
      "image/png": "[encoded data removed]",
      "text/plain": [
       "<Figure size 432x288 with 1 Axes>"
      ]
     },
     "metadata": {},
     "output_type": "display_data"
    },
    {
     "data": {
      "text/plain": [
       "<Figure size 1440x720 with 0 Axes>"
      ]
     },
     "metadata": {},
     "output_type": "display_data"
    }
   ],
   "source": [
    "k=5\n",
    "groups,model = cluster(df,features.keys(),k)\n",
    "topTerms(model,df,k)\n",
    "pcaColors(model,df)"
   ]
  },
  {
   "cell_type": "code",
   "execution_count": 13,
   "metadata": {},
   "outputs": [
    {
     "data": {
      "text/plain": [
       "3"
      ]
     },
     "execution_count": 13,
     "metadata": {},
     "output_type": "execute_result"
    }
   ],
   "source": [
    "'''Clustering results for tobacco Period 4'''\n",
    "\n",
    "Group0 = ['B12280', 'A10187', 'A03411', 'A19036', 'A68568', 'A11626', 'A14301', 'A14916', 'A15627', 'A09156', 'A00583', 'A19765', 'A20769', 'A12481', 'A13534', 'A14305', 'A08017', 'A09118', 'A08578']\n",
    "Group2 = ['A01055', 'A20065', 'A20356', 'A69225', 'A11151', 'A12155', 'A13520', 'A08977', 'A19012', 'A03559', 'A13948', 'A07024', 'A04633', 'B00490', 'A72399', 'A68252', 'A20075', 'A02827', 'A02836', 'A03807', 'A13415', 'A13436', 'A05320', 'A16489', 'A06692', 'A07025', 'A09242', 'B01146', 'A72254', 'A10402', 'A21075', 'A11153', 'A02909', 'A03240', 'A04658', 'A16924', 'A08690']\n",
    "Group1 = ['A22447', 'A22574', 'A22435', 'A22537', 'A22567', 'A22439', 'A22571']\n",
    "Group3 = ['A02758', 'A06902', 'A16627', 'A01425', 'A03065', 'A05657', 'A11156', 'A01552', 'A06768', 'A01424']\n",
    "Group4 = ['A15685', 'A16507', 'A72911', 'A02325', 'A12471', 'A09010', 'A12458', 'A17595']\n",
    "groups = {0:Group0,1:Group1,2:Group2,3:Group3,4:Group4}\n",
    "\n",
    "'''Write out documentation k-means clustering'''\n",
    "\n",
    "outfile = open('/srv/data/amy/per4doc.txt','a+')\n",
    "for k in groups.keys():\n",
    "    kWords = []\n",
    "    tWords = []\n",
    "    outfile.write(f'Cluster {k}:')\n",
    "    for TCPID in groups[k]:\n",
    "        kWords.extend(list(kwdict[TCPID][0]))\n",
    "        tWords.extend(topics[TCPID])\n",
    "    outfile.write(f'<br><ul><li><b>TCP IDs:</b> {groups[k]}</li>')\n",
    "    outfile.write(f'<li><b>Keywords:</b> {Counter(kWords).most_common(n=10)}</li>')\n",
    "    outfile.write(f'<li><b>Topic words:</b> {Counter(tWords).most_common(n=10)}</li></ul>')\n",
    "outfile.write('\\n\\n\\n')"
   ]
  },
  {
   "cell_type": "code",
   "execution_count": 147,
   "metadata": {},
   "outputs": [
    {
     "name": "stdout",
     "output_type": "stream",
     "text": [
      "Jonson, Ben, 1573?-1637. :  A04658 :  tobacco_and_pipe\n",
      "Jonson, Ben, 1573?-1637. :  A04633 :  tobacco_pipe tobacco_there pipe_of_tobacco ale_and_tobacco weed_tobacco tobacco_taker tobacco_out tobacco_when tobacco_for_which that_tobacco smoke_of_tobacco good_tobacco\n",
      "Jonson, Ben, 1573?-1637, attributed name. :  A20356 :  tobacco_take\n"
     ]
    }
   ],
   "source": [
    "meta = pd.read_csv('/srv/data/metadata/tuning/relevant.csv')\n",
    "authorDict = {}\n",
    "for idx,tcpID in enumerate(meta['id']):\n",
    "    if tcpID in features.keys(): \n",
    "        authorDict[tcpID] = []\n",
    "        words = set(meta['author'][idx].split(';'))\n",
    "        words.discard('')\n",
    "        newWords = []\n",
    "        for w in words: \n",
    "            w = w.strip()\n",
    "            if re.search('printer|engraver',w):continue\n",
    "            newWords.append(w)\n",
    "        authorDict[tcpID] = list(set(newWords))\n",
    "for TCPID,authorList in authorDict.items(): \n",
    "    for author in authorList: \n",
    "        if author == 'James, Thomas, 1593?-1635?' : \n",
    "            print(author,': ', TCPID,': ',tobaccoNgrams[TCPID]) \n",
    "        # if author == 'Jonson, Ben, 1573?-1637, attributed name.':\n",
    "        #     print(author,': ', TCPID,': ',tobaccoNgrams[TCPID])\n",
    "        "
   ]
  }
 ],
 "metadata": {
  "kernelspec": {
   "display_name": "Python 3.10.4 ('myPython')",
   "language": "python",
   "name": "python3"
  },
  "language_info": {
   "codemirror_mode": {
    "name": "ipython",
    "version": 3
   },
   "file_extension": ".py",
   "mimetype": "text/x-python",
   "name": "python",
   "nbconvert_exporter": "python",
   "pygments_lexer": "ipython3",
   "version": "3.10.4"
  },
  "orig_nbformat": 4,
  "vscode": {
   "interpreter": {
    "hash": "84aadb223da975688c2cc3670ed5b0d1d9aed0a6c1d8972bdf32d841a4ac1406"
   }
  }
 },
 "nbformat": 4,
 "nbformat_minor": 2
}

{
 "cells": [
  {
   "cell_type": "code",
   "execution_count": 81,
   "metadata": {},
   "outputs": [],
   "source": [
    "import pandas as pd \n",
    "from bs4 import BeautifulSoup\n",
    "import re \n",
    "import os\n",
    "folder = '/Users/amycweng/Downloads/B0'\n",
    "\n",
    "def filterDate(soup):\n",
    "    dateStr = soup.find_all('date')[1].string\n",
    "    intDates = re.search(r'\\d+',dateStr)\n",
    "    if intDates != None:\n",
    "        date = intDates[0]\n",
    "        print(date)\n",
    "        if date in range(1580,1640+1):\n",
    "            return (True,date)\n",
    "    return (False,None)\n",
    "\n",
    "def authors(soup):\n",
    "    authors = soup.find_all('author')\n",
    "    auth = ''\n",
    "    for a in authors:\n",
    "        if auth != '':\n",
    "            auth = auth + '; ' + a.get_text()\n",
    "        else: \n",
    "            auth += a.get_text()\n",
    "    if auth == '':\n",
    "        auth = 'Anonymous'\n",
    "    return auth\n",
    "\n",
    "def pub(soup):\n",
    "    publisher = soup.find_all('publisher')[1].string\n",
    "    pubplace = soup.find_all('pubplace')[1].string\n",
    "    keywords = soup.find_all('keywords')[0].get_text()\n",
    "    pubStr = publisher + '\\n' + pubplace + '\\n' + keywords \n",
    "    return pubStr\n",
    "    # text = soup.find_all('text')[0].get_text()\n",
    "    # return pd.DataFrame(title,auth,pub,date,text)"
   ]
  },
  {
   "cell_type": "code",
   "execution_count": null,
   "metadata": {},
   "outputs": [],
   "source": [
    "outFile = pd.DataFrame(columns=('title','author','publisher','date','text'))\n",
    "\n",
    "count = 0\n",
    "for file in os.listdir(folder):\n",
    "    if count == 10:\n",
    "        break\n",
    "    count += 1\n",
    "    fileName = open(folder+'/'+file,'r')\n",
    "    data = file.read()\n",
    "    soup = BeautifulSoup(data,'html.parser')\n",
    "    # relevant = filterDate(soup)\n",
    "    # if relevant[0]:\n",
    "    #     df = convert(fileName,relevant[1])\n",
    "    #     outFile = outFile.append(df)\n",
    "\n",
    "    "
   ]
  },
  {
   "cell_type": "code",
   "execution_count": 82,
   "metadata": {},
   "outputs": [
    {
     "name": "stdout",
     "output_type": "stream",
     "text": [
      "Printed and sold by Charles Barnet,\n",
      "[London] :\n",
      "Ballads, English --  17th century.Broadsides --  London (England) --  17th century.\n"
     ]
    }
   ],
   "source": [
    "sample = open('/Users/amycweng/ECBC-Data-2022/B31385.P4.xml','r')\n",
    "data = sample.read()\n",
    "soup = BeautifulSoup(data,'html.parser')\n",
    "print(pub(soup))\n"
   ]
  }
 ],
 "metadata": {
  "interpreter": {
   "hash": "40d3a090f54c6569ab1632332b64b2c03c39dcf918b08424e98f38b5ae0af88f"
  },
  "kernelspec": {
   "display_name": "Python 3.9.7 ('base')",
   "language": "python",
   "name": "python3"
  },
  "language_info": {
   "codemirror_mode": {
    "name": "ipython",
    "version": 3
   },
   "file_extension": ".py",
   "mimetype": "text/x-python",
   "name": "python",
   "nbconvert_exporter": "python",
   "pygments_lexer": "ipython3",
   "version": "3.9.7"
  },
  "orig_nbformat": 4
 },
 "nbformat": 4,
 "nbformat_minor": 2
}

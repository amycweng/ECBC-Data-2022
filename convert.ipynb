{
 "cells": [
  {
   "cell_type": "code",
   "execution_count": 155,
   "metadata": {},
   "outputs": [],
   "source": [
    "import pandas as pd \n",
    "from bs4 import BeautifulSoup\n",
    "import re \n",
    "import os\n",
    "from characterCleaner import simple_clean\n",
    "folder = '/Users/amycweng/Downloads/B0'\n",
    "\n",
    "def filterDate(soup):\n",
    "    dateStr = soup.find_all('date')[1].string\n",
    "    intDates = re.findall(r'\\d+',dateStr)\n",
    "    if len(intDates) != 0:\n",
    "        for d in intDates:\n",
    "            if int(d) in range(1580,1640+1):\n",
    "                return (True,int(d))\n",
    "    return (False,None)\n",
    "\n",
    "def authors(soup):\n",
    "    authors = soup.find_all('author')\n",
    "    auth = ''\n",
    "    for a in authors:\n",
    "        if auth != '':\n",
    "            if not re.search(a.get_text(),auth):\n",
    "                auth = auth + '; ' + a.get_text()\n",
    "        else: \n",
    "            auth += a.get_text()\n",
    "    if auth == '':\n",
    "        auth = 'Anonymous'\n",
    "    return auth\n",
    "\n",
    "def pub(soup):\n",
    "    publisher = soup.find_all('publisher')[1].string\n",
    "    pubplace = soup.find_all('pubplace')[1].string\n",
    "    keywords = soup.find_all('keywords')\n",
    "    pubStr = publisher + '\\n' + pubplace\n",
    "    if len(keywords) != 0:\n",
    "        keywords = soup.find_all('keywords')[0].get_text()\n",
    "        pubStr = pubStr + '\\n' + keywords \n",
    "    return pubStr\n",
    "   "
   ]
  },
  {
   "cell_type": "code",
   "execution_count": null,
   "metadata": {},
   "outputs": [],
   "source": [
    "for file in os.listdir(folder):\n",
    "    fileName = open(folder+'/'+file,'r')\n",
    "    data = fileName.read()\n",
    "    soup = BeautifulSoup(data,'html.parser')\n",
    "    relevant = filterDate(soup)\n",
    "    if relevant[0]:\n",
    "        print(relevant[1])\n",
    "     # text = soup.find_all('text')[0].get_text()\n",
    "    # return pd.DataFrame(title,auth,pub,date,text)\n"
   ]
  },
  {
   "cell_type": "code",
   "execution_count": 169,
   "metadata": {},
   "outputs": [
    {
     "data": {
      "text/plain": [
       "'The Alcoran of Mahomet, translated out of Arabique into French; by the sieur Du Ryer, Lord of Malezair, and resident for the King of France, at Alexandria. And newly Englished, for the satisfaction of all that desire to look into the Turkish vanities'"
      ]
     },
     "execution_count": 169,
     "metadata": {},
     "output_type": "execute_result"
    }
   ],
   "source": [
    "# sample = open('/Users/amycweng/ECBC-Data-2022/B25542.P4.xml','r')\n",
    "newFile = simple_clean('/Users/amycweng/ECBC-Data-2022/B25542.P4.xml')\n",
    "soup = BeautifulSoup(newFile,'html.parser')\n",
    "soup.title.string"
   ]
  }
 ],
 "metadata": {
  "interpreter": {
   "hash": "40d3a090f54c6569ab1632332b64b2c03c39dcf918b08424e98f38b5ae0af88f"
  },
  "kernelspec": {
   "display_name": "Python 3.9.7 ('base')",
   "language": "python",
   "name": "python3"
  },
  "language_info": {
   "codemirror_mode": {
    "name": "ipython",
    "version": 3
   },
   "file_extension": ".py",
   "mimetype": "text/x-python",
   "name": "python",
   "nbconvert_exporter": "python",
   "pygments_lexer": "ipython3",
   "version": "3.9.7"
  },
  "orig_nbformat": 4
 },
 "nbformat": 4,
 "nbformat_minor": 2
}

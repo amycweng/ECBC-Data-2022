{
 "cells": [
  {
   "cell_type": "code",
   "execution_count": 17,
   "metadata": {},
   "outputs": [],
   "source": [
    "import pandas as pd \n",
    "from bs4 import BeautifulSoup\n",
    "import re \n",
    "import os\n",
    "from characterCleaner import simple_clean\n",
    "\n",
    "def filterDate(soup):\n",
    "    dateStr = soup.find_all('date')[1].string\n",
    "    intDates = re.findall(r'\\d+',dateStr)\n",
    "    if len(intDates) != 0:\n",
    "        for d in intDates:\n",
    "            if int(d) in range(1580,1640+1):\n",
    "                return (True,int(d))\n",
    "    return (False,None)\n",
    "\n",
    "def authors(soup):\n",
    "    authors = soup.find_all('author')\n",
    "    auth = ''\n",
    "    for a in authors:\n",
    "        if auth != '':\n",
    "            if not re.search(a.get_text(),auth):\n",
    "                auth = auth + '; ' + a.get_text()\n",
    "        else: \n",
    "            auth += a.get_text()\n",
    "    if auth == '':\n",
    "        auth = 'Anonymous'\n",
    "    return auth\n",
    "\n",
    "def pub(soup):\n",
    "    publisher = soup.find_all('publisher')[1].string\n",
    "    pubplace = soup.find_all('pubplace')[1].string\n",
    "    keywords = soup.find_all('keywords')\n",
    "    pubStr = publisher + '\\n' + pubplace\n",
    "    if len(keywords) != 0:\n",
    "        keywords = soup.find_all('keywords')[0].get_text()\n",
    "        pubStr = pubStr + '\\n' + keywords \n",
    "    return pubStr\n",
    "   "
   ]
  },
  {
   "cell_type": "code",
   "execution_count": null,
   "metadata": {},
   "outputs": [],
   "source": [
    "folder = ''\n",
    "for file in os.listdir(folder):\n",
    "    fileName = open(folder+'/'+file,'r')\n",
    "    data = fileName.read()\n",
    "    soup = BeautifulSoup(data,'html.parser')\n",
    "    relevant = filterDate(soup)\n",
    "    if relevant[0]:\n",
    "        print(relevant[1])\n"
   ]
  },
  {
   "cell_type": "code",
   "execution_count": 19,
   "metadata": {},
   "outputs": [
    {
     "name": "stdout",
     "output_type": "stream",
     "text": [
      "   The Vergins Advice TO THE Maids of LONDON. To the Tune of, Oh! that I were but young for you.  OFt have I heard the Wives complain, O that they were but Maids again, Maids and they would marry with none,  For the Maid is the best that lies alone.    What is more sweet than to live free, And to enjoy ones Liberty? Therefore I will marry with none,  For the Maid is the best that lies alone.    Love is a torment in the breast, And will not let a Maiden rest, And the young men now so faithless are grown,  That the maid is the best that lies alone.    When we are Young they praise us all, And their Delights and Darlings call; And yet a Lover I will have none,  For the Maid, etc.    Why should wear Young Cupid's Chain? Why should I grieve and sigh in vain? Now my heart I'm sure is my own,  And the Maid, etc.    Why should the Maidens marry then? Only to please Fantastick men; No one need to make any moan,  And the Maid, etc.    Which is most fine the Rose or thorn? Or that which on some soft Breast is worn; There the fragrant sweetness is gone,  And the Maid, etc.    In a sweet harmless single life, There is no scolding noise or strife, To which the Husbands ever were prone,  Therefore maids are the best, etc.    In lying alone there is no harm, And our maidenheads sure can keep us warm, Therefore Young Virgins keep what's your own,  For the Maid, etc.    I do advise that you touch no man, And you'll be a Maid do what they can, And this I'll lay a hundred to one  That she's the best, etc.    Though men are fond, they're fickle still, And every Jack must have his Jill, Have a Jill, though none of his own,  Therefore Maids are the best, etc.    Cupid is but a silly Toy, An idle Young blind fantastick Boy, Therefore Lovers I will have none,  For the maid, etc.    Therefore Young Damsels learn of me, For to live harmless and live free; But as for Young men meddle with none,  For the Maid is the best that lies alone.    \n"
     ]
    }
   ],
   "source": [
    "# sample = open('/Users/amycweng/ECBC-Data-2022/B25542.P4.xml','r')\n",
    "newFile = simple_clean('/srv/data/B31385.P4.xml')\n",
    "soup = BeautifulSoup(newFile,'html.parser')\n",
    "text = soup.body.get_text()\n",
    "text = text.replace('\\n',' ')\n",
    "print(text)"
   ]
  }
 ],
 "metadata": {
  "interpreter": {
   "hash": "163b8b902ef20465a7ecf57c45ba2fc54a366f8c8d80240b381c6f4fa0585aa7"
  },
  "kernelspec": {
   "display_name": "Python 3.9.12 ('base')",
   "language": "python",
   "name": "python3"
  },
  "language_info": {
   "codemirror_mode": {
    "name": "ipython",
    "version": 3
   },
   "file_extension": ".py",
   "mimetype": "text/x-python",
   "name": "python",
   "nbconvert_exporter": "python",
   "pygments_lexer": "ipython3",
   "version": "3.9.12"
  },
  "orig_nbformat": 4
 },
 "nbformat": 4,
 "nbformat_minor": 2
}

{
 "cells": [
  {
   "cell_type": "code",
   "execution_count": null,
   "metadata": {},
   "outputs": [],
   "source": [
    "'''\n",
    "Put description + links to sources here  \n",
    "https://earlyprint.org/jupyterbook/supervised.html \n",
    "https://www.geeksforgeeks.org/one-vs-rest-strategy-for-multi-class-classification/ \n",
    "http://scikit.ml/userguide.html \n",
    "\n",
    "'''\n",
    "import pandas as pd\n",
    "import numpy as np\n",
    "from functions import getTexts,keywords\n",
    "from sklearn.feature_extraction.text import TfidfVectorizer\n",
    "from sklearn.linear_model import LogisticRegression\n",
    "from sklearn.svm import SVC\n",
    "from sklearn.model_selection import train_test_split, cross_val_score\n",
    "from sklearn.metrics import accuracy_score, confusion_matrix, classification_report\n",
    "from sklearn.multiclass import OneVsRestClassifier\n",
    "from sklearn.multiclass import OneVsOneClassifier\n",
    "import matplotlib.pyplot as plt\n",
    "import seaborn as sns\n",
    "plt.style.use('ggplot')"
   ]
  },
  {
   "cell_type": "code",
   "execution_count": null,
   "metadata": {},
   "outputs": [],
   "source": [
    "fileinfo = getTexts(\"/srv/data/targetCorporaCorrected\")\n",
    "tfidf = TfidfVectorizer(min_df=2, sublinear_tf=True)\n",
    "results = tfidf.fit_transform(fileinfo[0])\n",
    "readable_results = pd.DataFrame(results.toarray(), index=fileinfo[1], columns=tfidf.get_feature_names_out())"
   ]
  },
  {
   "cell_type": "code",
   "execution_count": null,
   "metadata": {},
   "outputs": [],
   "source": [
    "\n",
    "targets=[]\n",
    "missing = ['A10419', 'A10426', 'A58086', 'A80618', 'A34698', 'A34686', 'B20731', 'A19579', 'A68060', 'A43506', 'A57390', 'A70377', 'A86305', 'A91917', 'B14007', 'B24138', 'B24137', 'A09573', 'A15796', 'A08092']\n",
    "kwdict = keywords('/srv/data/metadata/tuning/spreadsheet.csv')\n",
    "kwdict.update(keywords('/srv/data/metadata/tuning/people.csv'))\n",
    "kwdict.update(keywords('/srv/data/metadata/tuning/EPtuning.csv'))\n",
    "kwdict.update(keywords('/srv/data/metadata/tuning/keywords.csv'))\n",
    "for filekey in kwdict.keys():\n",
    "    if filekey not in missing: \n",
    "        kw = kwdict[filekey][0]\n",
    "        levant_terms = ['Turkey', 'Sultan of the Turks', 'Mediterranean Sea', 'Süleyman','Harem',\n",
    "                        'Wars with Persia','Iran','Osman']\n",
    "        eastind_terms = ['East India Company', 'East Indies','India','Indonesia']\n",
    "        virginia_terms = ['Virginia', 'Virginia Company of London','Guyana',\n",
    "                        'Bermuda Islands','Smith Thomas','Raleigh Walter',\n",
    "                        \"Raleigh's Roanoke colonies\",'Pocahontas d','Gilbert Humphrey','Guiana']\n",
    "        religion = ['Church of England','God','Providence and government of God',\n",
    "                    \"Apostles' Creed\",'Christians', 'Church history', 'Christianity', \n",
    "                    'Christianity and other religions','Chronology Historical', 'Holidays', \n",
    "                    'Fasts and feasts', 'Judaism','Demoniac possession','Church history', \n",
    "                    'Christian martyrs', 'Persecution','Catholic Church','Jesus Christ',\n",
    "                    'Monastic and religious life','Reformation', 'Bible']\n",
    "        if any(k in levant_terms for k in kw): targets.append('Levant')\n",
    "        elif any(k in eastind_terms for k in kw): targets.append('East India')\n",
    "        elif any(k in virginia_terms for k in kw): targets.append('Virginia')\n",
    "        elif any(k in religion for k in kw): targets.append('Religion')\n",
    "        else: targets.append('Other')"
   ]
  },
  {
   "cell_type": "code",
   "execution_count": null,
   "metadata": {},
   "outputs": [],
   "source": [
    "X_train, X_test, y_train, y_test = train_test_split(readable_results, targets, test_size=0.45, random_state=42)\n",
    "\n",
    "name = 'Logit ovr'\n",
    "        # 'SVC ovr'\n",
    "        # 'Logit ovo' \n",
    "        # 'SVC ovo'\n",
    "\n",
    "classifier = OneVsRestClassifier(LogisticRegression())\n",
    "    # SVC(decision_function_shape='ovr') #2 minutes \n",
    "    # OneVsOneClassifier(LogisticRegression())\n",
    "    # OneVsOneClassifier(SVC()) \n",
    "\n",
    "print(name)\n",
    "clf = classifier.fit(X_train, y_train)\n",
    "score = clf.score(X_test, y_test)\n",
    "prediction = clf.predict(X_test)\n",
    "print(f\"Test Set Accuracy : {accuracy_score(y_test, prediction)}\")\n",
    "# print(\"TCP ID | Actual Category | Predicted Category\")\n",
    "reals, pred = [],[]\n",
    "for title, real, predicted in zip(X_test.index, y_test, prediction):\n",
    "    # print(f\"{title} | {real} | {predicted}\")\n",
    "    reals.append(real)\n",
    "    pred.append(predicted)\n",
    "# print(\"Cross validation score:\", np.mean(cross_val_score(model, readable_results, targets, cv=5)))\n",
    "cm = confusion_matrix(y_test,prediction)\n",
    "cm_df = pd.DataFrame(cm, columns=clf.classes_, index=clf.classes_)\n",
    "f, ax = plt.subplots(figsize=(15, 5))\n",
    "sns.heatmap(cm_df,annot=True,cmap='Greens',linewidths=.5)\n",
    "# print(classification_report(y_test, prediction, target_names=clf.classes_))\n",
    "# print(f\"Classification Report : \\n\\n{classification_report(y_test, prediction)}\")\n",
    "from collections import Counter \n",
    "print(Counter(reals))\n",
    "print(Counter(pred))\n"
   ]
  }
 ],
 "metadata": {
  "kernelspec": {
   "display_name": "Python 3.9.12 ('base')",
   "language": "python",
   "name": "python3"
  },
  "language_info": {
   "codemirror_mode": {
    "name": "ipython",
    "version": 3
   },
   "file_extension": ".py",
   "mimetype": "text/x-python",
   "name": "python",
   "nbconvert_exporter": "python",
   "pygments_lexer": "ipython3",
   "version": "3.9.12"
  },
  "orig_nbformat": 4,
  "vscode": {
   "interpreter": {
    "hash": "163b8b902ef20465a7ecf57c45ba2fc54a366f8c8d80240b381c6f4fa0585aa7"
   }
  }
 },
 "nbformat": 4,
 "nbformat_minor": 2
}
